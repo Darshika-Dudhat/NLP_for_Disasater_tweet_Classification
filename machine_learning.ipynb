{
 "cells": [
  {
   "cell_type": "markdown",
   "metadata": {},
   "source": [
    "### Disaster Tweet Classification ###"
   ]
  },
  {
   "cell_type": "code",
   "execution_count": 135,
   "metadata": {},
   "outputs": [],
   "source": [
    "import pandas as pd\n",
    "import numpy as np\n",
    "import matplotlib.pyplot as plt\n",
    "import seaborn as sns"
   ]
  },
  {
   "cell_type": "code",
   "execution_count": 136,
   "metadata": {},
   "outputs": [],
   "source": [
    "from collections import Counter\n",
    "import nltk\n",
    "from nltk.util import ngrams\n",
    "from nltk.corpus import stopwords\n",
    "from wordcloud import WordCloud\n",
    "from sklearn.feature_extraction.text import CountVectorizer"
   ]
  },
  {
   "cell_type": "code",
   "execution_count": 137,
   "metadata": {},
   "outputs": [],
   "source": [
    "import re\n",
    "from sklearn.naive_bayes import MultinomialNB\n",
    "from sklearn.model_selection import train_test_split\n",
    "from sklearn.preprocessing import LabelEncoder"
   ]
  },
  {
   "cell_type": "code",
   "execution_count": 138,
   "metadata": {},
   "outputs": [],
   "source": [
    "from sklearn.feature_extraction.text import TfidfVectorizer\n",
    "from textblob import TextBlob\n",
    "from sklearn.feature_extraction.text import CountVectorizer\n",
    "import spacy\n",
    "from sklearn.decomposition import LatentDirichletAllocation"
   ]
  },
  {
   "cell_type": "code",
   "execution_count": 139,
   "metadata": {},
   "outputs": [],
   "source": [
    "from sklearn.preprocessing import LabelEncoder, StandardScaler\n",
    "from sklearn.svm import SVC\n",
    "from sklearn.neural_network import MLPClassifier\n",
    "#from sklearn.naive_bayes import MultinomialNB\n",
    "from sklearn.linear_model import LogisticRegression\n",
    "from sklearn.ensemble import RandomForestClassifier\n",
    "from sklearn.model_selection import cross_val_score\n",
    "from sklearn.metrics import accuracy_score, precision_score, recall_score, f1_score, r2_score, confusion_matrix\n",
    "from sklearn.model_selection import cross_val_score, GridSearchCV"
   ]
  },
  {
   "cell_type": "code",
   "execution_count": 140,
   "metadata": {},
   "outputs": [],
   "source": [
    "file_path = './Dataset.csv'\n",
    "Data = pd.read_csv(file_path)"
   ]
  },
  {
   "cell_type": "code",
   "execution_count": 141,
   "metadata": {},
   "outputs": [
    {
     "data": {
      "text/html": [
       "<div>\n",
       "<style scoped>\n",
       "    .dataframe tbody tr th:only-of-type {\n",
       "        vertical-align: middle;\n",
       "    }\n",
       "\n",
       "    .dataframe tbody tr th {\n",
       "        vertical-align: top;\n",
       "    }\n",
       "\n",
       "    .dataframe thead th {\n",
       "        text-align: right;\n",
       "    }\n",
       "</style>\n",
       "<table border=\"1\" class=\"dataframe\">\n",
       "  <thead>\n",
       "    <tr style=\"text-align: right;\">\n",
       "      <th></th>\n",
       "      <th>id</th>\n",
       "      <th>keyword</th>\n",
       "      <th>location</th>\n",
       "      <th>text</th>\n",
       "      <th>target</th>\n",
       "    </tr>\n",
       "  </thead>\n",
       "  <tbody>\n",
       "    <tr>\n",
       "      <th>0</th>\n",
       "      <td>1</td>\n",
       "      <td>NaN</td>\n",
       "      <td>NaN</td>\n",
       "      <td>Our Deeds are the Reason of this #earthquake M...</td>\n",
       "      <td>1</td>\n",
       "    </tr>\n",
       "    <tr>\n",
       "      <th>1</th>\n",
       "      <td>4</td>\n",
       "      <td>NaN</td>\n",
       "      <td>NaN</td>\n",
       "      <td>Forest fire near La Ronge Sask. Canada</td>\n",
       "      <td>1</td>\n",
       "    </tr>\n",
       "    <tr>\n",
       "      <th>2</th>\n",
       "      <td>5</td>\n",
       "      <td>NaN</td>\n",
       "      <td>NaN</td>\n",
       "      <td>All residents asked to 'shelter in place' are ...</td>\n",
       "      <td>1</td>\n",
       "    </tr>\n",
       "    <tr>\n",
       "      <th>3</th>\n",
       "      <td>6</td>\n",
       "      <td>NaN</td>\n",
       "      <td>NaN</td>\n",
       "      <td>13,000 people receive #wildfires evacuation or...</td>\n",
       "      <td>1</td>\n",
       "    </tr>\n",
       "    <tr>\n",
       "      <th>4</th>\n",
       "      <td>7</td>\n",
       "      <td>NaN</td>\n",
       "      <td>NaN</td>\n",
       "      <td>Just got sent this photo from Ruby #Alaska as ...</td>\n",
       "      <td>1</td>\n",
       "    </tr>\n",
       "  </tbody>\n",
       "</table>\n",
       "</div>"
      ],
      "text/plain": [
       "   id keyword location                                               text  \\\n",
       "0   1     NaN      NaN  Our Deeds are the Reason of this #earthquake M...   \n",
       "1   4     NaN      NaN             Forest fire near La Ronge Sask. Canada   \n",
       "2   5     NaN      NaN  All residents asked to 'shelter in place' are ...   \n",
       "3   6     NaN      NaN  13,000 people receive #wildfires evacuation or...   \n",
       "4   7     NaN      NaN  Just got sent this photo from Ruby #Alaska as ...   \n",
       "\n",
       "   target  \n",
       "0       1  \n",
       "1       1  \n",
       "2       1  \n",
       "3       1  \n",
       "4       1  "
      ]
     },
     "execution_count": 141,
     "metadata": {},
     "output_type": "execute_result"
    }
   ],
   "source": [
    "Data.head()"
   ]
  },
  {
   "cell_type": "code",
   "execution_count": 142,
   "metadata": {},
   "outputs": [
    {
     "data": {
      "text/plain": [
       "Index(['id', 'keyword', 'location', 'text', 'target'], dtype='object')"
      ]
     },
     "execution_count": 142,
     "metadata": {},
     "output_type": "execute_result"
    }
   ],
   "source": [
    "Data.columns"
   ]
  },
  {
   "cell_type": "code",
   "execution_count": 143,
   "metadata": {},
   "outputs": [
    {
     "data": {
      "text/html": [
       "<div>\n",
       "<style scoped>\n",
       "    .dataframe tbody tr th:only-of-type {\n",
       "        vertical-align: middle;\n",
       "    }\n",
       "\n",
       "    .dataframe tbody tr th {\n",
       "        vertical-align: top;\n",
       "    }\n",
       "\n",
       "    .dataframe thead th {\n",
       "        text-align: right;\n",
       "    }\n",
       "</style>\n",
       "<table border=\"1\" class=\"dataframe\">\n",
       "  <thead>\n",
       "    <tr style=\"text-align: right;\">\n",
       "      <th></th>\n",
       "      <th>id</th>\n",
       "      <th>target</th>\n",
       "    </tr>\n",
       "  </thead>\n",
       "  <tbody>\n",
       "    <tr>\n",
       "      <th>count</th>\n",
       "      <td>7613.000000</td>\n",
       "      <td>7613.00000</td>\n",
       "    </tr>\n",
       "    <tr>\n",
       "      <th>mean</th>\n",
       "      <td>5441.934848</td>\n",
       "      <td>0.42966</td>\n",
       "    </tr>\n",
       "    <tr>\n",
       "      <th>std</th>\n",
       "      <td>3137.116090</td>\n",
       "      <td>0.49506</td>\n",
       "    </tr>\n",
       "    <tr>\n",
       "      <th>min</th>\n",
       "      <td>1.000000</td>\n",
       "      <td>0.00000</td>\n",
       "    </tr>\n",
       "    <tr>\n",
       "      <th>25%</th>\n",
       "      <td>2734.000000</td>\n",
       "      <td>0.00000</td>\n",
       "    </tr>\n",
       "    <tr>\n",
       "      <th>50%</th>\n",
       "      <td>5408.000000</td>\n",
       "      <td>0.00000</td>\n",
       "    </tr>\n",
       "    <tr>\n",
       "      <th>75%</th>\n",
       "      <td>8146.000000</td>\n",
       "      <td>1.00000</td>\n",
       "    </tr>\n",
       "    <tr>\n",
       "      <th>max</th>\n",
       "      <td>10873.000000</td>\n",
       "      <td>1.00000</td>\n",
       "    </tr>\n",
       "  </tbody>\n",
       "</table>\n",
       "</div>"
      ],
      "text/plain": [
       "                 id      target\n",
       "count   7613.000000  7613.00000\n",
       "mean    5441.934848     0.42966\n",
       "std     3137.116090     0.49506\n",
       "min        1.000000     0.00000\n",
       "25%     2734.000000     0.00000\n",
       "50%     5408.000000     0.00000\n",
       "75%     8146.000000     1.00000\n",
       "max    10873.000000     1.00000"
      ]
     },
     "execution_count": 143,
     "metadata": {},
     "output_type": "execute_result"
    }
   ],
   "source": [
    "Data.describe()"
   ]
  },
  {
   "cell_type": "code",
   "execution_count": 144,
   "metadata": {},
   "outputs": [
    {
     "name": "stdout",
     "output_type": "stream",
     "text": [
      "<class 'pandas.core.frame.DataFrame'>\n",
      "RangeIndex: 7613 entries, 0 to 7612\n",
      "Data columns (total 5 columns):\n",
      " #   Column    Non-Null Count  Dtype \n",
      "---  ------    --------------  ----- \n",
      " 0   id        7613 non-null   int64 \n",
      " 1   keyword   7552 non-null   object\n",
      " 2   location  5079 non-null   object\n",
      " 3   text      7613 non-null   object\n",
      " 4   target    7613 non-null   int64 \n",
      "dtypes: int64(2), object(3)\n",
      "memory usage: 297.5+ KB\n"
     ]
    }
   ],
   "source": [
    "dataset_info = Data.info()"
   ]
  },
  {
   "cell_type": "code",
   "execution_count": 145,
   "metadata": {},
   "outputs": [],
   "source": [
    "dataset_info"
   ]
  },
  {
   "cell_type": "code",
   "execution_count": 146,
   "metadata": {},
   "outputs": [
    {
     "data": {
      "text/plain": [
       "id           int64\n",
       "keyword     object\n",
       "location    object\n",
       "text        object\n",
       "target       int64\n",
       "dtype: object"
      ]
     },
     "execution_count": 146,
     "metadata": {},
     "output_type": "execute_result"
    }
   ],
   "source": [
    "Data.dtypes"
   ]
  },
  {
   "cell_type": "code",
   "execution_count": 147,
   "metadata": {},
   "outputs": [
    {
     "data": {
      "text/plain": [
       "(7613, 5)"
      ]
     },
     "execution_count": 147,
     "metadata": {},
     "output_type": "execute_result"
    }
   ],
   "source": [
    "Data.shape"
   ]
  },
  {
   "cell_type": "code",
   "execution_count": 148,
   "metadata": {},
   "outputs": [
    {
     "data": {
      "text/plain": [
       "np.int64(10873)"
      ]
     },
     "execution_count": 148,
     "metadata": {},
     "output_type": "execute_result"
    }
   ],
   "source": [
    "Data['id'].max()"
   ]
  },
  {
   "cell_type": "code",
   "execution_count": 149,
   "metadata": {},
   "outputs": [
    {
     "data": {
      "text/plain": [
       "True"
      ]
     },
     "execution_count": 149,
     "metadata": {},
     "output_type": "execute_result"
    }
   ],
   "source": [
    "# There are no Duplicate ids in the Dataset\n",
    "Data['id'].is_unique"
   ]
  },
  {
   "cell_type": "code",
   "execution_count": 150,
   "metadata": {},
   "outputs": [],
   "source": [
    "missing_ids = 10873 - 7613  "
   ]
  },
  {
   "cell_type": "code",
   "execution_count": 151,
   "metadata": {},
   "outputs": [
    {
     "data": {
      "text/plain": [
       "3260"
      ]
     },
     "execution_count": 151,
     "metadata": {},
     "output_type": "execute_result"
    }
   ],
   "source": [
    "# ≈ 3260 IDs are missing/skipped\n",
    "missing_ids"
   ]
  },
  {
   "cell_type": "code",
   "execution_count": 152,
   "metadata": {},
   "outputs": [
    {
     "data": {
      "text/plain": [
       "id             0\n",
       "keyword       61\n",
       "location    2534\n",
       "text           0\n",
       "target         0\n",
       "dtype: int64"
      ]
     },
     "execution_count": 152,
     "metadata": {},
     "output_type": "execute_result"
    }
   ],
   "source": [
    "Data.isna().sum()"
   ]
  },
  {
   "cell_type": "code",
   "execution_count": 153,
   "metadata": {},
   "outputs": [],
   "source": [
    "# Handle the NUll values by replacing then with 'unknown'\n",
    "Data['keyword'] = Data['keyword'].fillna('unknown')\n",
    "Data['location'] = Data['location'].fillna('unknown')"
   ]
  },
  {
   "cell_type": "code",
   "execution_count": 154,
   "metadata": {},
   "outputs": [
    {
     "data": {
      "text/plain": [
       "id          0\n",
       "keyword     0\n",
       "location    0\n",
       "text        0\n",
       "target      0\n",
       "dtype: int64"
      ]
     },
     "execution_count": 154,
     "metadata": {},
     "output_type": "execute_result"
    }
   ],
   "source": [
    "Data.isna().sum()"
   ]
  },
  {
   "cell_type": "code",
   "execution_count": 155,
   "metadata": {},
   "outputs": [],
   "source": [
    "# Check the distribution of the 'target' column (disaster vs. non-disaster tweets)\n",
    "class_distribution = Data['target'].value_counts()"
   ]
  },
  {
   "cell_type": "code",
   "execution_count": 156,
   "metadata": {},
   "outputs": [
    {
     "data": {
      "text/plain": [
       "target\n",
       "0    4342\n",
       "1    3271\n",
       "Name: count, dtype: int64"
      ]
     },
     "execution_count": 156,
     "metadata": {},
     "output_type": "execute_result"
    }
   ],
   "source": [
    "class_distribution"
   ]
  },
  {
   "cell_type": "code",
   "execution_count": 157,
   "metadata": {},
   "outputs": [
    {
     "data": {
      "image/png": "[encoded data removed]",
      "text/plain": [
       "<Figure size 640x480 with 1 Axes>"
      ]
     },
     "metadata": {},
     "output_type": "display_data"
    }
   ],
   "source": [
    "# Plot the distribution\n",
    "plt.Figure(figsize=(8, 6))\n",
    "sns.barplot(x=class_distribution.index, y=class_distribution.values, palette='Set2' ,hue =class_distribution)\n",
    "plt.title('Distribution of Disaster vs Non-Disaster Tweets')\n",
    "plt.xlabel('Class (0: Non-Disaster, 1: Disaster)')\n",
    "plt.ylabel('Number of Tweets')\n",
    "plt.xticks(ticks=[0, 1], labels=['Non-Disaster', 'Disaster'])\n",
    "plt.show()"
   ]
  },
  {
   "cell_type": "markdown",
   "metadata": {},
   "source": [
    "Analyze the frequency of keywords and phrases associated with disaster\n",
    "tweets."
   ]
  },
  {
   "cell_type": "code",
   "execution_count": 158,
   "metadata": {},
   "outputs": [],
   "source": [
    "# 2. Word Frequency Analysis\n",
    "# Separate disaster and non-disaster tweets\n",
    "disaster_tweets = Data[Data['target'] == 1]['text']\n",
    "non_disaster_tweets = Data[Data['target'] == 0]['text']"
   ]
  },
  {
   "cell_type": "code",
   "execution_count": 159,
   "metadata": {},
   "outputs": [
    {
     "data": {
      "text/plain": [
       "(0       Our Deeds are the Reason of this #earthquake M...\n",
       " 1                  Forest fire near La Ronge Sask. Canada\n",
       " 2       All residents asked to 'shelter in place' are ...\n",
       " 3       13,000 people receive #wildfires evacuation or...\n",
       " 4       Just got sent this photo from Ruby #Alaska as ...\n",
       "                               ...                        \n",
       " 7608    Two giant cranes holding a bridge collapse int...\n",
       " 7609    @aria_ahrary @TheTawniest The out of control w...\n",
       " 7610    M1.94 [01:04 UTC]?5km S of Volcano Hawaii. htt...\n",
       " 7611    Police investigating after an e-bike collided ...\n",
       " 7612    The Latest: More Homes Razed by Northern Calif...\n",
       " Name: text, Length: 3271, dtype: object,\n",
       " 15                                         What's up man?\n",
       " 16                                          I love fruits\n",
       " 17                                       Summer is lovely\n",
       " 18                                      My car is so fast\n",
       " 19                           What a goooooooaaaaaal!!!!!!\n",
       "                               ...                        \n",
       " 7581    @engineshed Great atmosphere at the British Li...\n",
       " 7582    Cramer: Iger's 3 words that wrecked Disney's s...\n",
       " 7584    These boxes are ready to explode! Exploding Ki...\n",
       " 7587                                   Sirens everywhere!\n",
       " 7593    I just heard a really loud bang and everyone i...\n",
       " Name: text, Length: 4342, dtype: object)"
      ]
     },
     "execution_count": 159,
     "metadata": {},
     "output_type": "execute_result"
    }
   ],
   "source": [
    "disaster_tweets,non_disaster_tweets"
   ]
  },
  {
   "cell_type": "code",
   "execution_count": 160,
   "metadata": {},
   "outputs": [],
   "source": [
    "# Use CountVectorizer to get the frequency of words in disaster tweets\n",
    "disaster_vectorizer = CountVectorizer(stop_words='english', max_features=20)\n",
    "temp_dd = disaster_vectorizer.fit_transform(disaster_tweets)"
   ]
  },
  {
   "cell_type": "code",
   "execution_count": 161,
   "metadata": {},
   "outputs": [],
   "source": [
    "# Get the most frequent words\n",
    "disaster_word_frequencies = temp_dd.sum(axis=0).A1\n",
    "disaster_words = disaster_vectorizer.get_feature_names_out()"
   ]
  },
  {
   "cell_type": "code",
   "execution_count": 162,
   "metadata": {},
   "outputs": [
    {
     "data": {
      "text/plain": [
       "array(['amp', 'bomb', 'california', 'crash', 'disaster', 'families',\n",
       "       'fires', 'hiroshima', 'http', 'https', 'just', 'killed', 'like',\n",
       "       'news', 'people', 'police', 'storm', 'suicide', 'train', 'û_'],\n",
       "      dtype=object)"
      ]
     },
     "execution_count": 162,
     "metadata": {},
     "output_type": "execute_result"
    }
   ],
   "source": [
    "disaster_words"
   ]
  },
  {
   "cell_type": "code",
   "execution_count": 163,
   "metadata": {},
   "outputs": [],
   "source": [
    "# Create a DataFrame of words and their frequencies\n",
    "word_freq_df = pd.DataFrame({'Word': disaster_words, 'Frequency': disaster_word_frequencies})\n",
    "word_freq_df = word_freq_df.sort_values(by='Frequency', ascending=False)"
   ]
  },
  {
   "cell_type": "code",
   "execution_count": 164,
   "metadata": {},
   "outputs": [
    {
     "data": {
      "text/html": [
       "<div>\n",
       "<style scoped>\n",
       "    .dataframe tbody tr th:only-of-type {\n",
       "        vertical-align: middle;\n",
       "    }\n",
       "\n",
       "    .dataframe tbody tr th {\n",
       "        vertical-align: top;\n",
       "    }\n",
       "\n",
       "    .dataframe thead th {\n",
       "        text-align: right;\n",
       "    }\n",
       "</style>\n",
       "<table border=\"1\" class=\"dataframe\">\n",
       "  <thead>\n",
       "    <tr style=\"text-align: right;\">\n",
       "      <th></th>\n",
       "      <th>Word</th>\n",
       "      <th>Frequency</th>\n",
       "    </tr>\n",
       "  </thead>\n",
       "  <tbody>\n",
       "    <tr>\n",
       "      <th>8</th>\n",
       "      <td>http</td>\n",
       "      <td>2263</td>\n",
       "    </tr>\n",
       "    <tr>\n",
       "      <th>19</th>\n",
       "      <td>û_</td>\n",
       "      <td>164</td>\n",
       "    </tr>\n",
       "    <tr>\n",
       "      <th>0</th>\n",
       "      <td>amp</td>\n",
       "      <td>130</td>\n",
       "    </tr>\n",
       "    <tr>\n",
       "      <th>13</th>\n",
       "      <td>news</td>\n",
       "      <td>127</td>\n",
       "    </tr>\n",
       "    <tr>\n",
       "      <th>4</th>\n",
       "      <td>disaster</td>\n",
       "      <td>118</td>\n",
       "    </tr>\n",
       "    <tr>\n",
       "      <th>9</th>\n",
       "      <td>https</td>\n",
       "      <td>116</td>\n",
       "    </tr>\n",
       "    <tr>\n",
       "      <th>2</th>\n",
       "      <td>california</td>\n",
       "      <td>114</td>\n",
       "    </tr>\n",
       "    <tr>\n",
       "      <th>17</th>\n",
       "      <td>suicide</td>\n",
       "      <td>111</td>\n",
       "    </tr>\n",
       "    <tr>\n",
       "      <th>15</th>\n",
       "      <td>police</td>\n",
       "      <td>107</td>\n",
       "    </tr>\n",
       "    <tr>\n",
       "      <th>14</th>\n",
       "      <td>people</td>\n",
       "      <td>103</td>\n",
       "    </tr>\n",
       "    <tr>\n",
       "      <th>11</th>\n",
       "      <td>killed</td>\n",
       "      <td>94</td>\n",
       "    </tr>\n",
       "    <tr>\n",
       "      <th>12</th>\n",
       "      <td>like</td>\n",
       "      <td>91</td>\n",
       "    </tr>\n",
       "    <tr>\n",
       "      <th>7</th>\n",
       "      <td>hiroshima</td>\n",
       "      <td>91</td>\n",
       "    </tr>\n",
       "    <tr>\n",
       "      <th>10</th>\n",
       "      <td>just</td>\n",
       "      <td>86</td>\n",
       "    </tr>\n",
       "    <tr>\n",
       "      <th>16</th>\n",
       "      <td>storm</td>\n",
       "      <td>86</td>\n",
       "    </tr>\n",
       "    <tr>\n",
       "      <th>6</th>\n",
       "      <td>fires</td>\n",
       "      <td>85</td>\n",
       "    </tr>\n",
       "    <tr>\n",
       "      <th>3</th>\n",
       "      <td>crash</td>\n",
       "      <td>84</td>\n",
       "    </tr>\n",
       "    <tr>\n",
       "      <th>5</th>\n",
       "      <td>families</td>\n",
       "      <td>81</td>\n",
       "    </tr>\n",
       "    <tr>\n",
       "      <th>18</th>\n",
       "      <td>train</td>\n",
       "      <td>77</td>\n",
       "    </tr>\n",
       "    <tr>\n",
       "      <th>1</th>\n",
       "      <td>bomb</td>\n",
       "      <td>73</td>\n",
       "    </tr>\n",
       "  </tbody>\n",
       "</table>\n",
       "</div>"
      ],
      "text/plain": [
       "          Word  Frequency\n",
       "8         http       2263\n",
       "19          û_        164\n",
       "0          amp        130\n",
       "13        news        127\n",
       "4     disaster        118\n",
       "9        https        116\n",
       "2   california        114\n",
       "17     suicide        111\n",
       "15      police        107\n",
       "14      people        103\n",
       "11      killed         94\n",
       "12        like         91\n",
       "7    hiroshima         91\n",
       "10        just         86\n",
       "16       storm         86\n",
       "6        fires         85\n",
       "3        crash         84\n",
       "5     families         81\n",
       "18       train         77\n",
       "1         bomb         73"
      ]
     },
     "execution_count": 164,
     "metadata": {},
     "output_type": "execute_result"
    }
   ],
   "source": [
    "word_freq_df"
   ]
  },
  {
   "cell_type": "markdown",
   "metadata": {},
   "source": [
    "### Data Preparation ###"
   ]
  },
  {
   "cell_type": "markdown",
   "metadata": {},
   "source": [
    "Clean the text data by removing special characters, URLs, and punctuation marks."
   ]
  },
  {
   "cell_type": "code",
   "execution_count": 165,
   "metadata": {},
   "outputs": [],
   "source": [
    "def clean_text(text):\n",
    "    text = re.sub(r'http\\S+|www\\S+https\\S+','',text)\n",
    "    text = re.sub(r'[^a-zA-Z\\s]','',text)\n",
    "    text = text.lower()\n",
    "    return text"
   ]
  },
  {
   "cell_type": "code",
   "execution_count": 166,
   "metadata": {},
   "outputs": [],
   "source": [
    "# Apply the text cleaning\n",
    "Data['cleaned_text'] = Data['text'].apply(clean_text)"
   ]
  },
  {
   "cell_type": "code",
   "execution_count": 167,
   "metadata": {},
   "outputs": [
    {
     "data": {
      "text/plain": [
       "0       our deeds are the reason of this earthquake ma...\n",
       "1                   forest fire near la ronge sask canada\n",
       "2       all residents asked to shelter in place are be...\n",
       "3        people receive wildfires evacuation orders in...\n",
       "4       just got sent this photo from ruby alaska as s...\n",
       "                              ...                        \n",
       "7608    two giant cranes holding a bridge collapse int...\n",
       "7609    ariaahrary thetawniest the out of control wild...\n",
       "7610                        m  utckm s of volcano hawaii \n",
       "7611    police investigating after an ebike collided w...\n",
       "7612    the latest more homes razed by northern califo...\n",
       "Name: cleaned_text, Length: 7613, dtype: object"
      ]
     },
     "execution_count": 167,
     "metadata": {},
     "output_type": "execute_result"
    }
   ],
   "source": [
    "Data['cleaned_text']"
   ]
  },
  {
   "cell_type": "markdown",
   "metadata": {},
   "source": [
    "Tokenize the text into individual words or tokens."
   ]
  },
  {
   "cell_type": "code",
   "execution_count": 168,
   "metadata": {},
   "outputs": [],
   "source": [
    "Data['tokens'] = Data['cleaned_text'].apply(lambda x: x.split())"
   ]
  },
  {
   "cell_type": "code",
   "execution_count": 169,
   "metadata": {},
   "outputs": [
    {
     "data": {
      "text/plain": [
       "0    [our, deeds, are, the, reason, of, this, earth...\n",
       "1        [forest, fire, near, la, ronge, sask, canada]\n",
       "2    [all, residents, asked, to, shelter, in, place...\n",
       "3    [people, receive, wildfires, evacuation, order...\n",
       "4    [just, got, sent, this, photo, from, ruby, ala...\n",
       "Name: tokens, dtype: object"
      ]
     },
     "execution_count": 169,
     "metadata": {},
     "output_type": "execute_result"
    }
   ],
   "source": [
    "Data['tokens'].head()"
   ]
  },
  {
   "cell_type": "code",
   "execution_count": 170,
   "metadata": {},
   "outputs": [
    {
     "name": "stdout",
     "output_type": "stream",
     "text": [
      "Dataset saved as CSV successfully!\n"
     ]
    }
   ],
   "source": [
    "# Save the preprocessed DataFrame as a CSV file\n",
    "Data.to_csv('preprocessed_dataset.csv', index=False)\n",
    "\n",
    "print(\"Dataset saved as CSV successfully!\")"
   ]
  },
  {
   "cell_type": "markdown",
   "metadata": {},
   "source": [
    "-------------------------------------"
   ]
  },
  {
   "cell_type": "markdown",
   "metadata": {},
   "source": [
    "Split the dataset into training and testing sets for model development and\n",
    "evaluation."
   ]
  },
  {
   "cell_type": "markdown",
   "metadata": {},
   "source": [
    "- Since the task is to classify tweets as either disaster-related or not based on their content, the most relevant feature is the text itself. The 'text' contains the information (words, phrases) that the model will analyze to make predictions.\n",
    "- The other columns (like 'id', 'keyword', 'location') are less likely to help in determining whether a tweet is related to a disaster. In fact, including irrelevant columns could lead to noise and potentially hurt the model's performance."
   ]
  },
  {
   "cell_type": "code",
   "execution_count": 171,
   "metadata": {},
   "outputs": [],
   "source": [
    "# Split the data into feature(x) and target(y)\n",
    "x= Data['cleaned_text'] # Features: cleaned_text\n",
    "y= Data['target'] #Target:0 for non-disaster , 1 for Disaster"
   ]
  },
  {
   "cell_type": "code",
   "execution_count": 172,
   "metadata": {},
   "outputs": [],
   "source": [
    "# Split the Data into 80% training and 20% testing\n",
    "x_train, x_test, y_train, y_test = train_test_split(x, y, test_size=0.2, random_state= 42)"
   ]
  },
  {
   "cell_type": "code",
   "execution_count": 173,
   "metadata": {},
   "outputs": [
    {
     "data": {
      "text/html": [
       "<div>\n",
       "<style scoped>\n",
       "    .dataframe tbody tr th:only-of-type {\n",
       "        vertical-align: middle;\n",
       "    }\n",
       "\n",
       "    .dataframe tbody tr th {\n",
       "        vertical-align: top;\n",
       "    }\n",
       "\n",
       "    .dataframe thead th {\n",
       "        text-align: right;\n",
       "    }\n",
       "</style>\n",
       "<table border=\"1\" class=\"dataframe\">\n",
       "  <thead>\n",
       "    <tr style=\"text-align: right;\">\n",
       "      <th></th>\n",
       "      <th>text</th>\n",
       "      <th>cleaned_text</th>\n",
       "      <th>tokens</th>\n",
       "      <th>target</th>\n",
       "    </tr>\n",
       "  </thead>\n",
       "  <tbody>\n",
       "    <tr>\n",
       "      <th>0</th>\n",
       "      <td>Our Deeds are the Reason of this #earthquake M...</td>\n",
       "      <td>our deeds are the reason of this earthquake ma...</td>\n",
       "      <td>[our, deeds, are, the, reason, of, this, earth...</td>\n",
       "      <td>1</td>\n",
       "    </tr>\n",
       "    <tr>\n",
       "      <th>1</th>\n",
       "      <td>Forest fire near La Ronge Sask. Canada</td>\n",
       "      <td>forest fire near la ronge sask canada</td>\n",
       "      <td>[forest, fire, near, la, ronge, sask, canada]</td>\n",
       "      <td>1</td>\n",
       "    </tr>\n",
       "    <tr>\n",
       "      <th>2</th>\n",
       "      <td>All residents asked to 'shelter in place' are ...</td>\n",
       "      <td>all residents asked to shelter in place are be...</td>\n",
       "      <td>[all, residents, asked, to, shelter, in, place...</td>\n",
       "      <td>1</td>\n",
       "    </tr>\n",
       "    <tr>\n",
       "      <th>3</th>\n",
       "      <td>13,000 people receive #wildfires evacuation or...</td>\n",
       "      <td>people receive wildfires evacuation orders in...</td>\n",
       "      <td>[people, receive, wildfires, evacuation, order...</td>\n",
       "      <td>1</td>\n",
       "    </tr>\n",
       "    <tr>\n",
       "      <th>4</th>\n",
       "      <td>Just got sent this photo from Ruby #Alaska as ...</td>\n",
       "      <td>just got sent this photo from ruby alaska as s...</td>\n",
       "      <td>[just, got, sent, this, photo, from, ruby, ala...</td>\n",
       "      <td>1</td>\n",
       "    </tr>\n",
       "  </tbody>\n",
       "</table>\n",
       "</div>"
      ],
      "text/plain": [
       "                                                text  \\\n",
       "0  Our Deeds are the Reason of this #earthquake M...   \n",
       "1             Forest fire near La Ronge Sask. Canada   \n",
       "2  All residents asked to 'shelter in place' are ...   \n",
       "3  13,000 people receive #wildfires evacuation or...   \n",
       "4  Just got sent this photo from Ruby #Alaska as ...   \n",
       "\n",
       "                                        cleaned_text  \\\n",
       "0  our deeds are the reason of this earthquake ma...   \n",
       "1              forest fire near la ronge sask canada   \n",
       "2  all residents asked to shelter in place are be...   \n",
       "3   people receive wildfires evacuation orders in...   \n",
       "4  just got sent this photo from ruby alaska as s...   \n",
       "\n",
       "                                              tokens  target  \n",
       "0  [our, deeds, are, the, reason, of, this, earth...       1  \n",
       "1      [forest, fire, near, la, ronge, sask, canada]       1  \n",
       "2  [all, residents, asked, to, shelter, in, place...       1  \n",
       "3  [people, receive, wildfires, evacuation, order...       1  \n",
       "4  [just, got, sent, this, photo, from, ruby, ala...       1  "
      ]
     },
     "execution_count": 173,
     "metadata": {},
     "output_type": "execute_result"
    }
   ],
   "source": [
    "# Show the first few rows of the cleaned data\n",
    "Data[['text', 'cleaned_text', 'tokens', 'target']].head()"
   ]
  },
  {
   "cell_type": "markdown",
   "metadata": {},
   "source": [
    "***Exploratory Data Analysis(EDA)***"
   ]
  },
  {
   "cell_type": "code",
   "execution_count": 174,
   "metadata": {},
   "outputs": [],
   "source": [
    "## Distribution of Tweet lengths\n",
    "\n",
    "# Add a column for tweet length(number of words)\n",
    "Data['tweet_length'] = Data['tokens'].apply(len)"
   ]
  },
  {
   "cell_type": "code",
   "execution_count": 175,
   "metadata": {},
   "outputs": [
    {
     "data": {
      "image/png": "[encoded data removed]",
      "text/plain": [
       "<Figure size 640x480 with 1 Axes>"
      ]
     },
     "metadata": {},
     "output_type": "display_data"
    }
   ],
   "source": [
    "# Plot the distribution of tweet length for both disaster and non-disaster tweet\n",
    "plt.Figure(figsize=(8,6))\n",
    "sns.boxplot(x='target', y='tweet_length', data=Data, palette='Set2', hue='target')\n",
    "plt.title('Distribution of Tweet Length (Number of Words)')\n",
    "plt.xlabel('Target (1= Disaster, 0= Non-Disaster)')\n",
    "plt.ylabel('Tweet Length(Number of Words)')\n",
    "plt.xticks([0,1]),['Non-Disaster', 'Disaster']\n",
    "plt.show() "
   ]
  },
  {
   "cell_type": "markdown",
   "metadata": {},
   "source": [
    "We can observe if there's a significant difference in tweet lengths between the two classes."
   ]
  },
  {
   "cell_type": "markdown",
   "metadata": {},
   "source": [
    "---------------------------"
   ]
  },
  {
   "cell_type": "markdown",
   "metadata": {},
   "source": [
    "- analyzing the most frequent keywords in disaster-related and non-disaster-related tweets.\n",
    "-  This will help us understand the language or terms associated with each class."
   ]
  },
  {
   "cell_type": "code",
   "execution_count": 176,
   "metadata": {},
   "outputs": [],
   "source": [
    "# Separate disaster and non-disaster tweets\n",
    "disaster_tweets = Data[Data['target'] == 1]['cleaned_text']\n",
    "non_disaster_tweets = Data[Data['target'] == 0]['cleaned_text']"
   ]
  },
  {
   "cell_type": "code",
   "execution_count": 177,
   "metadata": {},
   "outputs": [],
   "source": [
    "# Use CountVectorizer to get the frequency of word in both disaster and non-disaster tweets\n",
    "# Function to get the top words\n",
    "def get_top_words(tweets, n=10):\n",
    "    vectorizer = CountVectorizer(stop_words='english', max_features=n)\n",
    "    temp = vectorizer.fit_transform(tweets)\n",
    "    word_frequencies = temp.sum(axis=0).A1\n",
    "    words = vectorizer.get_feature_names_out()\n",
    "    words_df = pd.DataFrame({'Words': words, 'Frequency' : word_frequencies}).sort_values(by='Frequency', ascending=False)\n",
    "    return words_df"
   ]
  },
  {
   "cell_type": "code",
   "execution_count": 178,
   "metadata": {},
   "outputs": [],
   "source": [
    "# Get the top 10 words for Disaster amd Non-Disaster tweets\n",
    "top_disaster_words = get_top_words(disaster_tweets, n=10)\n",
    "top_non_disaster_words = get_top_words(non_disaster_tweets, n=10)"
   ]
  },
  {
   "cell_type": "code",
   "execution_count": 179,
   "metadata": {},
   "outputs": [
    {
     "data": {
      "text/plain": [
       "(        Words  Frequency\n",
       " 6        news        127\n",
       " 2    disaster        114\n",
       " 1  california        110\n",
       " 9     suicide        109\n",
       " 8      police        105\n",
       " 7      people        103\n",
       " 0         amp        102\n",
       " 4      killed         92\n",
       " 5        like         89\n",
       " 3   hiroshima         89,\n",
       "     Words  Frequency\n",
       " 5    like        244\n",
       " 3      im        243\n",
       " 4    just        228\n",
       " 0     amp        190\n",
       " 7     new        170\n",
       " 2    dont        151\n",
       " 1    body        113\n",
       " 9   video         94\n",
       " 8  people         90\n",
       " 6    love         86)"
      ]
     },
     "execution_count": 179,
     "metadata": {},
     "output_type": "execute_result"
    }
   ],
   "source": [
    "top_disaster_words, top_non_disaster_words"
   ]
  },
  {
   "cell_type": "markdown",
   "metadata": {},
   "source": [
    "***Part 2: Feature Engineering and Model Selection***"
   ]
  },
  {
   "cell_type": "markdown",
   "metadata": {},
   "source": [
    "extract several types of features from the text data to help improve the performance of the model"
   ]
  },
  {
   "cell_type": "markdown",
   "metadata": {},
   "source": [
    "***Word Frequency (Bag of Words)***"
   ]
  },
  {
   "cell_type": "markdown",
   "metadata": {},
   "source": [
    "Extract word frequencies using the CountVectorizer or TF-IDF (Term Frequency-Inverse Document Frequency) to capture the importance of words in the context of the dataset."
   ]
  },
  {
   "cell_type": "code",
   "execution_count": 180,
   "metadata": {},
   "outputs": [],
   "source": [
    "# Extract Word Frequencies using TF-IDF\n",
    "tfidf_vectorizer = TfidfVectorizer(stop_words='english', max_features=1006)\n",
    "x_tfidf = tfidf_vectorizer.fit_transform(Data['cleaned_text']).toarray()"
   ]
  },
  {
   "cell_type": "code",
   "execution_count": 181,
   "metadata": {},
   "outputs": [
    {
     "name": "stdout",
     "output_type": "stream",
     "text": [
      "TF-IDF vectorizer saved successfully.\n"
     ]
    }
   ],
   "source": [
    "import joblib\n",
    "\n",
    "# Save the TF-IDF vectorizer for future use\n",
    "joblib.dump(tfidf_vectorizer, 'tfidf_vectorizer_lr.pkl')\n",
    "print(\"TF-IDF vectorizer saved successfully.\")"
   ]
  },
  {
   "cell_type": "code",
   "execution_count": 182,
   "metadata": {},
   "outputs": [
    {
     "data": {
      "text/html": [
       "<style>#sk-container-id-3 {\n",
       "  /* Definition of color scheme common for light and dark mode */\n",
       "  --sklearn-color-text: #000;\n",
       "  --sklearn-color-text-muted: #666;\n",
       "  --sklearn-color-line: gray;\n",
       "  /* Definition of color scheme for unfitted estimators */\n",
       "  --sklearn-color-unfitted-level-0: #fff5e6;\n",
       "  --sklearn-color-unfitted-level-1: #f6e4d2;\n",
       "  --sklearn-color-unfitted-level-2: #ffe0b3;\n",
       "  --sklearn-color-unfitted-level-3: chocolate;\n",
       "  /* Definition of color scheme for fitted estimators */\n",
       "  --sklearn-color-fitted-level-0: #f0f8ff;\n",
       "  --sklearn-color-fitted-level-1: #d4ebff;\n",
       "  --sklearn-color-fitted-level-2: #b3dbfd;\n",
       "  --sklearn-color-fitted-level-3: cornflowerblue;\n",
       "\n",
       "  /* Specific color for light theme */\n",
       "  --sklearn-color-text-on-default-background: var(--sg-text-color, var(--theme-code-foreground, var(--jp-content-font-color1, black)));\n",
       "  --sklearn-color-background: var(--sg-background-color, var(--theme-background, var(--jp-layout-color0, white)));\n",
       "  --sklearn-color-border-box: var(--sg-text-color, var(--theme-code-foreground, var(--jp-content-font-color1, black)));\n",
       "  --sklearn-color-icon: #696969;\n",
       "\n",
       "  @media (prefers-color-scheme: dark) {\n",
       "    /* Redefinition of color scheme for dark theme */\n",
       "    --sklearn-color-text-on-default-background: var(--sg-text-color, var(--theme-code-foreground, var(--jp-content-font-color1, white)));\n",
       "    --sklearn-color-background: var(--sg-background-color, var(--theme-background, var(--jp-layout-color0, #111)));\n",
       "    --sklearn-color-border-box: var(--sg-text-color, var(--theme-code-foreground, var(--jp-content-font-color1, white)));\n",
       "    --sklearn-color-icon: #878787;\n",
       "  }\n",
       "}\n",
       "\n",
       "#sk-container-id-3 {\n",
       "  color: var(--sklearn-color-text);\n",
       "}\n",
       "\n",
       "#sk-container-id-3 pre {\n",
       "  padding: 0;\n",
       "}\n",
       "\n",
       "#sk-container-id-3 input.sk-hidden--visually {\n",
       "  border: 0;\n",
       "  clip: rect(1px 1px 1px 1px);\n",
       "  clip: rect(1px, 1px, 1px, 1px);\n",
       "  height: 1px;\n",
       "  margin: -1px;\n",
       "  overflow: hidden;\n",
       "  padding: 0;\n",
       "  position: absolute;\n",
       "  width: 1px;\n",
       "}\n",
       "\n",
       "#sk-container-id-3 div.sk-dashed-wrapped {\n",
       "  border: 1px dashed var(--sklearn-color-line);\n",
       "  margin: 0 0.4em 0.5em 0.4em;\n",
       "  box-sizing: border-box;\n",
       "  padding-bottom: 0.4em;\n",
       "  background-color: var(--sklearn-color-background);\n",
       "}\n",
       "\n",
       "#sk-container-id-3 div.sk-container {\n",
       "  /* jupyter's `normalize.less` sets `[hidden] { display: none; }`\n",
       "     but bootstrap.min.css set `[hidden] { display: none !important; }`\n",
       "     so we also need the `!important` here to be able to override the\n",
       "     default hidden behavior on the sphinx rendered scikit-learn.org.\n",
       "     See: https://github.com/scikit-learn/scikit-learn/issues/21755 */\n",
       "  display: inline-block !important;\n",
       "  position: relative;\n",
       "}\n",
       "\n",
       "#sk-container-id-3 div.sk-text-repr-fallback {\n",
       "  display: none;\n",
       "}\n",
       "\n",
       "div.sk-parallel-item,\n",
       "div.sk-serial,\n",
       "div.sk-item {\n",
       "  /* draw centered vertical line to link estimators */\n",
       "  background-image: linear-gradient(var(--sklearn-color-text-on-default-background), var(--sklearn-color-text-on-default-background));\n",
       "  background-size: 2px 100%;\n",
       "  background-repeat: no-repeat;\n",
       "  background-position: center center;\n",
       "}\n",
       "\n",
       "/* Parallel-specific style estimator block */\n",
       "\n",
       "#sk-container-id-3 div.sk-parallel-item::after {\n",
       "  content: \"\";\n",
       "  width: 100%;\n",
       "  border-bottom: 2px solid var(--sklearn-color-text-on-default-background);\n",
       "  flex-grow: 1;\n",
       "}\n",
       "\n",
       "#sk-container-id-3 div.sk-parallel {\n",
       "  display: flex;\n",
       "  align-items: stretch;\n",
       "  justify-content: center;\n",
       "  background-color: var(--sklearn-color-background);\n",
       "  position: relative;\n",
       "}\n",
       "\n",
       "#sk-container-id-3 div.sk-parallel-item {\n",
       "  display: flex;\n",
       "  flex-direction: column;\n",
       "}\n",
       "\n",
       "#sk-container-id-3 div.sk-parallel-item:first-child::after {\n",
       "  align-self: flex-end;\n",
       "  width: 50%;\n",
       "}\n",
       "\n",
       "#sk-container-id-3 div.sk-parallel-item:last-child::after {\n",
       "  align-self: flex-start;\n",
       "  width: 50%;\n",
       "}\n",
       "\n",
       "#sk-container-id-3 div.sk-parallel-item:only-child::after {\n",
       "  width: 0;\n",
       "}\n",
       "\n",
       "/* Serial-specific style estimator block */\n",
       "\n",
       "#sk-container-id-3 div.sk-serial {\n",
       "  display: flex;\n",
       "  flex-direction: column;\n",
       "  align-items: center;\n",
       "  background-color: var(--sklearn-color-background);\n",
       "  padding-right: 1em;\n",
       "  padding-left: 1em;\n",
       "}\n",
       "\n",
       "\n",
       "/* Toggleable style: style used for estimator/Pipeline/ColumnTransformer box that is\n",
       "clickable and can be expanded/collapsed.\n",
       "- Pipeline and ColumnTransformer use this feature and define the default style\n",
       "- Estimators will overwrite some part of the style using the `sk-estimator` class\n",
       "*/\n",
       "\n",
       "/* Pipeline and ColumnTransformer style (default) */\n",
       "\n",
       "#sk-container-id-3 div.sk-toggleable {\n",
       "  /* Default theme specific background. It is overwritten whether we have a\n",
       "  specific estimator or a Pipeline/ColumnTransformer */\n",
       "  background-color: var(--sklearn-color-background);\n",
       "}\n",
       "\n",
       "/* Toggleable label */\n",
       "#sk-container-id-3 label.sk-toggleable__label {\n",
       "  cursor: pointer;\n",
       "  display: flex;\n",
       "  width: 100%;\n",
       "  margin-bottom: 0;\n",
       "  padding: 0.5em;\n",
       "  box-sizing: border-box;\n",
       "  text-align: center;\n",
       "  align-items: start;\n",
       "  justify-content: space-between;\n",
       "  gap: 0.5em;\n",
       "}\n",
       "\n",
       "#sk-container-id-3 label.sk-toggleable__label .caption {\n",
       "  font-size: 0.6rem;\n",
       "  font-weight: lighter;\n",
       "  color: var(--sklearn-color-text-muted);\n",
       "}\n",
       "\n",
       "#sk-container-id-3 label.sk-toggleable__label-arrow:before {\n",
       "  /* Arrow on the left of the label */\n",
       "  content: \"▸\";\n",
       "  float: left;\n",
       "  margin-right: 0.25em;\n",
       "  color: var(--sklearn-color-icon);\n",
       "}\n",
       "\n",
       "#sk-container-id-3 label.sk-toggleable__label-arrow:hover:before {\n",
       "  color: var(--sklearn-color-text);\n",
       "}\n",
       "\n",
       "/* Toggleable content - dropdown */\n",
       "\n",
       "#sk-container-id-3 div.sk-toggleable__content {\n",
       "  max-height: 0;\n",
       "  max-width: 0;\n",
       "  overflow: hidden;\n",
       "  text-align: left;\n",
       "  /* unfitted */\n",
       "  background-color: var(--sklearn-color-unfitted-level-0);\n",
       "}\n",
       "\n",
       "#sk-container-id-3 div.sk-toggleable__content.fitted {\n",
       "  /* fitted */\n",
       "  background-color: var(--sklearn-color-fitted-level-0);\n",
       "}\n",
       "\n",
       "#sk-container-id-3 div.sk-toggleable__content pre {\n",
       "  margin: 0.2em;\n",
       "  border-radius: 0.25em;\n",
       "  color: var(--sklearn-color-text);\n",
       "  /* unfitted */\n",
       "  background-color: var(--sklearn-color-unfitted-level-0);\n",
       "}\n",
       "\n",
       "#sk-container-id-3 div.sk-toggleable__content.fitted pre {\n",
       "  /* unfitted */\n",
       "  background-color: var(--sklearn-color-fitted-level-0);\n",
       "}\n",
       "\n",
       "#sk-container-id-3 input.sk-toggleable__control:checked~div.sk-toggleable__content {\n",
       "  /* Expand drop-down */\n",
       "  max-height: 200px;\n",
       "  max-width: 100%;\n",
       "  overflow: auto;\n",
       "}\n",
       "\n",
       "#sk-container-id-3 input.sk-toggleable__control:checked~label.sk-toggleable__label-arrow:before {\n",
       "  content: \"▾\";\n",
       "}\n",
       "\n",
       "/* Pipeline/ColumnTransformer-specific style */\n",
       "\n",
       "#sk-container-id-3 div.sk-label input.sk-toggleable__control:checked~label.sk-toggleable__label {\n",
       "  color: var(--sklearn-color-text);\n",
       "  background-color: var(--sklearn-color-unfitted-level-2);\n",
       "}\n",
       "\n",
       "#sk-container-id-3 div.sk-label.fitted input.sk-toggleable__control:checked~label.sk-toggleable__label {\n",
       "  background-color: var(--sklearn-color-fitted-level-2);\n",
       "}\n",
       "\n",
       "/* Estimator-specific style */\n",
       "\n",
       "/* Colorize estimator box */\n",
       "#sk-container-id-3 div.sk-estimator input.sk-toggleable__control:checked~label.sk-toggleable__label {\n",
       "  /* unfitted */\n",
       "  background-color: var(--sklearn-color-unfitted-level-2);\n",
       "}\n",
       "\n",
       "#sk-container-id-3 div.sk-estimator.fitted input.sk-toggleable__control:checked~label.sk-toggleable__label {\n",
       "  /* fitted */\n",
       "  background-color: var(--sklearn-color-fitted-level-2);\n",
       "}\n",
       "\n",
       "#sk-container-id-3 div.sk-label label.sk-toggleable__label,\n",
       "#sk-container-id-3 div.sk-label label {\n",
       "  /* The background is the default theme color */\n",
       "  color: var(--sklearn-color-text-on-default-background);\n",
       "}\n",
       "\n",
       "/* On hover, darken the color of the background */\n",
       "#sk-container-id-3 div.sk-label:hover label.sk-toggleable__label {\n",
       "  color: var(--sklearn-color-text);\n",
       "  background-color: var(--sklearn-color-unfitted-level-2);\n",
       "}\n",
       "\n",
       "/* Label box, darken color on hover, fitted */\n",
       "#sk-container-id-3 div.sk-label.fitted:hover label.sk-toggleable__label.fitted {\n",
       "  color: var(--sklearn-color-text);\n",
       "  background-color: var(--sklearn-color-fitted-level-2);\n",
       "}\n",
       "\n",
       "/* Estimator label */\n",
       "\n",
       "#sk-container-id-3 div.sk-label label {\n",
       "  font-family: monospace;\n",
       "  font-weight: bold;\n",
       "  display: inline-block;\n",
       "  line-height: 1.2em;\n",
       "}\n",
       "\n",
       "#sk-container-id-3 div.sk-label-container {\n",
       "  text-align: center;\n",
       "}\n",
       "\n",
       "/* Estimator-specific */\n",
       "#sk-container-id-3 div.sk-estimator {\n",
       "  font-family: monospace;\n",
       "  border: 1px dotted var(--sklearn-color-border-box);\n",
       "  border-radius: 0.25em;\n",
       "  box-sizing: border-box;\n",
       "  margin-bottom: 0.5em;\n",
       "  /* unfitted */\n",
       "  background-color: var(--sklearn-color-unfitted-level-0);\n",
       "}\n",
       "\n",
       "#sk-container-id-3 div.sk-estimator.fitted {\n",
       "  /* fitted */\n",
       "  background-color: var(--sklearn-color-fitted-level-0);\n",
       "}\n",
       "\n",
       "/* on hover */\n",
       "#sk-container-id-3 div.sk-estimator:hover {\n",
       "  /* unfitted */\n",
       "  background-color: var(--sklearn-color-unfitted-level-2);\n",
       "}\n",
       "\n",
       "#sk-container-id-3 div.sk-estimator.fitted:hover {\n",
       "  /* fitted */\n",
       "  background-color: var(--sklearn-color-fitted-level-2);\n",
       "}\n",
       "\n",
       "/* Specification for estimator info (e.g. \"i\" and \"?\") */\n",
       "\n",
       "/* Common style for \"i\" and \"?\" */\n",
       "\n",
       ".sk-estimator-doc-link,\n",
       "a:link.sk-estimator-doc-link,\n",
       "a:visited.sk-estimator-doc-link {\n",
       "  float: right;\n",
       "  font-size: smaller;\n",
       "  line-height: 1em;\n",
       "  font-family: monospace;\n",
       "  background-color: var(--sklearn-color-background);\n",
       "  border-radius: 1em;\n",
       "  height: 1em;\n",
       "  width: 1em;\n",
       "  text-decoration: none !important;\n",
       "  margin-left: 0.5em;\n",
       "  text-align: center;\n",
       "  /* unfitted */\n",
       "  border: var(--sklearn-color-unfitted-level-1) 1pt solid;\n",
       "  color: var(--sklearn-color-unfitted-level-1);\n",
       "}\n",
       "\n",
       ".sk-estimator-doc-link.fitted,\n",
       "a:link.sk-estimator-doc-link.fitted,\n",
       "a:visited.sk-estimator-doc-link.fitted {\n",
       "  /* fitted */\n",
       "  border: var(--sklearn-color-fitted-level-1) 1pt solid;\n",
       "  color: var(--sklearn-color-fitted-level-1);\n",
       "}\n",
       "\n",
       "/* On hover */\n",
       "div.sk-estimator:hover .sk-estimator-doc-link:hover,\n",
       ".sk-estimator-doc-link:hover,\n",
       "div.sk-label-container:hover .sk-estimator-doc-link:hover,\n",
       ".sk-estimator-doc-link:hover {\n",
       "  /* unfitted */\n",
       "  background-color: var(--sklearn-color-unfitted-level-3);\n",
       "  color: var(--sklearn-color-background);\n",
       "  text-decoration: none;\n",
       "}\n",
       "\n",
       "div.sk-estimator.fitted:hover .sk-estimator-doc-link.fitted:hover,\n",
       ".sk-estimator-doc-link.fitted:hover,\n",
       "div.sk-label-container:hover .sk-estimator-doc-link.fitted:hover,\n",
       ".sk-estimator-doc-link.fitted:hover {\n",
       "  /* fitted */\n",
       "  background-color: var(--sklearn-color-fitted-level-3);\n",
       "  color: var(--sklearn-color-background);\n",
       "  text-decoration: none;\n",
       "}\n",
       "\n",
       "/* Span, style for the box shown on hovering the info icon */\n",
       ".sk-estimator-doc-link span {\n",
       "  display: none;\n",
       "  z-index: 9999;\n",
       "  position: relative;\n",
       "  font-weight: normal;\n",
       "  right: .2ex;\n",
       "  padding: .5ex;\n",
       "  margin: .5ex;\n",
       "  width: min-content;\n",
       "  min-width: 20ex;\n",
       "  max-width: 50ex;\n",
       "  color: var(--sklearn-color-text);\n",
       "  box-shadow: 2pt 2pt 4pt #999;\n",
       "  /* unfitted */\n",
       "  background: var(--sklearn-color-unfitted-level-0);\n",
       "  border: .5pt solid var(--sklearn-color-unfitted-level-3);\n",
       "}\n",
       "\n",
       ".sk-estimator-doc-link.fitted span {\n",
       "  /* fitted */\n",
       "  background: var(--sklearn-color-fitted-level-0);\n",
       "  border: var(--sklearn-color-fitted-level-3);\n",
       "}\n",
       "\n",
       ".sk-estimator-doc-link:hover span {\n",
       "  display: block;\n",
       "}\n",
       "\n",
       "/* \"?\"-specific style due to the `<a>` HTML tag */\n",
       "\n",
       "#sk-container-id-3 a.estimator_doc_link {\n",
       "  float: right;\n",
       "  font-size: 1rem;\n",
       "  line-height: 1em;\n",
       "  font-family: monospace;\n",
       "  background-color: var(--sklearn-color-background);\n",
       "  border-radius: 1rem;\n",
       "  height: 1rem;\n",
       "  width: 1rem;\n",
       "  text-decoration: none;\n",
       "  /* unfitted */\n",
       "  color: var(--sklearn-color-unfitted-level-1);\n",
       "  border: var(--sklearn-color-unfitted-level-1) 1pt solid;\n",
       "}\n",
       "\n",
       "#sk-container-id-3 a.estimator_doc_link.fitted {\n",
       "  /* fitted */\n",
       "  border: var(--sklearn-color-fitted-level-1) 1pt solid;\n",
       "  color: var(--sklearn-color-fitted-level-1);\n",
       "}\n",
       "\n",
       "/* On hover */\n",
       "#sk-container-id-3 a.estimator_doc_link:hover {\n",
       "  /* unfitted */\n",
       "  background-color: var(--sklearn-color-unfitted-level-3);\n",
       "  color: var(--sklearn-color-background);\n",
       "  text-decoration: none;\n",
       "}\n",
       "\n",
       "#sk-container-id-3 a.estimator_doc_link.fitted:hover {\n",
       "  /* fitted */\n",
       "  background-color: var(--sklearn-color-fitted-level-3);\n",
       "}\n",
       "</style><div id=\"sk-container-id-3\" class=\"sk-top-container\"><div class=\"sk-text-repr-fallback\"><pre>TfidfVectorizer(max_features=1006, stop_words=&#x27;english&#x27;)</pre><b>In a Jupyter environment, please rerun this cell to show the HTML representation or trust the notebook. <br />On GitHub, the HTML representation is unable to render, please try loading this page with nbviewer.org.</b></div><div class=\"sk-container\" hidden><div class=\"sk-item\"><div class=\"sk-estimator fitted sk-toggleable\"><input class=\"sk-toggleable__control sk-hidden--visually\" id=\"sk-estimator-id-5\" type=\"checkbox\" checked><label for=\"sk-estimator-id-5\" class=\"sk-toggleable__label fitted sk-toggleable__label-arrow\"><div><div>TfidfVectorizer</div></div><div><a class=\"sk-estimator-doc-link fitted\" rel=\"noreferrer\" target=\"_blank\" href=\"https://scikit-learn.org/1.6/modules/generated/sklearn.feature_extraction.text.TfidfVectorizer.html\">?<span>Documentation for TfidfVectorizer</span></a><span class=\"sk-estimator-doc-link fitted\">i<span>Fitted</span></span></div></label><div class=\"sk-toggleable__content fitted\"><pre>TfidfVectorizer(max_features=1006, stop_words=&#x27;english&#x27;)</pre></div> </div></div></div></div>"
      ],
      "text/plain": [
       "TfidfVectorizer(max_features=1006, stop_words='english')"
      ]
     },
     "execution_count": 182,
     "metadata": {},
     "output_type": "execute_result"
    }
   ],
   "source": [
    "tfidf_vectorizer"
   ]
  },
  {
   "cell_type": "code",
   "execution_count": 183,
   "metadata": {},
   "outputs": [
    {
     "data": {
      "text/plain": [
       "array([[0.        , 0.        , 0.        , ..., 0.        , 0.        ,\n",
       "        0.        ],\n",
       "       [0.        , 0.        , 0.        , ..., 0.        , 0.        ,\n",
       "        0.        ],\n",
       "       [0.        , 0.        , 0.        , ..., 0.        , 0.        ,\n",
       "        0.        ],\n",
       "       ...,\n",
       "       [0.        , 0.        , 0.        , ..., 0.        , 0.        ,\n",
       "        0.        ],\n",
       "       [0.        , 0.        , 0.        , ..., 0.        , 0.        ,\n",
       "        0.        ],\n",
       "       [0.        , 0.40720537, 0.        , ..., 0.        , 0.        ,\n",
       "        0.        ]])"
      ]
     },
     "execution_count": 183,
     "metadata": {},
     "output_type": "execute_result"
    }
   ],
   "source": [
    "x_tfidf"
   ]
  },
  {
   "cell_type": "markdown",
   "metadata": {},
   "source": [
    "***Sentiment Analysis***"
   ]
  },
  {
   "cell_type": "code",
   "execution_count": 184,
   "metadata": {},
   "outputs": [],
   "source": [
    "# 2. Sentiment Analysis using TextBlob\n",
    "def get_sentiment(text):\n",
    "    #Polarity score:-1 (negative) to 1(positive)\n",
    "    sentiment = TextBlob(text).sentiment.polarity\n",
    "    return sentiment"
   ]
  },
  {
   "cell_type": "markdown",
   "metadata": {},
   "source": [
    "the polarity score helps to assess the emotional tone of the tweet. For example, disaster-related tweets might have a negative polarity because they often discuss tragic events, while non-disaster tweets could be more neutral or positive."
   ]
  },
  {
   "cell_type": "code",
   "execution_count": 185,
   "metadata": {},
   "outputs": [],
   "source": [
    "Data['sentiment'] = Data['cleaned_text'].apply(get_sentiment)"
   ]
  },
  {
   "cell_type": "code",
   "execution_count": 186,
   "metadata": {},
   "outputs": [
    {
     "data": {
      "text/plain": [
       "0       0.000000\n",
       "1       0.100000\n",
       "2      -0.018750\n",
       "3       0.000000\n",
       "4       0.000000\n",
       "          ...   \n",
       "7608    0.000000\n",
       "7609    0.150000\n",
       "7610    0.000000\n",
       "7611   -0.260417\n",
       "7612    0.500000\n",
       "Name: sentiment, Length: 7613, dtype: float64"
      ]
     },
     "execution_count": 186,
     "metadata": {},
     "output_type": "execute_result"
    }
   ],
   "source": [
    "Data['sentiment']"
   ]
  },
  {
   "cell_type": "code",
   "execution_count": 187,
   "metadata": {},
   "outputs": [
    {
     "data": {
      "text/plain": [
       "Index(['id', 'keyword', 'location', 'text', 'target', 'cleaned_text', 'tokens',\n",
       "       'tweet_length', 'sentiment'],\n",
       "      dtype='object')"
      ]
     },
     "execution_count": 187,
     "metadata": {},
     "output_type": "execute_result"
    }
   ],
   "source": [
    "Data.columns"
   ]
  },
  {
   "cell_type": "code",
   "execution_count": 188,
   "metadata": {},
   "outputs": [
    {
     "data": {
      "text/plain": [
       "0       [our, deeds, are, the, reason, of, this, earth...\n",
       "1           [forest, fire, near, la, ronge, sask, canada]\n",
       "2       [all, residents, asked, to, shelter, in, place...\n",
       "3       [people, receive, wildfires, evacuation, order...\n",
       "4       [just, got, sent, this, photo, from, ruby, ala...\n",
       "                              ...                        \n",
       "7608    [two, giant, cranes, holding, a, bridge, colla...\n",
       "7609    [ariaahrary, thetawniest, the, out, of, contro...\n",
       "7610                   [m, utckm, s, of, volcano, hawaii]\n",
       "7611    [police, investigating, after, an, ebike, coll...\n",
       "7612    [the, latest, more, homes, razed, by, northern...\n",
       "Name: tokens, Length: 7613, dtype: object"
      ]
     },
     "execution_count": 188,
     "metadata": {},
     "output_type": "execute_result"
    }
   ],
   "source": [
    "Data['tokens']"
   ]
  },
  {
   "cell_type": "code",
   "execution_count": 189,
   "metadata": {},
   "outputs": [],
   "source": [
    "# Extract Tweet Length (Number of words)\n",
    "Data['tweet_length'] = Data['tokens'].apply(len)"
   ]
  },
  {
   "cell_type": "code",
   "execution_count": 190,
   "metadata": {},
   "outputs": [
    {
     "data": {
      "text/plain": [
       "0       13\n",
       "1        7\n",
       "2       22\n",
       "3        7\n",
       "4       16\n",
       "        ..\n",
       "7608    10\n",
       "7609    20\n",
       "7610     6\n",
       "7611    19\n",
       "7612    11\n",
       "Name: tweet_length, Length: 7613, dtype: int64"
      ]
     },
     "execution_count": 190,
     "metadata": {},
     "output_type": "execute_result"
    }
   ],
   "source": [
    "Data['tweet_length']"
   ]
  },
  {
   "cell_type": "code",
   "execution_count": 191,
   "metadata": {},
   "outputs": [],
   "source": [
    "# Count the number of hashtags in the tweet\n",
    "Data['hashtag_count'] = Data['text'].apply(lambda x:x.count('#'))"
   ]
  },
  {
   "cell_type": "code",
   "execution_count": 192,
   "metadata": {},
   "outputs": [
    {
     "data": {
      "text/plain": [
       "0       1\n",
       "1       0\n",
       "2       0\n",
       "3       1\n",
       "4       2\n",
       "       ..\n",
       "7608    0\n",
       "7609    0\n",
       "7610    0\n",
       "7611    0\n",
       "7612    0\n",
       "Name: hashtag_count, Length: 7613, dtype: int64"
      ]
     },
     "execution_count": 192,
     "metadata": {},
     "output_type": "execute_result"
    }
   ],
   "source": [
    "Data['hashtag_count']"
   ]
  },
  {
   "cell_type": "code",
   "execution_count": 193,
   "metadata": {},
   "outputs": [
    {
     "data": {
      "text/plain": [
       "np.int64(13)"
      ]
     },
     "execution_count": 193,
     "metadata": {},
     "output_type": "execute_result"
    }
   ],
   "source": [
    "Data['hashtag_count'].max()"
   ]
  },
  {
   "cell_type": "code",
   "execution_count": 194,
   "metadata": {},
   "outputs": [],
   "source": [
    "# Count the number of user mentions in the tweet\n",
    "Data['mention_user_count'] = Data['text'].apply(lambda x: x.count('@'))"
   ]
  },
  {
   "cell_type": "code",
   "execution_count": 195,
   "metadata": {},
   "outputs": [
    {
     "data": {
      "text/plain": [
       "<bound method Series.sum of 0       0\n",
       "1       0\n",
       "2       0\n",
       "3       0\n",
       "4       0\n",
       "       ..\n",
       "7608    0\n",
       "7609    2\n",
       "7610    0\n",
       "7611    0\n",
       "7612    0\n",
       "Name: mention_user_count, Length: 7613, dtype: int64>"
      ]
     },
     "execution_count": 195,
     "metadata": {},
     "output_type": "execute_result"
    }
   ],
   "source": [
    "Data['mention_user_count'].sum"
   ]
  },
  {
   "cell_type": "markdown",
   "metadata": {},
   "source": [
    "***Summary***"
   ]
  },
  {
   "cell_type": "markdown",
   "metadata": {},
   "source": [
    "- TF-IDF features capture the meaning and importance of words in the tweet.\n",
    "- Additional features provide context about the tweet's length, sentiment, and structure.\n",
    "- Combining them creates a comprehensive feature set that improves the model's ability to make informed predictions."
   ]
  },
  {
   "cell_type": "code",
   "execution_count": 196,
   "metadata": {},
   "outputs": [],
   "source": [
    "vectorizer = CountVectorizer(ngram_range=(1, 2))  # Bigrams\n",
    "X_ngrams = vectorizer.fit_transform(Data['cleaned_text']).toarray()"
   ]
  },
  {
   "cell_type": "code",
   "execution_count": 197,
   "metadata": {},
   "outputs": [
    {
     "data": {
      "text/plain": [
       "array([[0, 0, 0, ..., 0, 0, 0],\n",
       "       [0, 0, 0, ..., 0, 0, 0],\n",
       "       [0, 0, 0, ..., 0, 0, 0],\n",
       "       ...,\n",
       "       [0, 0, 0, ..., 0, 0, 0],\n",
       "       [0, 0, 0, ..., 0, 0, 0],\n",
       "       [0, 0, 0, ..., 0, 0, 0]])"
      ]
     },
     "execution_count": 197,
     "metadata": {},
     "output_type": "execute_result"
    }
   ],
   "source": [
    "X_ngrams"
   ]
  },
  {
   "cell_type": "code",
   "execution_count": 198,
   "metadata": {},
   "outputs": [],
   "source": [
    "# Combine the TF_IDF features with additional features\n",
    "x_features = np.hstack([x_tfidf, Data[['sentiment', 'tweet_length', 'hashtag_count', 'mention_user_count']].values])"
   ]
  },
  {
   "cell_type": "code",
   "execution_count": 199,
   "metadata": {},
   "outputs": [],
   "source": [
    "# Show the first few rows of the feature matrix\n",
    "#Data[['sentiment', 'tweet_length', 'hashtag_count','mention_user_count','entities']].head()"
   ]
  },
  {
   "cell_type": "markdown",
   "metadata": {},
   "source": [
    "----------------------------------------------"
   ]
  },
  {
   "cell_type": "markdown",
   "metadata": {},
   "source": [
    "***Topic Modeling (LDA)***\n",
    "LDA to discover whether disaster-related tweets tend to belong to certain topics (e.g., emergency response, weather reports)."
   ]
  },
  {
   "cell_type": "code",
   "execution_count": 200,
   "metadata": {},
   "outputs": [],
   "source": [
    "# Apply LDA for topic modeling\n",
    "lda = LatentDirichletAllocation(n_components=3, random_state=42)\n",
    "lda_features = lda.fit_transform(x_tfidf)"
   ]
  },
  {
   "cell_type": "code",
   "execution_count": 201,
   "metadata": {},
   "outputs": [
    {
     "data": {
      "text/plain": [
       "array([[0.13834135, 0.415079  , 0.44657965],\n",
       "       [0.12439102, 0.35198674, 0.52362225],\n",
       "       [0.1270364 , 0.43395329, 0.43901032],\n",
       "       ...,\n",
       "       [0.65045438, 0.18276511, 0.16678052],\n",
       "       [0.8011575 , 0.10175459, 0.09708791],\n",
       "       [0.08824068, 0.82362397, 0.08813535]])"
      ]
     },
     "execution_count": 201,
     "metadata": {},
     "output_type": "execute_result"
    }
   ],
   "source": [
    "lda_features"
   ]
  },
  {
   "cell_type": "code",
   "execution_count": 202,
   "metadata": {},
   "outputs": [],
   "source": [
    "# Step 3: Get the top words for each topic\n",
    "terms = tfidf_vectorizer.get_feature_names_out()"
   ]
  },
  {
   "cell_type": "code",
   "execution_count": 203,
   "metadata": {},
   "outputs": [
    {
     "data": {
      "text/plain": [
       "array(['aba', 'abc', 'ablaze', ..., 'youve', 'yr', 'zone'], dtype=object)"
      ]
     },
     "execution_count": 203,
     "metadata": {},
     "output_type": "execute_result"
    }
   ],
   "source": [
    "terms"
   ]
  },
  {
   "cell_type": "code",
   "execution_count": 204,
   "metadata": {},
   "outputs": [],
   "source": [
    "# Function to display the top words for each topic\n",
    "def print_top_words(model, feature_names, n_words=10):\n",
    "    for topic_idx, topic in enumerate(model.components_):\n",
    "        print(f\"Topic {topic_idx}:\")\n",
    "        print(\" \".join([feature_names[i] for i in topic.argsort()[:-n_words - 1:-1]]))\n",
    "        print()"
   ]
  },
  {
   "cell_type": "code",
   "execution_count": 205,
   "metadata": {},
   "outputs": [
    {
     "name": "stdout",
     "output_type": "stream",
     "text": [
      "Topic 0:\n",
      "dont people nuclear just bomb suicide car amp hiroshima did\n",
      "\n",
      "Topic 1:\n",
      "disaster burning like video buildings im just youtube collapse police\n",
      "\n",
      "Topic 2:\n",
      "im storm emergency new body like life death watch mass\n",
      "\n"
     ]
    }
   ],
   "source": [
    "# Display the top 10 words for each topic\n",
    "print_top_words(lda, terms)"
   ]
  },
  {
   "cell_type": "markdown",
   "metadata": {},
   "source": [
    "Topic 1:\n",
    "\n",
    "    Top Words: \"emergency\", \"news\", \"body\", \"youtube\", \"california\", \"attack\", \"time\", \"video\", \"new\", \"wildfire\".\n",
    "\n",
    "    Explanation: This topic appears to be associated with news coverage of emergency events. Words like \"emergency\", \"news\", \"wildfire\", and \"attack\" suggest that this topic is likely about disaster-related news stories (possibly including fires and emergency response). The presence of \"youtube\" and \"video\" indicates that these might be social media or video-sharing discussions about the events."
   ]
  },
  {
   "cell_type": "markdown",
   "metadata": {},
   "source": [
    "Topic 2:\n",
    "\n",
    "    Top Words: \"burning\", \"buildings\", \"accident\", \"pm\", \"man\", \"police\", \"lol\", \"like\", \"years\", \"flames\".\n",
    "\n",
    "    Explanation: This topic seems to reflect disaster-related events (e.g., \"burning\", \"buildings\", \"flames\") and possibly accidents (e.g., \"accident\"). Words like \"police\" and \"man\" suggest there might be references to emergency responders or public safety during an incident. The inclusion of \"lol\" might indicate sarcasm or irony, possibly in tweets discussing accidents or situations that people find unbelievable."
   ]
  },
  {
   "cell_type": "markdown",
   "metadata": {},
   "source": [
    "How to Interpret:\n",
    "\n",
    "    Each topic is a mixture of words that often appear together in tweets. The goal of LDA is to uncover these latent topics that represent underlying themes in a large corpus of text.\n",
    "\n",
    "    The top words are the ones that are most strongly associated with each topic, and their interpretation provides an idea of the context of each topic. For example, the words \"wildfire\", \"news\", and \"attack\" in Topic 1 likely point to news articles or reports about specific disasters."
   ]
  },
  {
   "cell_type": "code",
   "execution_count": 206,
   "metadata": {},
   "outputs": [],
   "source": [
    "# Step 1: Apply LDA for topic modeling\n",
    "lda = LatentDirichletAllocation(n_components=3, random_state=42)  # 3 topics\n",
    "lda_features = lda.fit_transform(x_tfidf)"
   ]
  },
  {
   "cell_type": "code",
   "execution_count": 207,
   "metadata": {},
   "outputs": [],
   "source": [
    "# Step 2: Get the topic with the highest probability for each tweet (most likely topic)\n",
    "topics = lda_features.argmax(axis=1)"
   ]
  },
  {
   "cell_type": "code",
   "execution_count": 208,
   "metadata": {},
   "outputs": [],
   "source": [
    "# Step 3: Add the most likely topic to the dataset\n",
    "Data['assigned_topic'] = topics"
   ]
  },
  {
   "cell_type": "code",
   "execution_count": 209,
   "metadata": {},
   "outputs": [
    {
     "data": {
      "text/html": [
       "<div>\n",
       "<style scoped>\n",
       "    .dataframe tbody tr th:only-of-type {\n",
       "        vertical-align: middle;\n",
       "    }\n",
       "\n",
       "    .dataframe tbody tr th {\n",
       "        vertical-align: top;\n",
       "    }\n",
       "\n",
       "    .dataframe thead th {\n",
       "        text-align: right;\n",
       "    }\n",
       "</style>\n",
       "<table border=\"1\" class=\"dataframe\">\n",
       "  <thead>\n",
       "    <tr style=\"text-align: right;\">\n",
       "      <th></th>\n",
       "      <th>text</th>\n",
       "      <th>assigned_topic</th>\n",
       "    </tr>\n",
       "  </thead>\n",
       "  <tbody>\n",
       "    <tr>\n",
       "      <th>0</th>\n",
       "      <td>Our Deeds are the Reason of this #earthquake M...</td>\n",
       "      <td>2</td>\n",
       "    </tr>\n",
       "    <tr>\n",
       "      <th>1</th>\n",
       "      <td>Forest fire near La Ronge Sask. Canada</td>\n",
       "      <td>2</td>\n",
       "    </tr>\n",
       "    <tr>\n",
       "      <th>2</th>\n",
       "      <td>All residents asked to 'shelter in place' are ...</td>\n",
       "      <td>2</td>\n",
       "    </tr>\n",
       "    <tr>\n",
       "      <th>3</th>\n",
       "      <td>13,000 people receive #wildfires evacuation or...</td>\n",
       "      <td>1</td>\n",
       "    </tr>\n",
       "    <tr>\n",
       "      <th>4</th>\n",
       "      <td>Just got sent this photo from Ruby #Alaska as ...</td>\n",
       "      <td>2</td>\n",
       "    </tr>\n",
       "  </tbody>\n",
       "</table>\n",
       "</div>"
      ],
      "text/plain": [
       "                                                text  assigned_topic\n",
       "0  Our Deeds are the Reason of this #earthquake M...               2\n",
       "1             Forest fire near La Ronge Sask. Canada               2\n",
       "2  All residents asked to 'shelter in place' are ...               2\n",
       "3  13,000 people receive #wildfires evacuation or...               1\n",
       "4  Just got sent this photo from Ruby #Alaska as ...               2"
      ]
     },
     "execution_count": 209,
     "metadata": {},
     "output_type": "execute_result"
    }
   ],
   "source": [
    "# Display the first few rows of the dataset with assigned topics\n",
    "Data[['text', 'assigned_topic']].head()"
   ]
  },
  {
   "cell_type": "code",
   "execution_count": 210,
   "metadata": {},
   "outputs": [],
   "source": [
    "# Count the number of tweets assigned to each topic\n",
    "topic_counts = Data['assigned_topic'].value_counts()"
   ]
  },
  {
   "cell_type": "code",
   "execution_count": 211,
   "metadata": {},
   "outputs": [
    {
     "data": {
      "image/png": "[encoded data removed]",
      "text/plain": [
       "<Figure size 800x600 with 1 Axes>"
      ]
     },
     "metadata": {},
     "output_type": "display_data"
    }
   ],
   "source": [
    "# Plot the distribution of assigned topics\n",
    "plt.figure(figsize=(8, 6))\n",
    "sns.barplot(x=topic_counts.index, y=topic_counts.values)\n",
    "plt.title('Distribution of Topics in Tweets')\n",
    "plt.xlabel('Topic')\n",
    "plt.ylabel('Number of Tweets')\n",
    "plt.xticks(topic_counts.index, [f'Topic {i}' for i in topic_counts.index])\n",
    "plt.show()"
   ]
  },
  {
   "cell_type": "markdown",
   "metadata": {},
   "source": [
    "***Named Entity Recognition (NER)***"
   ]
  },
  {
   "cell_type": "markdown",
   "metadata": {},
   "source": [
    "NER identifies proper nouns such as names of places, people, organizations, or specific events. Disaster-related tweets may contain references to places (e.g., \"California\", \"Tokyo\") or organizations (e.g., \"Red Cross\")."
   ]
  },
  {
   "cell_type": "code",
   "execution_count": 212,
   "metadata": {},
   "outputs": [],
   "source": [
    "#python -m spacy download en_core_web_sm\n",
    "nlp = spacy.load(\"en_core_web_sm\")"
   ]
  },
  {
   "cell_type": "code",
   "execution_count": 213,
   "metadata": {},
   "outputs": [],
   "source": [
    "def extract_entities(text):\n",
    "    doc = nlp(text)\n",
    "    return [ent.text for ent in doc.ents]"
   ]
  },
  {
   "cell_type": "code",
   "execution_count": 214,
   "metadata": {},
   "outputs": [],
   "source": [
    "Data['entities'] = Data['cleaned_text'].apply(extract_entities)"
   ]
  },
  {
   "cell_type": "code",
   "execution_count": 215,
   "metadata": {},
   "outputs": [
    {
     "data": {
      "text/plain": [
       "0                           []\n",
       "1                 [la, canada]\n",
       "2                           []\n",
       "3                 [california]\n",
       "4                     [alaska]\n",
       "                 ...          \n",
       "7608                     [two]\n",
       "7609              [california]\n",
       "7610                        []\n",
       "7611                [portugal]\n",
       "7612    [california, abc news]\n",
       "Name: entities, Length: 7613, dtype: object"
      ]
     },
     "execution_count": 215,
     "metadata": {},
     "output_type": "execute_result"
    }
   ],
   "source": [
    "Data['entities']"
   ]
  },
  {
   "cell_type": "code",
   "execution_count": 216,
   "metadata": {},
   "outputs": [],
   "source": [
    "# Flatten the list of entities and count their occurrences\n",
    "all_entities = [entity for sublist in Data['entities'] for entity in sublist]\n",
    "entity_counts = Counter(all_entities)"
   ]
  },
  {
   "cell_type": "code",
   "execution_count": 217,
   "metadata": {},
   "outputs": [],
   "source": [
    "# Get the 10 most common entities\n",
    "top_entities = entity_counts.most_common(10)"
   ]
  },
  {
   "cell_type": "code",
   "execution_count": 218,
   "metadata": {},
   "outputs": [
    {
     "data": {
      "text/plain": [
       "[('california', 104),\n",
       " ('first', 97),\n",
       " ('hiroshima', 87),\n",
       " ('one', 85),\n",
       " ('two', 82),\n",
       " ('today', 79),\n",
       " ('japan', 42),\n",
       " ('tonight', 38),\n",
       " ('iran', 35),\n",
       " ('hundreds', 33)]"
      ]
     },
     "execution_count": 218,
     "metadata": {},
     "output_type": "execute_result"
    }
   ],
   "source": [
    "top_entities"
   ]
  },
  {
   "cell_type": "code",
   "execution_count": 219,
   "metadata": {},
   "outputs": [],
   "source": [
    "# Define a list of common non-entity words to filter out\n",
    "common_non_entities = {'first', 'one', 'two', 'three', 'four', 'five', 'hundreds', 'today', 'tonight', 'august', 'tomorrow' }"
   ]
  },
  {
   "cell_type": "code",
   "execution_count": 220,
   "metadata": {},
   "outputs": [],
   "source": [
    "# Function to filter out common non-entity words\n",
    "def filter_entities(entities):\n",
    "    return [entity for entity in entities if entity.lower() not in common_non_entities]"
   ]
  },
  {
   "cell_type": "code",
   "execution_count": 221,
   "metadata": {},
   "outputs": [],
   "source": [
    "#Apply the filter to the extracted entities\n",
    "Data['filtered_entities'] = Data['entities'].apply(filter_entities)"
   ]
  },
  {
   "cell_type": "code",
   "execution_count": 222,
   "metadata": {},
   "outputs": [
    {
     "data": {
      "text/plain": [
       "0                           []\n",
       "1                 [la, canada]\n",
       "2                           []\n",
       "3                 [california]\n",
       "4                     [alaska]\n",
       "                 ...          \n",
       "7608                        []\n",
       "7609              [california]\n",
       "7610                        []\n",
       "7611                [portugal]\n",
       "7612    [california, abc news]\n",
       "Name: filtered_entities, Length: 7613, dtype: object"
      ]
     },
     "execution_count": 222,
     "metadata": {},
     "output_type": "execute_result"
    }
   ],
   "source": [
    "Data['filtered_entities']"
   ]
  },
  {
   "cell_type": "code",
   "execution_count": 223,
   "metadata": {},
   "outputs": [],
   "source": [
    "# Flatten the filtered entities list and count their occurrences\n",
    "all_filtered_entities = [entity for sublist in Data['filtered_entities'] for entity in sublist]\n",
    "filtered_entity_counts = Counter(all_filtered_entities)"
   ]
  },
  {
   "cell_type": "code",
   "execution_count": 224,
   "metadata": {},
   "outputs": [
    {
     "data": {
      "text/plain": [
       "Counter({'california': 104,\n",
       "         'hiroshima': 87,\n",
       "         'japan': 42,\n",
       "         'iran': 35,\n",
       "         'us': 30,\n",
       "         'israeli': 28,\n",
       "         'calgary': 28,\n",
       "         'saudi': 27,\n",
       "         'mh malaysia': 25,\n",
       "         'american': 24,\n",
       "         'under a minute': 24,\n",
       "         'years': 23,\n",
       "         'malaysia': 23,\n",
       "         'second': 21,\n",
       "         'india': 21,\n",
       "         'russian': 20,\n",
       "         'bush': 20,\n",
       "         'summer': 19,\n",
       "         'christian': 19,\n",
       "         'muslims': 18,\n",
       "         'islam': 18,\n",
       "         'thousands': 17,\n",
       "         'gop': 17,\n",
       "         'china': 17,\n",
       "         'myanmar': 16,\n",
       "         'london': 16,\n",
       "         'daily': 16,\n",
       "         'pakistani': 16,\n",
       "         'russia': 16,\n",
       "         'texas': 16,\n",
       "         'half': 16,\n",
       "         'pakistan': 16,\n",
       "         'utc': 16,\n",
       "         'america': 15,\n",
       "         'israel': 15,\n",
       "         'the day': 15,\n",
       "         'pamela geller   ': 15,\n",
       "         'thursday': 15,\n",
       "         'nagasaki': 15,\n",
       "         'france': 14,\n",
       "         'wednesday': 14,\n",
       "         'twelve': 14,\n",
       "         'australia': 14,\n",
       "         'libya': 14,\n",
       "         'british': 14,\n",
       "         'jonathan': 14,\n",
       "         'abc news': 14,\n",
       "         'washington': 13,\n",
       "         'denver': 13,\n",
       "         'indian': 13,\n",
       "         'taiwan': 13,\n",
       "         'last night': 12,\n",
       "         'palestinian': 12,\n",
       "         'new york': 12,\n",
       "         'colorado': 11,\n",
       "         'chicago': 11,\n",
       "         'last year': 11,\n",
       "         'syrian': 11,\n",
       "         'metro': 11,\n",
       "         'reuters': 11,\n",
       "         'chile': 11,\n",
       "         'this summer': 10,\n",
       "         'french': 10,\n",
       "         'un': 10,\n",
       "         'hours': 10,\n",
       "         'friday': 10,\n",
       "         'islamic': 10,\n",
       "         'japan marks': 10,\n",
       "         'abc': 10,\n",
       "         'cnn': 10,\n",
       "         'usgs': 10,\n",
       "         'japanese': 10,\n",
       "         'richmond': 10,\n",
       "         'this week': 9,\n",
       "         'a year': 9,\n",
       "         'afghanistan': 9,\n",
       "         'mh aircraft debris': 9,\n",
       "         'mediterranean': 9,\n",
       "         'georgia': 9,\n",
       "         'canada': 8,\n",
       "         'airplane debris': 8,\n",
       "         'national park services': 8,\n",
       "         'yesterday': 8,\n",
       "         'gm': 8,\n",
       "         'this morning': 8,\n",
       "         'iraq': 8,\n",
       "         'uk': 8,\n",
       "         'brooklyn': 8,\n",
       "         'florida': 7,\n",
       "         'brazil': 7,\n",
       "         'months': 7,\n",
       "         'republicans': 7,\n",
       "         'congress': 7,\n",
       "         'days': 7,\n",
       "         'saudi arabia': 7,\n",
       "         'malaysian': 7,\n",
       "         'morning': 7,\n",
       "         'dozens': 7,\n",
       "         'italian': 7,\n",
       "         'millions': 7,\n",
       "         'oklahoma': 7,\n",
       "         'vietnam': 7,\n",
       "         'browser hijacker': 7,\n",
       "         'alabama': 7,\n",
       "         'july': 6,\n",
       "         'night': 6,\n",
       "         'kisii': 6,\n",
       "         'gaza': 6,\n",
       "         'german': 6,\n",
       "         'years ago': 6,\n",
       "         'max': 6,\n",
       "         'syria': 6,\n",
       "         'australian': 6,\n",
       "         'sunday': 6,\n",
       "         'chinese': 6,\n",
       "         'afghan': 6,\n",
       "         'september': 6,\n",
       "         'seven': 6,\n",
       "         'smaug': 6,\n",
       "         'capsizes': 6,\n",
       "         'udhampur terror': 6,\n",
       "         'md': 6,\n",
       "         'ancient mayan tablet': 6,\n",
       "         'a week': 5,\n",
       "         'nine': 5,\n",
       "         'muslim': 5,\n",
       "         'italy': 5,\n",
       "         'mumbai': 5,\n",
       "         'cia': 5,\n",
       "         'americans': 5,\n",
       "         'fifth': 5,\n",
       "         'spanish': 5,\n",
       "         'meek': 5,\n",
       "         'the united states': 5,\n",
       "         'this afternoon': 5,\n",
       "         'toronto': 5,\n",
       "         'god': 5,\n",
       "         'annual': 5,\n",
       "         'republican': 5,\n",
       "         'this evening': 5,\n",
       "         'apollo': 5,\n",
       "         'ten': 5,\n",
       "         'trafford centre film': 5,\n",
       "         'more than half': 5,\n",
       "         'silver spring': 5,\n",
       "         'africa': 5,\n",
       "         'steve huffman': 5,\n",
       "         'last week': 4,\n",
       "         'los angeles': 4,\n",
       "         'bin laden': 4,\n",
       "         'lez': 4,\n",
       "         'christians': 4,\n",
       "         'wwii': 4,\n",
       "         'jewish': 4,\n",
       "         'million': 4,\n",
       "         'palestine': 4,\n",
       "         'jacksonville': 4,\n",
       "         'nasa': 4,\n",
       "         'all day': 4,\n",
       "         'dutch': 4,\n",
       "         'xbox': 4,\n",
       "         'louis vuitton monogram sophie': 4,\n",
       "         'one day': 4,\n",
       "         'northern california': 4,\n",
       "         'western uganda': 4,\n",
       "         'this year': 4,\n",
       "         'jeb amp bush': 4,\n",
       "         'jeb amp mitt': 4,\n",
       "         'jamaica': 4,\n",
       "         'spain': 4,\n",
       "         'david': 4,\n",
       "         'bbc': 4,\n",
       "         'seattle': 4,\n",
       "         'houston': 4,\n",
       "         'at least two': 4,\n",
       "         'iranian': 4,\n",
       "         'senate': 4,\n",
       "         'rt abbswinston zionist': 4,\n",
       "         'palestinians': 4,\n",
       "         'west bank': 4,\n",
       "         'this weekend': 4,\n",
       "         'winter': 4,\n",
       "         'apollo brown': 4,\n",
       "         'cnbc': 4,\n",
       "         'the year': 4,\n",
       "         'caitlin r kiernan centipede': 4,\n",
       "         'english': 4,\n",
       "         'kinda': 4,\n",
       "         'eight': 4,\n",
       "         'evening': 4,\n",
       "         'saturday': 4,\n",
       "         'maryland': 4,\n",
       "         'pcs w cree': 4,\n",
       "         'boston': 4,\n",
       "         'pdp  ': 4,\n",
       "         'islamic state group': 4,\n",
       "         'egypt': 4,\n",
       "         'next week': 4,\n",
       "         'edinburgh': 4,\n",
       "         'rome': 4,\n",
       "         'wisenews  chinas stock': 4,\n",
       "         'somalia': 4,\n",
       "         'kurdish': 4,\n",
       "         'km s': 4,\n",
       "         'alaska': 3,\n",
       "         'santa cruz': 3,\n",
       "         'michael': 3,\n",
       "         'mfs': 3,\n",
       "         'kenya': 3,\n",
       "         'ps': 3,\n",
       "         'arizona': 3,\n",
       "         'day': 3,\n",
       "         'tomorrow night': 3,\n",
       "         'japanese army navy': 3,\n",
       "         'lgbt  ': 3,\n",
       "         'tennessee': 3,\n",
       "         'nashville': 3,\n",
       "         'donald trump': 3,\n",
       "         'google': 3,\n",
       "         'next year': 3,\n",
       "         'usatoday': 3,\n",
       "         'fbi': 3,\n",
       "         'the weekend': 3,\n",
       "         'detroit': 3,\n",
       "         'sean': 3,\n",
       "         'sos': 3,\n",
       "         'ga': 3,\n",
       "         'year': 3,\n",
       "         'meek mill': 3,\n",
       "         'third': 3,\n",
       "         'germany': 3,\n",
       "         'poland': 3,\n",
       "         'kurtschlichter': 3,\n",
       "         'johannesburg': 3,\n",
       "         'dem': 3,\n",
       "         'scotland': 3,\n",
       "         'yemen': 3,\n",
       "         'bay area': 3,\n",
       "         'dan hughes': 3,\n",
       "         'bin laden family plane': 3,\n",
       "         'tuesday': 3,\n",
       "         'mullah': 3,\n",
       "         'a month': 3,\n",
       "         'mosque': 3,\n",
       "         'the spring': 3,\n",
       "         'six': 3,\n",
       "         'davidvonderhaar': 3,\n",
       "         'bbc news  ': 3,\n",
       "         'smithsonian': 3,\n",
       "         'december': 3,\n",
       "         'ford': 3,\n",
       "         'earlier this week': 3,\n",
       "         'this day': 3,\n",
       "         'spinningbot': 3,\n",
       "         'apollo brown  detonate': 3,\n",
       "         'richmond coaches': 3,\n",
       "         'jeff': 3,\n",
       "         'asia': 3,\n",
       "         'kuwait': 3,\n",
       "         'asian': 3,\n",
       "         'nbc': 3,\n",
       "         'weekend': 3,\n",
       "         'five years': 3,\n",
       "         'world war ii': 3,\n",
       "         'irish': 3,\n",
       "         'ems': 3,\n",
       "         'cuban': 3,\n",
       "         'one million': 3,\n",
       "         'indonesia': 3,\n",
       "         'foodscare offersgo nestleindia slips': 3,\n",
       "         'dallas': 3,\n",
       "         'surah': 3,\n",
       "         'humaza': 3,\n",
       "         'virgil van dijk': 3,\n",
       "         'croatian': 3,\n",
       "         'europe': 3,\n",
       "         'bluedio turbine hurricane h': 3,\n",
       "         'every year': 3,\n",
       "         'michael floyds': 3,\n",
       "         'sarah palin': 3,\n",
       "         'bronx': 3,\n",
       "         'whao  ': 3,\n",
       "         'stuart broad': 3,\n",
       "         'joe root': 3,\n",
       "         'depth km': 3,\n",
       "         'sassy city girl': 3,\n",
       "         'boeing': 3,\n",
       "         'saudi arabian': 3,\n",
       "         'oklahoma county': 3,\n",
       "         'amsterdam airport schiphol': 3,\n",
       "         'battlefield hardline': 3,\n",
       "         'la': 2,\n",
       "         'abia': 2,\n",
       "         'st elizabeth': 2,\n",
       "         'the last week': 2,\n",
       "         'south mooresville': 2,\n",
       "         'this past sunday': 2,\n",
       "         'aftershockdelo': 2,\n",
       "         'ltlt': 2,\n",
       "         'luka': 2,\n",
       "         'britain': 2,\n",
       "         'taylor': 2,\n",
       "         'cairo': 2,\n",
       "         'pbban temporary': 2,\n",
       "         'gtgt armageddon': 2,\n",
       "         'apocalypse armageddon': 2,\n",
       "         'sixth': 2,\n",
       "         'armageddon': 2,\n",
       "         'european': 2,\n",
       "         'hamilton': 2,\n",
       "         'east bay': 2,\n",
       "         'calif': 2,\n",
       "         'udhampur': 2,\n",
       "         'envw': 2,\n",
       "         'musician kalle mattson': 2,\n",
       "         'free ebay': 2,\n",
       "         'cdc': 2,\n",
       "         'pendleton': 2,\n",
       "         'leo': 2,\n",
       "         'rick': 2,\n",
       "         'jack': 2,\n",
       "         'cleveland': 2,\n",
       "         'blizzarddraco': 2,\n",
       "         'another day': 2,\n",
       "         'jesus': 2,\n",
       "         'sony': 2,\n",
       "         'tokyo': 2,\n",
       "         'marlon williams': 2,\n",
       "         'louis vuitton': 2,\n",
       "         'johnson': 2,\n",
       "         'wwe k': 2,\n",
       "         'turkey': 2,\n",
       "         'nato': 2,\n",
       "         'marshall': 2,\n",
       "         'dambisa moyo': 2,\n",
       "         'caribbean': 2,\n",
       "         'mexico': 2,\n",
       "         'minimehh': 2,\n",
       "         'a few days': 2,\n",
       "         'ben winston': 2,\n",
       "         'hinton': 2,\n",
       "         'fourth': 2,\n",
       "         'afternoon': 2,\n",
       "         'nazi': 2,\n",
       "         'minutes': 2,\n",
       "         'michaelsos': 2,\n",
       "         'jerry brown': 2,\n",
       "         'first half': 2,\n",
       "         'at least three': 2,\n",
       "         'endures feet': 2,\n",
       "         'dublin': 2,\n",
       "         'only one': 2,\n",
       "         'jan': 2,\n",
       "         'greek': 2,\n",
       "         'selfie': 2,\n",
       "         'portugal': 2,\n",
       "         'san antonio': 2,\n",
       "         'fort mchenry': 2,\n",
       "         'sacramento': 2,\n",
       "         'one night': 2,\n",
       "         'all night': 2,\n",
       "         'justin': 2,\n",
       "         'new de jhaustin thomas': 2,\n",
       "         'obama comparison': 2,\n",
       "         'iranians': 2,\n",
       "         'runion debris': 2,\n",
       "         'mh billneelynbc': 2,\n",
       "         'aircraft debris': 2,\n",
       "         'plane debris': 2,\n",
       "         'debris': 2,\n",
       "         'yahoo': 2,\n",
       "         'an hour': 2,\n",
       "         'rihanna': 2,\n",
       "         'dan': 2,\n",
       "         'middle east': 2,\n",
       "         'michigan': 2,\n",
       "         'achimota mile': 2,\n",
       "         'democrats': 2,\n",
       "         'doc': 2,\n",
       "         'csx': 2,\n",
       "         'knoxville news': 2,\n",
       "         'helpline': 2,\n",
       "         'electro': 2,\n",
       "         'england': 2,\n",
       "         'holland': 2,\n",
       "         'putin': 2,\n",
       "         'marquei como': 2,\n",
       "         'losdelsonido obama': 2,\n",
       "         'ma  ivanberroa': 2,\n",
       "         'barack obama': 2,\n",
       "         'abcnews  obama': 2,\n",
       "         'decades': 2,\n",
       "         'north korea': 2,\n",
       "         'illinois tornado': 2,\n",
       "         'marijuana': 2,\n",
       "         'grace': 2,\n",
       "         'earthquake km s': 2,\n",
       "         'ac': 2,\n",
       "         'survival kit': 2,\n",
       "         'about  hours': 2,\n",
       "         'vietnamese': 2,\n",
       "         'west coast': 2,\n",
       "         'louis': 2,\n",
       "         'fifa': 2,\n",
       "         'miami atlanta': 2,\n",
       "         'al zabadani': 2,\n",
       "         'philadelphia': 2,\n",
       "         'mans': 2,\n",
       "         'this past saturday': 2,\n",
       "         'cbs': 2,\n",
       "         'moscow': 2,\n",
       "         'soviet': 2,\n",
       "         'ethiopian': 2,\n",
       "         'new york city': 2,\n",
       "         'las vegas': 2,\n",
       "         'tch': 2,\n",
       "         'vabengal zss vs sws': 2,\n",
       "         'kosciusko police': 2,\n",
       "         'lebanon': 2,\n",
       "         'langley times': 2,\n",
       "         'sigalert north': 2,\n",
       "         'philippines': 2,\n",
       "         'nicki minaj': 2,\n",
       "         'shelby county': 2,\n",
       "         'travis county': 2,\n",
       "         'sweetyoung': 2,\n",
       "         'cole': 2,\n",
       "         'japton': 2,\n",
       "         'jax issues': 2,\n",
       "         'brazilian': 2,\n",
       "         'cherokee': 2,\n",
       "         'oregon': 2,\n",
       "         'msnbc': 2,\n",
       "         'holmgren': 2,\n",
       "         'miami': 2,\n",
       "         'fuckin hilarious': 2,\n",
       "         'venice': 2,\n",
       "         'youngheroesid lava blast': 2,\n",
       "         'lava lamp': 2,\n",
       "         'lava': 2,\n",
       "         'va': 2,\n",
       "         'joe': 2,\n",
       "         'obama': 2,\n",
       "         'ian': 2,\n",
       "         'mike magner': 2,\n",
       "         'stu': 2,\n",
       "         'paul': 2,\n",
       "         'cali': 2,\n",
       "         'two years': 2,\n",
       "         'navy': 2,\n",
       "         'la times': 2,\n",
       "         'stacey st': 2,\n",
       "         'national briefing  ': 2,\n",
       "         'west california': 2,\n",
       "         'bbc news': 2,\n",
       "         'san luis': 2,\n",
       "         'milwaukee': 2,\n",
       "         'george njenga': 2,\n",
       "         'wowo': 2,\n",
       "         'paris': 2,\n",
       "         'scott road  ': 2,\n",
       "         'womans': 2,\n",
       "         'marin county': 2,\n",
       "         'as many as  migrants': 2,\n",
       "         'ireland': 2,\n",
       "         'cindy': 2,\n",
       "         'baltimore': 2,\n",
       "         'venezuela': 2,\n",
       "         'chinas stock': 2,\n",
       "         'two hours': 2,\n",
       "         'okinawa island region': 2,\n",
       "         'bethlehem': 2,\n",
       "         'sixmeter crater': 2,\n",
       "         'clinton': 2,\n",
       "         'jennifer aniston': 2,\n",
       "         'june': 2,\n",
       "         'rightwaystan': 2,\n",
       "         'more than a dozen': 2,\n",
       "         'a day': 2,\n",
       "         'shanghai': 2,\n",
       "         'overnight': 2,\n",
       "         'that day': 2,\n",
       "         'this weeks': 2,\n",
       "         'last second': 2,\n",
       "         'gpm satellite': 2,\n",
       "         'newberg upheaval jacque betz': 2,\n",
       "         'diageos': 2,\n",
       "         'el reno': 2,\n",
       "         'ukraine': 2,\n",
       "         'karymsky lake': 2,\n",
       "         'ronnie fieg kith': 2,\n",
       "         'gel grey volcano  ': 2,\n",
       "         'parker ridge wildfire': 2,\n",
       "         'fifty': 2,\n",
       "         'twia': 2,\n",
       "         'the texas windstorm insurance association twia board of directors': 2,\n",
       "         'el salvador': 2,\n",
       "         'exc': 2,\n",
       "         'vermont street buffalo  ': 2,\n",
       "         'richmond va': 2,\n",
       "         'lake county': 1,\n",
       "         'tampa': 1,\n",
       "         'inec office': 1,\n",
       "         'bridgetown jamaica  ': 1,\n",
       "         'soooo': 1,\n",
       "         'every single night': 1,\n",
       "         'the next year': 1,\n",
       "         'six years': 1,\n",
       "         'kurds': 1,\n",
       "         'rene ablaze amp': 1,\n",
       "         'jacinta': 1,\n",
       "         'navista steve': 1,\n",
       "         'ian buff  magnitude   ': 1,\n",
       "         'stlouis caraccidentlawyer': 1,\n",
       "         'mile marker': 1,\n",
       "         'conf': 1,\n",
       "         'willis foreman': 1,\n",
       "         'suffield alberta': 1,\n",
       "         'david eisenhower': 1,\n",
       "         'charles schulz': 1,\n",
       "         'thomas paine': 1,\n",
       "         'david wiedemer': 1,\n",
       "         'gtgt  aftershock': 1,\n",
       "         'joel brown': 1,\n",
       "         'steve jobs': 1,\n",
       "         'george bernard': 1,\n",
       "         'andrew carnegie': 1,\n",
       "         'ps eu hmu': 1,\n",
       "         'alexalltimelow awwww': 1,\n",
       "         'coahuila mexico': 1,\n",
       "         'kca': 1,\n",
       "         'the night': 1,\n",
       "         'usama bin ladins': 1,\n",
       "         'colombia': 1,\n",
       "         'lorry': 1,\n",
       "         'reuters  yugvani': 1,\n",
       "         'new nanotech': 1,\n",
       "         'skyhawkmm traplord fredosantana': 1,\n",
       "         'lilreese': 1,\n",
       "         'pakistan air ambulance': 1,\n",
       "         'kiwikaryn check': 1,\n",
       "         'johns': 1,\n",
       "         'hatzolah ems': 1,\n",
       "         'marksmaponyane heysundowns': 1,\n",
       "         'arabian': 1,\n",
       "         'last nights': 1,\n",
       "         'stormbeard steellord': 1,\n",
       "         'cech': 1,\n",
       "         'paul keegan': 1,\n",
       "         'summerslam': 1,\n",
       "         'damascus': 1,\n",
       "         'alloosh': 1,\n",
       "         'camden': 1,\n",
       "         'juanny beisbol': 1,\n",
       "         'rvfriedmann hell': 1,\n",
       "         'quarterstaff': 1,\n",
       "         'kimkardashian': 1,\n",
       "         'jeb christie amp kasich': 1,\n",
       "         'less than  hours': 1,\n",
       "         'nova': 1,\n",
       "         'johnny': 1,\n",
       "         'ohh no fukurodani': 1,\n",
       "         'jocelyn': 1,\n",
       "         'rt janenelson rt stephenscifi': 1,\n",
       "         'charlie': 1,\n",
       "         'another hour': 1,\n",
       "         'honeybunzgem': 1,\n",
       "         'julie  r': 1,\n",
       "         'rt zonewolf': 1,\n",
       "         'vid doublecups gtgt  gtgt': 1,\n",
       "         'armageddon  microsoft': 1,\n",
       "         'katiekatcubs': 1,\n",
       "         'hsu hao': 1,\n",
       "         'enews ben affleck': 1,\n",
       "         'aberdeenfc aberdeenfanpage': 1,\n",
       "         'paddytomlinson armageddon': 1,\n",
       "         'the justice department': 1,\n",
       "         'vladimir putin': 1,\n",
       "         'el patron': 1,\n",
       "         'christmas': 1,\n",
       "         'jews': 1,\n",
       "         'armageddon  us': 1,\n",
       "         'vid gt': 1,\n",
       "         'doublecups gtgt  gtgt': 1,\n",
       "         'armageddon preseasonworkouts': 1,\n",
       "         'lee': 1,\n",
       "         'paul craig': 1,\n",
       "         'roberts  vladimir putin': 1,\n",
       "         'vid thereal': 1,\n",
       "         'armageddon comin': 1,\n",
       "         'salvation army': 1,\n",
       "         'victorinox swiss army': 1,\n",
       "         'stony jackson': 1,\n",
       "         'gen richard g kaiser': 1,\n",
       "         'the mississippi river commission': 1,\n",
       "         'shira banki': 1,\n",
       "         'lgbt': 1,\n",
       "         'lesbian couple': 1,\n",
       "         'arson  lesbian': 1,\n",
       "         'localarsonist': 1,\n",
       "         'dick': 1,\n",
       "         'bloorossington': 1,\n",
       "         'northumberland st cbcto': 1,\n",
       "         'vegetarian': 1,\n",
       "         'govegan uniteblue': 1,\n",
       "         'long beach': 1,\n",
       "         'zodiac': 1,\n",
       "         'beatz': 1,\n",
       "         'chuck da': 1,\n",
       "         'doofus': 1,\n",
       "         'earl': 1,\n",
       "         'localarsonist lmao': 1,\n",
       "         'frank elliott': 1,\n",
       "         'north waziristan': 1,\n",
       "         'volleyball attack ii': 1,\n",
       "         'india shud': 1,\n",
       "         'ps vita': 1,\n",
       "         'julie  ': 1,\n",
       "         'greece': 1,\n",
       "         'patrick kane': 1,\n",
       "         'juliedicaro jdabe': 1,\n",
       "         'kelly': 1,\n",
       "         'eunicenjoki': 1,\n",
       "         'welovela nhlducks avalanche defense': 1,\n",
       "         'kalle mattson  avalanche': 1,\n",
       "         'avalanche reebok': 1,\n",
       "         'nhl': 1,\n",
       "         'patrick roy': 1,\n",
       "         'frothy gyp  ': 1,\n",
       "         'avalanche preseason': 1,\n",
       "         'chevy': 1,\n",
       "         'rt  chevrolet': 1,\n",
       "         'avalanche ltz': 1,\n",
       "         'chiasson sens': 1,\n",
       "         'paul rudd emile': 1,\n",
       "         'david gordon': 1,\n",
       "         'last season': 1,\n",
       "         'funkflex yo flex': 1,\n",
       "         'avalanche city': 1,\n",
       "         'chevrolet': 1,\n",
       "         'l v   v': 1,\n",
       "         'new hampshire': 1,\n",
       "         'dragon ball': 1,\n",
       "         'mod bat': 1,\n",
       "         'ya boy clip': 1,\n",
       "         'kus full': 1,\n",
       "         'kelby tomlinson': 1,\n",
       "         'utahcanary sigh daily': 1,\n",
       "         'canberra gallipoli ww': 1,\n",
       "         'atlbizchron': 1,\n",
       "         'house energy ampamp commerce subcommittee': 1,\n",
       "         'rt alisonannyoung': 1,\n",
       "         'fedex corp nyse': 1,\n",
       "         'atlanta business chronicle': 1,\n",
       "         'the department of defense': 1,\n",
       "         'orchardalley': 1,\n",
       "         'jax biz': 1,\n",
       "         'wxiatv': 1,\n",
       "         'fema': 1,\n",
       "         'len horowitz': 1,\n",
       "         'satans': 1,\n",
       "         'ps nyc': 1,\n",
       "         'meyerbjoern thelonevirologi mackayim': 1,\n",
       "         'aphiabeta': 1,\n",
       "         'kidnapgafp': 1,\n",
       "         'equestrian': 1,\n",
       "         'kaotixblaze': 1,\n",
       "         'djknyce djoneplustwo': 1,\n",
       "         'bellalinn alrighty': 1,\n",
       "         'audacityjamesta': 1,\n",
       "         'this a few weeks ago': 1,\n",
       "         'socialmedia news  new': 1,\n",
       "         'christycroley': 1,\n",
       "         'daem': 1,\n",
       "         'crystalblaz s jiwonle': 1,\n",
       "         'fireman birthday party': 1,\n",
       "         'danryckert drewscanlon': 1,\n",
       "         'marquez': 1,\n",
       "         'omgbethersss bethanymota': 1,\n",
       "         'latin': 1,\n",
       "         'midday': 1,\n",
       "         'acousticmaloley': 1,\n",
       "         'tecno': 1,\n",
       "         'joe landolina': 1,\n",
       "         'darrylb yea': 1,\n",
       "         'vampiro': 1,\n",
       "         'madara': 1,\n",
       "         'til cams': 1,\n",
       "         'uptownjorge head': 1,\n",
       "         'chaosmagician': 1,\n",
       "         'tammyw elijahmallari': 1,\n",
       "         'benjm tourofutah': 1,\n",
       "         'benkin mili': 1,\n",
       "         'codythompson': 1,\n",
       "         'robsimss cantmisskid': 1,\n",
       "         'this night': 1,\n",
       "         'iphooey time': 1,\n",
       "         'wron paul amp': 1,\n",
       "         'daorcey': 1,\n",
       "         'cleveland heights': 1,\n",
       "         'carl everest rob': 1,\n",
       "         'the tennessee housing development   news': 1,\n",
       "         'tracy blight': 1,\n",
       "         'ohio': 1,\n",
       "         'michael jackman': 1,\n",
       "         'metro times': 1,\n",
       "         'locksmithingart': 1,\n",
       "         'pamela blizzard  ': 1,\n",
       "         'ashayo msmiggi hi ashayo': 1,\n",
       "         'lucio': 1,\n",
       "         'blizzarddraco lonewolffur': 1,\n",
       "         'sg blizzard': 1,\n",
       "         'lindsay buroker  kindle': 1,\n",
       "         'setzorah': 1,\n",
       "         'omron hemc': 1,\n",
       "         'scotto': 1,\n",
       "         'loboparanoico mad': 1,\n",
       "         'green day': 1,\n",
       "         'everyday': 1,\n",
       "         'lauradeholanda': 1,\n",
       "         'jessienojoke melissaross': 1,\n",
       "         'jonesluna': 1,\n",
       "         'monday': 1,\n",
       "         'elvis presley gt': 1,\n",
       "         'libraryeliza': 1,\n",
       "         'last month': 1,\n",
       "         'almost half': 1,\n",
       "         'all the years': 1,\n",
       "         'vanessas game': 1,\n",
       "         'mosquito': 1,\n",
       "         'lukewinkie': 1,\n",
       "         'james': 1,\n",
       "         'ra al ghul': 1,\n",
       "         'mulberry antony': 1,\n",
       "         'auth louis vuitton brown saumur': 1,\n",
       "         'nuu': 1,\n",
       "         'ohmyloz rondarousey': 1,\n",
       "         'broseidonrex': 1,\n",
       "         'mopheme': 1,\n",
       "         'amaramin meek': 1,\n",
       "         'dlac': 1,\n",
       "         'nigga stacey': 1,\n",
       "         'aubrey': 1,\n",
       "         'foxnews jengriffinfnc': 1,\n",
       "         'womengirls': 1,\n",
       "         'micom zip po': 1,\n",
       "         'bestseller fossil dawson mini': 1,\n",
       "         'charlotte nc  concert': 1,\n",
       "         'limpar': 1,\n",
       "         'asymbina tithenai': 1,\n",
       "         'marks  years': 1,\n",
       "         'god praiz': 1,\n",
       "         'swellyjetevo': 1,\n",
       "         'flavafraz whatcanthedo': 1,\n",
       "         'the year anniversary': 1,\n",
       "         'the united s': 1,\n",
       "         'melanie fiona': 1,\n",
       "         'jays rocking mlb': 1,\n",
       "         'bell moseby': 1,\n",
       "         'north africa': 1,\n",
       "         'last  years': 1,\n",
       "         'myfriendmina': 1,\n",
       "         'this hour': 1,\n",
       "         'nicklee  ': 1,\n",
       "         'rorington nowt': 1,\n",
       "         'iraqis': 1,\n",
       "         'cheetosarabia': 1,\n",
       "         'raniakhalek': 1,\n",
       "         'rlauren xojademarie': 1,\n",
       "         'johnejefferson': 1,\n",
       "         'wr roberts': 1,\n",
       "         'the united states of america': 1,\n",
       "         'ri': 1,\n",
       "         'the united kingdom': 1,\n",
       "         'one hour': 1,\n",
       "         'november  ': 1,\n",
       "         'nbcnews': 1,\n",
       "         'rinkydnk zaibatsunews': 1,\n",
       "         'bill clinton': 1,\n",
       "         'sioux city': 1,\n",
       "         'central mexico': 1,\n",
       "         'kansas city': 1,\n",
       "         'swiss': 1,\n",
       "         'kanglaonline   yugvani': 1,\n",
       "         'central mexico  ': 1,\n",
       "         'church bstop oworoshoki': 1,\n",
       "         'leicestermerc': 1,\n",
       "         'sonofliberty': 1,\n",
       "         'dougmartin fireman ed': 1,\n",
       "         'kou': 1,\n",
       "         'messi': 1,\n",
       "         'kellys': 1,\n",
       "         'doctorfluxx stefanejones': 1,\n",
       "         'bradford': 1,\n",
       "         'xela': 1,\n",
       "         'greenbuildermag': 1,\n",
       "         'this wednesday': 1,\n",
       "         'manchester': 1,\n",
       "         'hinton city': 1,\n",
       "         'the middle ages': 1,\n",
       "         'hgf': 1,\n",
       "         'alton brown': 1,\n",
       "         'thomasvissman keithyyl': 1,\n",
       "         'hermancranston atk letsfootball rt skanndtyagi letsfootball atk': 1,\n",
       "         'fed': 1,\n",
       "         'chris mullin': 1,\n",
       "         'st johns': 1,\n",
       "         'johnsontionne': 1,\n",
       "         'zionism': 1,\n",
       "         'rt huffpostcomedy': 1,\n",
       "         'every morning': 1,\n",
       "         'nagelashley vicken basedlarock gooncty rip': 1,\n",
       "         'one  year old': 1,\n",
       "         'the last few days of summer': 1,\n",
       "         'foxnewsvideo aiiamericangiri anhqdc': 1,\n",
       "         'rt dhsscitech': 1,\n",
       "         'ali': 1,\n",
       "         'coquitlam  ': 1,\n",
       "         'drew storen': 1,\n",
       "         'kshllcenterpri': 1,\n",
       "         'insane bush': 1,\n",
       "         'omfg': 1,\n",
       "         'alhanda': 1,\n",
       "         'hillary clinton': 1,\n",
       "         'johnfromcranber': 1,\n",
       "         'nsw': 1,\n",
       "         'past tomorrow': 1,\n",
       "         'lone pine gallipoli': 1,\n",
       "         'alcoholandmetal': 1,\n",
       "         'countermoonbat voodooben': 1,\n",
       "         'news wrap': 1,\n",
       "         'pbs': 1,\n",
       "         'several months': 1,\n",
       "         'amicos': 1,\n",
       "         'amicospizzato seeyouatamicos': 1,\n",
       "         'casualty team ice': 1,\n",
       "         'instapundit kurtschlichter': 1,\n",
       "         'social casualty': 1,\n",
       "         'tens of millions': 1,\n",
       "         'barry': 1,\n",
       "         'safeco  usa': 1,\n",
       "         'britney': 1,\n",
       "         'macabrelolita': 1,\n",
       "         'thirtyfive years later': 1,\n",
       "         'netanyahu': 1,\n",
       "         'kessler': 1,\n",
       "         'the next  years': 1,\n",
       "         'illinois': 1,\n",
       "         'nuclearbiologicalchemical nbc brigade': 1,\n",
       "         'md  ': 1,\n",
       "         'davidcameron stop': 1,\n",
       "         'beaumont': 1,\n",
       "         'krefeld germany': 1,\n",
       "         'mod v  chemical': 1,\n",
       "         'dmunni jeannamibian noooooooo  proceeds': 1,\n",
       "         'fuck  neil': 1,\n",
       "         'funnynews business': 1,\n",
       "         'alex': 1,\n",
       "         'gore': 1,\n",
       "         'an  day': 1,\n",
       "         'richard  ': 1,\n",
       "         'yahoo cricket india': 1,\n",
       "         'seconds': 1,\n",
       "         'austrian': 1,\n",
       "         'roh jfb': 1,\n",
       "         'us roh smantibatam rohsmantibatam': 1,\n",
       "         'sholt mtgrotto': 1,\n",
       "         'gut deutsch': 1,\n",
       "         'ltbgtchocolateltbgt gateau': 1,\n",
       "         'more than  years': 1,\n",
       "         'phil': 1,\n",
       "         'bay district': 1,\n",
       "         'panama city': 1,\n",
       "         'montego bay': 1,\n",
       "         'the nd year': 1,\n",
       "         'jan moir': 1,\n",
       "         'soultech  collide club': 1,\n",
       "         'january': 1,\n",
       "         'nyc collide  pageparkescorp chloeunguyen laurensicle charstevens tiaramarei gemma': 1,\n",
       "         'lennonparham jessicastclair': 1,\n",
       "         'eau': 1,\n",
       "         'chippewa county': 1,\n",
       "         'anna todd': 1,\n",
       "         'car vs': 1,\n",
       "         'askforalaska': 1,\n",
       "         'omg omg omg justinbieber': 1,\n",
       "         'lvictoria': 1,\n",
       "         'zojadelin': 1,\n",
       "         's charles': 1,\n",
       "         'beatb motor': 1,\n",
       "         'franklin blvd': 1,\n",
       "         'hwy eb just east of': 1,\n",
       "         'hwy  cambridge': 1,\n",
       "         'santa fe springs studebaker rd': 1,\n",
       "         'baltimore city': 1,\n",
       "         'thisisfaz anti': 1,\n",
       "         'san bernardino': 1,\n",
       "         'sr w  knott st': 1,\n",
       "         'west valley': 1,\n",
       "         'frank hill rd': 1,\n",
       "         'colorado news motorcyclist': 1,\n",
       "         'hwy eb': 1,\n",
       "         'between  pm and  pm': 1,\n",
       "         'fort erie bound': 1,\n",
       "         'kierannicholson': 1,\n",
       "         'grtvnews': 1,\n",
       "         'thomas rhett': 1,\n",
       "         'motogp indianapolis': 1,\n",
       "         'michael molloy': 1,\n",
       "         'cpanel': 1,\n",
       "         'chelsdelong kendraleigh ill': 1,\n",
       "         'johns island': 1,\n",
       "         'akilah world news cop': 1,\n",
       "         'paul scheer': 1,\n",
       "         'rob huebels comedy special': 1,\n",
       "         'uk bin laden family plane': 1,\n",
       "         'the past couple hours': 1,\n",
       "         'gt bin laden family plane': 1,\n",
       "         'this few days ago': 1,\n",
       "         'pak army': 1,\n",
       "         'at least  ': 1,\n",
       "         'yday': 1,\n",
       "         'amp day': 1,\n",
       "         'paul rudd': 1,\n",
       "         'michaelsos calumsos': 1,\n",
       "         'womem crush': 1,\n",
       "         'jorrynja   your bfgfcrush  terell': 1,\n",
       "         'wedneday': 1,\n",
       "         'a minute': 1,\n",
       "         'ron amp fez': 1,\n",
       "         'khadidon': 1,\n",
       "         'wen crush': 1,\n",
       "         'tiffanyfrizzell': 1,\n",
       "         'nykaed': 1,\n",
       "         'fitz': 1,\n",
       "         'kenny holland': 1,\n",
       "         'edwin': 1,\n",
       "         'cor': 1,\n",
       "         'jmastrodonato': 1,\n",
       "         'williams': 1,\n",
       "         'a  mile': 1,\n",
       "         'nick williams': 1,\n",
       "         'two weeks': 1,\n",
       "         'pperez': 1,\n",
       "         'ara news': 1,\n",
       "         'evanston': 1,\n",
       "         'kodak': 1,\n",
       "         'exofficio mens': 1,\n",
       "         'info s wnd  cld sct': 1,\n",
       "         'reddakushgodd': 1,\n",
       "         'a few months': 1,\n",
       "         'mauryn': 1,\n",
       "         'info r curfew': 1,\n",
       "         'info u cld sct': 1,\n",
       "         'itz': 1,\n",
       "         'dis': 1,\n",
       "         'the beginning of summer': 1,\n",
       "         'charlie lim': 1,\n",
       "         'awwww': 1,\n",
       "         'walter rewatchingthepilot': 1,\n",
       "         'guam': 1,\n",
       "         'great condition easton': 1,\n",
       "         'norman vincent': 1,\n",
       "         'hudhud': 1,\n",
       "         'quarter': 1,\n",
       "         'info soudelor': 1,\n",
       "         'jackson vroman house': 1,\n",
       "         'dhaka': 1,\n",
       "         'buthidaung': 1,\n",
       "         'wha': 1,\n",
       "         'west tennessee': 1,\n",
       "         'joedawg tor': 1,\n",
       "         'metallica  damage inc': 1,\n",
       "         'shia': 1,\n",
       "         'fluid builds': 1,\n",
       "         'madison county': 1,\n",
       "         'lmao fuckboy': 1,\n",
       "         'michaelwestbiz standard': 1,\n",
       "         'gettinglost jennellensbb': 1,\n",
       "         'danger of union': 1,\n",
       "         'dyannbridges': 1,\n",
       "         'carsonrex spaceangelseven': 1,\n",
       "         'african': 1,\n",
       "         'therealrittz fettilootch': 1,\n",
       "         'gunnersfan': 1,\n",
       "         'west ham': 1,\n",
       "         'this season': 1,\n",
       "         'nuggets fettilootch': 1,\n",
       "         'central california': 1,\n",
       "         'robert mueller': 1,\n",
       "         'coyi': 1,\n",
       "         'joel  and': 1,\n",
       "         'bee': 1,\n",
       "         'lmfao fucking luis hhahaha': 1,\n",
       "         'ross': 1,\n",
       "         'libyan': 1,\n",
       "         'don': 1,\n",
       "         'joneskyle': 1,\n",
       "         'askcharley': 1,\n",
       "         'a year later': 1,\n",
       "         ...})"
      ]
     },
     "execution_count": 224,
     "metadata": {},
     "output_type": "execute_result"
    }
   ],
   "source": [
    "filtered_entity_counts"
   ]
  },
  {
   "cell_type": "code",
   "execution_count": 225,
   "metadata": {},
   "outputs": [],
   "source": [
    "top_filtered_entities = filtered_entity_counts.most_common(10)"
   ]
  },
  {
   "cell_type": "code",
   "execution_count": 226,
   "metadata": {},
   "outputs": [
    {
     "data": {
      "text/plain": [
       "[('california', 104),\n",
       " ('hiroshima', 87),\n",
       " ('japan', 42),\n",
       " ('iran', 35),\n",
       " ('us', 30),\n",
       " ('israeli', 28),\n",
       " ('calgary', 28),\n",
       " ('saudi', 27),\n",
       " ('mh malaysia', 25),\n",
       " ('american', 24)]"
      ]
     },
     "execution_count": 226,
     "metadata": {},
     "output_type": "execute_result"
    }
   ],
   "source": [
    "top_filtered_entities"
   ]
  },
  {
   "cell_type": "code",
   "execution_count": 227,
   "metadata": {},
   "outputs": [],
   "source": [
    "# Prepare data for visualization\n",
    "filtered_entities, filtered_counts = zip(*top_filtered_entities)"
   ]
  },
  {
   "cell_type": "code",
   "execution_count": 228,
   "metadata": {},
   "outputs": [
    {
     "data": {
      "image/png": "[encoded data removed]",
      "text/plain": [
       "<Figure size 1000x600 with 1 Axes>"
      ]
     },
     "metadata": {},
     "output_type": "display_data"
    }
   ],
   "source": [
    "# Plot the most frequent named entities after filtering out common terms\n",
    "plt.figure(figsize=(10, 6))\n",
    "sns.barplot(x=list(filtered_entities), y=list(filtered_counts))\n",
    "plt.title('Top 10 Most Frequent Named Entities in Tweets (Filtered)')\n",
    "plt.xlabel('Entity')\n",
    "plt.ylabel('Frequency')\n",
    "plt.xticks(rotation=45, ha='right')\n",
    "plt.show()"
   ]
  },
  {
   "cell_type": "markdown",
   "metadata": {},
   "source": [
    "----------------------------------------------------------------------------"
   ]
  },
  {
   "cell_type": "markdown",
   "metadata": {},
   "source": [
    "***Task: Model Selection and Training***"
   ]
  },
  {
   "cell_type": "code",
   "execution_count": 229,
   "metadata": {},
   "outputs": [
    {
     "data": {
      "text/plain": [
       "Index(['id', 'keyword', 'location', 'text', 'target', 'cleaned_text', 'tokens',\n",
       "       'tweet_length', 'sentiment', 'hashtag_count', 'mention_user_count',\n",
       "       'assigned_topic', 'entities', 'filtered_entities'],\n",
       "      dtype='object')"
      ]
     },
     "execution_count": 229,
     "metadata": {},
     "output_type": "execute_result"
    }
   ],
   "source": [
    "Data.columns"
   ]
  },
  {
   "cell_type": "code",
   "execution_count": 230,
   "metadata": {},
   "outputs": [],
   "source": [
    "Data = Data.drop(columns='entities')"
   ]
  },
  {
   "cell_type": "code",
   "execution_count": 231,
   "metadata": {},
   "outputs": [
    {
     "data": {
      "text/html": [
       "<div>\n",
       "<style scoped>\n",
       "    .dataframe tbody tr th:only-of-type {\n",
       "        vertical-align: middle;\n",
       "    }\n",
       "\n",
       "    .dataframe tbody tr th {\n",
       "        vertical-align: top;\n",
       "    }\n",
       "\n",
       "    .dataframe thead th {\n",
       "        text-align: right;\n",
       "    }\n",
       "</style>\n",
       "<table border=\"1\" class=\"dataframe\">\n",
       "  <thead>\n",
       "    <tr style=\"text-align: right;\">\n",
       "      <th></th>\n",
       "      <th>id</th>\n",
       "      <th>keyword</th>\n",
       "      <th>location</th>\n",
       "      <th>text</th>\n",
       "      <th>target</th>\n",
       "      <th>cleaned_text</th>\n",
       "      <th>tokens</th>\n",
       "      <th>tweet_length</th>\n",
       "      <th>sentiment</th>\n",
       "      <th>hashtag_count</th>\n",
       "      <th>mention_user_count</th>\n",
       "      <th>assigned_topic</th>\n",
       "      <th>filtered_entities</th>\n",
       "    </tr>\n",
       "  </thead>\n",
       "  <tbody>\n",
       "    <tr>\n",
       "      <th>0</th>\n",
       "      <td>1</td>\n",
       "      <td>unknown</td>\n",
       "      <td>unknown</td>\n",
       "      <td>Our Deeds are the Reason of this #earthquake M...</td>\n",
       "      <td>1</td>\n",
       "      <td>our deeds are the reason of this earthquake ma...</td>\n",
       "      <td>[our, deeds, are, the, reason, of, this, earth...</td>\n",
       "      <td>13</td>\n",
       "      <td>0.00000</td>\n",
       "      <td>1</td>\n",
       "      <td>0</td>\n",
       "      <td>2</td>\n",
       "      <td>[]</td>\n",
       "    </tr>\n",
       "    <tr>\n",
       "      <th>1</th>\n",
       "      <td>4</td>\n",
       "      <td>unknown</td>\n",
       "      <td>unknown</td>\n",
       "      <td>Forest fire near La Ronge Sask. Canada</td>\n",
       "      <td>1</td>\n",
       "      <td>forest fire near la ronge sask canada</td>\n",
       "      <td>[forest, fire, near, la, ronge, sask, canada]</td>\n",
       "      <td>7</td>\n",
       "      <td>0.10000</td>\n",
       "      <td>0</td>\n",
       "      <td>0</td>\n",
       "      <td>2</td>\n",
       "      <td>[la, canada]</td>\n",
       "    </tr>\n",
       "    <tr>\n",
       "      <th>2</th>\n",
       "      <td>5</td>\n",
       "      <td>unknown</td>\n",
       "      <td>unknown</td>\n",
       "      <td>All residents asked to 'shelter in place' are ...</td>\n",
       "      <td>1</td>\n",
       "      <td>all residents asked to shelter in place are be...</td>\n",
       "      <td>[all, residents, asked, to, shelter, in, place...</td>\n",
       "      <td>22</td>\n",
       "      <td>-0.01875</td>\n",
       "      <td>0</td>\n",
       "      <td>0</td>\n",
       "      <td>2</td>\n",
       "      <td>[]</td>\n",
       "    </tr>\n",
       "    <tr>\n",
       "      <th>3</th>\n",
       "      <td>6</td>\n",
       "      <td>unknown</td>\n",
       "      <td>unknown</td>\n",
       "      <td>13,000 people receive #wildfires evacuation or...</td>\n",
       "      <td>1</td>\n",
       "      <td>people receive wildfires evacuation orders in...</td>\n",
       "      <td>[people, receive, wildfires, evacuation, order...</td>\n",
       "      <td>7</td>\n",
       "      <td>0.00000</td>\n",
       "      <td>1</td>\n",
       "      <td>0</td>\n",
       "      <td>1</td>\n",
       "      <td>[california]</td>\n",
       "    </tr>\n",
       "    <tr>\n",
       "      <th>4</th>\n",
       "      <td>7</td>\n",
       "      <td>unknown</td>\n",
       "      <td>unknown</td>\n",
       "      <td>Just got sent this photo from Ruby #Alaska as ...</td>\n",
       "      <td>1</td>\n",
       "      <td>just got sent this photo from ruby alaska as s...</td>\n",
       "      <td>[just, got, sent, this, photo, from, ruby, ala...</td>\n",
       "      <td>16</td>\n",
       "      <td>0.00000</td>\n",
       "      <td>2</td>\n",
       "      <td>0</td>\n",
       "      <td>2</td>\n",
       "      <td>[alaska]</td>\n",
       "    </tr>\n",
       "  </tbody>\n",
       "</table>\n",
       "</div>"
      ],
      "text/plain": [
       "   id  keyword location                                               text  \\\n",
       "0   1  unknown  unknown  Our Deeds are the Reason of this #earthquake M...   \n",
       "1   4  unknown  unknown             Forest fire near La Ronge Sask. Canada   \n",
       "2   5  unknown  unknown  All residents asked to 'shelter in place' are ...   \n",
       "3   6  unknown  unknown  13,000 people receive #wildfires evacuation or...   \n",
       "4   7  unknown  unknown  Just got sent this photo from Ruby #Alaska as ...   \n",
       "\n",
       "   target                                       cleaned_text  \\\n",
       "0       1  our deeds are the reason of this earthquake ma...   \n",
       "1       1              forest fire near la ronge sask canada   \n",
       "2       1  all residents asked to shelter in place are be...   \n",
       "3       1   people receive wildfires evacuation orders in...   \n",
       "4       1  just got sent this photo from ruby alaska as s...   \n",
       "\n",
       "                                              tokens  tweet_length  sentiment  \\\n",
       "0  [our, deeds, are, the, reason, of, this, earth...            13    0.00000   \n",
       "1      [forest, fire, near, la, ronge, sask, canada]             7    0.10000   \n",
       "2  [all, residents, asked, to, shelter, in, place...            22   -0.01875   \n",
       "3  [people, receive, wildfires, evacuation, order...             7    0.00000   \n",
       "4  [just, got, sent, this, photo, from, ruby, ala...            16    0.00000   \n",
       "\n",
       "   hashtag_count  mention_user_count  assigned_topic filtered_entities  \n",
       "0              1                   0               2                []  \n",
       "1              0                   0               2      [la, canada]  \n",
       "2              0                   0               2                []  \n",
       "3              1                   0               1      [california]  \n",
       "4              2                   0               2          [alaska]  "
      ]
     },
     "execution_count": 231,
     "metadata": {},
     "output_type": "execute_result"
    }
   ],
   "source": [
    "Data.head()"
   ]
  },
  {
   "cell_type": "code",
   "execution_count": 232,
   "metadata": {},
   "outputs": [
    {
     "data": {
      "text/plain": [
       "id                      int64\n",
       "keyword                object\n",
       "location               object\n",
       "text                   object\n",
       "target                  int64\n",
       "cleaned_text           object\n",
       "tokens                 object\n",
       "tweet_length            int64\n",
       "sentiment             float64\n",
       "hashtag_count           int64\n",
       "mention_user_count      int64\n",
       "assigned_topic          int64\n",
       "filtered_entities      object\n",
       "dtype: object"
      ]
     },
     "execution_count": 232,
     "metadata": {},
     "output_type": "execute_result"
    }
   ],
   "source": [
    "Data.dtypes"
   ]
  },
  {
   "cell_type": "code",
   "execution_count": 233,
   "metadata": {},
   "outputs": [
    {
     "data": {
      "text/plain": [
       "id                    0\n",
       "keyword               0\n",
       "location              0\n",
       "text                  0\n",
       "target                0\n",
       "cleaned_text          0\n",
       "tokens                0\n",
       "tweet_length          0\n",
       "sentiment             0\n",
       "hashtag_count         0\n",
       "mention_user_count    0\n",
       "assigned_topic        0\n",
       "filtered_entities     0\n",
       "dtype: int64"
      ]
     },
     "execution_count": 233,
     "metadata": {},
     "output_type": "execute_result"
    }
   ],
   "source": [
    "Data.isna().sum()"
   ]
  },
  {
   "cell_type": "code",
   "execution_count": 234,
   "metadata": {},
   "outputs": [
    {
     "data": {
      "text/plain": [
       "Index(['id', 'keyword', 'location', 'text', 'target', 'cleaned_text', 'tokens',\n",
       "       'tweet_length', 'sentiment', 'hashtag_count', 'mention_user_count',\n",
       "       'assigned_topic', 'filtered_entities'],\n",
       "      dtype='object')"
      ]
     },
     "execution_count": 234,
     "metadata": {},
     "output_type": "execute_result"
    }
   ],
   "source": [
    "Data.columns"
   ]
  },
  {
   "cell_type": "markdown",
   "metadata": {},
   "source": [
    "***Columns to Include for Modeling***"
   ]
  },
  {
   "cell_type": "markdown",
   "metadata": {},
   "source": [
    "'cleaned_text': This will be used for TF-IDF vectorization to capture the semantic content of the tweet.\n",
    "\n",
    "'sentiment': The sentiment score can help understand the tone of the tweet.\n",
    "\n",
    "'tweet_length': Length of the tweet, which could be relevant for classification.\n",
    "\n",
    "'hashtag_count': Number of hashtags in the tweet, which can be important for disaster-related topics.\n",
    "\n",
    "'mention_user_count': The number of user mentions in the tweet.\n",
    "\n",
    "'assigned_topic': Topic assigned to each tweet based on the LDA model."
   ]
  },
  {
   "cell_type": "markdown",
   "metadata": {},
   "source": [
    "***Target Column***"
   ]
  },
  {
   "cell_type": "markdown",
   "metadata": {},
   "source": [
    "'target': This is the label (1 for disaster, 0 for non-disaster)."
   ]
  },
  {
   "cell_type": "code",
   "execution_count": 235,
   "metadata": {},
   "outputs": [],
   "source": [
    "def identify_columns(df):\n",
    "    categorical_columns = df.select_dtypes(include=['object', 'category']).columns.tolist()\n",
    "    continuous_columns = df.select_dtypes(include=['number']).columns.tolist()\n",
    "    \n",
    "    return categorical_columns, continuous_columns"
   ]
  },
  {
   "cell_type": "code",
   "execution_count": 236,
   "metadata": {},
   "outputs": [],
   "source": [
    "categorical_columns, continuous_columns = identify_columns(Data)"
   ]
  },
  {
   "cell_type": "code",
   "execution_count": 237,
   "metadata": {},
   "outputs": [
    {
     "name": "stdout",
     "output_type": "stream",
     "text": [
      "categorical_columns : ['keyword', 'location', 'text', 'cleaned_text', 'tokens', 'filtered_entities'] \n",
      "continuous_columns : ['id', 'target', 'tweet_length', 'sentiment', 'hashtag_count', 'mention_user_count', 'assigned_topic']\n"
     ]
    }
   ],
   "source": [
    "print(f\"categorical_columns : {categorical_columns} \\ncontinuous_columns : {continuous_columns}\")"
   ]
  },
  {
   "cell_type": "code",
   "execution_count": 238,
   "metadata": {},
   "outputs": [
    {
     "data": {
      "text/plain": [
       "['keyword', 'location', 'text', 'cleaned_text', 'tokens', 'filtered_entities']"
      ]
     },
     "execution_count": 238,
     "metadata": {},
     "output_type": "execute_result"
    }
   ],
   "source": [
    "categorical_columns"
   ]
  },
  {
   "cell_type": "code",
   "execution_count": 239,
   "metadata": {},
   "outputs": [
    {
     "name": "stdout",
     "output_type": "stream",
     "text": [
      "keyword\n",
      "location\n",
      "text\n",
      "cleaned_text\n",
      "tokens\n",
      "filtered_entities\n"
     ]
    }
   ],
   "source": [
    "for col in categorical_columns:\n",
    "    print(col)"
   ]
  },
  {
   "cell_type": "code",
   "execution_count": 240,
   "metadata": {},
   "outputs": [
    {
     "data": {
      "text/plain": [
       "0       [our, deeds, are, the, reason, of, this, earth...\n",
       "1           [forest, fire, near, la, ronge, sask, canada]\n",
       "2       [all, residents, asked, to, shelter, in, place...\n",
       "3       [people, receive, wildfires, evacuation, order...\n",
       "4       [just, got, sent, this, photo, from, ruby, ala...\n",
       "                              ...                        \n",
       "7608    [two, giant, cranes, holding, a, bridge, colla...\n",
       "7609    [ariaahrary, thetawniest, the, out, of, contro...\n",
       "7610                   [m, utckm, s, of, volcano, hawaii]\n",
       "7611    [police, investigating, after, an, ebike, coll...\n",
       "7612    [the, latest, more, homes, razed, by, northern...\n",
       "Name: tokens, Length: 7613, dtype: object"
      ]
     },
     "execution_count": 240,
     "metadata": {},
     "output_type": "execute_result"
    }
   ],
   "source": [
    "Data['tokens']"
   ]
  },
  {
   "cell_type": "code",
   "execution_count": 241,
   "metadata": {},
   "outputs": [],
   "source": [
    "categorical_columns_new = ['keyword', 'location']\n",
    "continuous_columns_new = ['tweet_length', 'sentiment', 'mention_user_count', 'assigned_topic']"
   ]
  },
  {
   "cell_type": "code",
   "execution_count": 242,
   "metadata": {},
   "outputs": [],
   "source": [
    "# Encode Categorical features 'keyword' and 'location'\n",
    "label_encoder = LabelEncoder()\n",
    "for col in categorical_columns_new:\n",
    "    Data[f'{col}_encoded'] = label_encoder.fit_transform(Data[col])"
   ]
  },
  {
   "cell_type": "code",
   "execution_count": 243,
   "metadata": {},
   "outputs": [
    {
     "data": {
      "text/plain": [
       "array([3203,  423,  883, ...,   17, 2642, 1437])"
      ]
     },
     "execution_count": 243,
     "metadata": {},
     "output_type": "execute_result"
    }
   ],
   "source": [
    "Data['location_encoded'].unique()"
   ]
  },
  {
   "cell_type": "code",
   "execution_count": 244,
   "metadata": {},
   "outputs": [],
   "source": [
    "# Include the encoded columns in the feature matrix\n",
    "#x_features_encoded = np.hstack([temp_tfidf,Data[['sentiment', 'tweet_length', 'hashtag_count', 'mention_user_count', 'keyword_encoded', 'location_encoded' ]]])"
   ]
  },
  {
   "cell_type": "code",
   "execution_count": 245,
   "metadata": {},
   "outputs": [],
   "source": [
    "#scale the continuos columns\n",
    "scaler = StandardScaler()\n",
    "scaled_continuous_features = scaler.fit_transform(Data[continuous_columns_new])"
   ]
  },
  {
   "cell_type": "code",
   "execution_count": 246,
   "metadata": {},
   "outputs": [
    {
     "data": {
      "text/plain": [
       "['keyword', 'location']"
      ]
     },
     "execution_count": 246,
     "metadata": {},
     "output_type": "execute_result"
    }
   ],
   "source": [
    "categorical_columns_new"
   ]
  },
  {
   "cell_type": "code",
   "execution_count": 247,
   "metadata": {},
   "outputs": [],
   "source": [
    "# Combine the TF-IDF features with the scaled and the encoded categorical columns\n",
    "x_features_scaled = np.hstack([x_tfidf,scaled_continuous_features,\n",
    "                                                Data[[f'{col}_encoded' for col in categorical_columns_new]].values])"
   ]
  },
  {
   "cell_type": "code",
   "execution_count": 248,
   "metadata": {},
   "outputs": [
    {
     "data": {
      "text/plain": [
       "array([[ 0.00000000e+00,  0.00000000e+00,  0.00000000e+00, ...,\n",
       "         1.27389916e+00,  2.06000000e+02,  3.20300000e+03],\n",
       "       [ 0.00000000e+00,  0.00000000e+00,  0.00000000e+00, ...,\n",
       "         1.27389916e+00,  2.06000000e+02,  3.20300000e+03],\n",
       "       [ 0.00000000e+00,  0.00000000e+00,  0.00000000e+00, ...,\n",
       "         1.27389916e+00,  2.06000000e+02,  3.20300000e+03],\n",
       "       ...,\n",
       "       [ 0.00000000e+00,  0.00000000e+00,  0.00000000e+00, ...,\n",
       "        -1.13798702e+00,  2.06000000e+02,  3.20300000e+03],\n",
       "       [ 0.00000000e+00,  0.00000000e+00,  0.00000000e+00, ...,\n",
       "        -1.13798702e+00,  2.06000000e+02,  3.20300000e+03],\n",
       "       [ 0.00000000e+00,  4.07205370e-01,  0.00000000e+00, ...,\n",
       "         6.79560732e-02,  2.06000000e+02,  3.20300000e+03]])"
      ]
     },
     "execution_count": 248,
     "metadata": {},
     "output_type": "execute_result"
    }
   ],
   "source": [
    "x_features_scaled"
   ]
  },
  {
   "cell_type": "code",
   "execution_count": 249,
   "metadata": {},
   "outputs": [],
   "source": [
    "# Define the target variable(target is disaster or non-disaster)\n",
    "y = Data['target']"
   ]
  },
  {
   "cell_type": "code",
   "execution_count": 250,
   "metadata": {},
   "outputs": [
    {
     "data": {
      "text/plain": [
       "Index(['id', 'keyword', 'location', 'text', 'target', 'cleaned_text', 'tokens',\n",
       "       'tweet_length', 'sentiment', 'hashtag_count', 'mention_user_count',\n",
       "       'assigned_topic', 'filtered_entities', 'keyword_encoded',\n",
       "       'location_encoded'],\n",
       "      dtype='object')"
      ]
     },
     "execution_count": 250,
     "metadata": {},
     "output_type": "execute_result"
    }
   ],
   "source": [
    "Data.columns"
   ]
  },
  {
   "cell_type": "code",
   "execution_count": 251,
   "metadata": {},
   "outputs": [],
   "source": [
    "x = Data[['keyword', 'location' ,'cleaned_text', 'tokens', 'tweet_length']]\n",
    "y = Data['target']"
   ]
  },
  {
   "cell_type": "code",
   "execution_count": 252,
   "metadata": {},
   "outputs": [],
   "source": [
    "# Split the Dataset to train and test data sets(80% train, 20% test)\n",
    "x_train, x_test, y_train, y_test = train_test_split(x, y, test_size=0.2, random_state=42)"
   ]
  },
  {
   "cell_type": "code",
   "execution_count": 253,
   "metadata": {},
   "outputs": [],
   "source": [
    "x_train_vec = tfidf_vectorizer.fit_transform(x_train['cleaned_text'])\n",
    "x_test_vec = tfidf_vectorizer.fit_transform(x_test['cleaned_text'])"
   ]
  },
  {
   "cell_type": "code",
   "execution_count": 254,
   "metadata": {},
   "outputs": [
    {
     "data": {
      "text/plain": [
       "<Compressed Sparse Row sparse matrix of dtype 'float64'\n",
       "\twith 25331 stored elements and shape (6090, 1006)>"
      ]
     },
     "execution_count": 254,
     "metadata": {},
     "output_type": "execute_result"
    }
   ],
   "source": [
    "x_train_vec"
   ]
  },
  {
   "cell_type": "code",
   "execution_count": 255,
   "metadata": {},
   "outputs": [
    {
     "data": {
      "text/plain": [
       "4996    1\n",
       "3263    0\n",
       "4907    1\n",
       "2855    1\n",
       "4716    0\n",
       "       ..\n",
       "5226    0\n",
       "5390    0\n",
       "860     0\n",
       "7603    1\n",
       "7270    1\n",
       "Name: target, Length: 6090, dtype: int64"
      ]
     },
     "execution_count": 255,
     "metadata": {},
     "output_type": "execute_result"
    }
   ],
   "source": [
    "y_train"
   ]
  },
  {
   "cell_type": "code",
   "execution_count": 256,
   "metadata": {},
   "outputs": [],
   "source": [
    "# Display the first few rows of the processed data\n",
    "# x_features_scaled[:5], y.head()"
   ]
  },
  {
   "cell_type": "code",
   "execution_count": 257,
   "metadata": {},
   "outputs": [
    {
     "data": {
      "text/plain": [
       "array([[0.        , 0.        , 0.        , ..., 0.        , 0.        ,\n",
       "        0.        ],\n",
       "       [0.        , 0.        , 0.        , ..., 0.        , 0.        ,\n",
       "        0.        ],\n",
       "       [0.        , 0.        , 0.        , ..., 0.        , 0.        ,\n",
       "        0.        ],\n",
       "       ...,\n",
       "       [0.        , 0.        , 0.        , ..., 0.        , 0.        ,\n",
       "        0.        ],\n",
       "       [0.        , 0.        , 0.        , ..., 0.        , 0.        ,\n",
       "        0.        ],\n",
       "       [0.        , 0.40720537, 0.        , ..., 0.        , 0.        ,\n",
       "        0.        ]])"
      ]
     },
     "execution_count": 257,
     "metadata": {},
     "output_type": "execute_result"
    }
   ],
   "source": [
    "x_tfidf"
   ]
  },
  {
   "cell_type": "code",
   "execution_count": 258,
   "metadata": {},
   "outputs": [],
   "source": [
    "models = {\n",
    "    'Logistic Regressor': LogisticRegression(max_iter=5000, random_state=42),  # Increase max_iter\n",
    "    'Random Forest': RandomForestClassifier(random_state=42),\n",
    "    'SVM': SVC(random_state=42),\n",
    "    'Neural Network': MLPClassifier(random_state=42),\n",
    "    'Naive Bayes': MultinomialNB()\n",
    "}"
   ]
  },
  {
   "cell_type": "code",
   "execution_count": 259,
   "metadata": {},
   "outputs": [],
   "source": [
    "# Store evaluation metrics for each model\n",
    "model_metrics = {}"
   ]
  },
  {
   "cell_type": "code",
   "execution_count": 260,
   "metadata": {},
   "outputs": [
    {
     "data": {
      "text/plain": [
       "4996    1\n",
       "3263    0\n",
       "4907    1\n",
       "2855    1\n",
       "4716    0\n",
       "       ..\n",
       "5226    0\n",
       "5390    0\n",
       "860     0\n",
       "7603    1\n",
       "7270    1\n",
       "Name: target, Length: 6090, dtype: int64"
      ]
     },
     "execution_count": 260,
     "metadata": {},
     "output_type": "execute_result"
    }
   ],
   "source": [
    "y_train"
   ]
  },
  {
   "cell_type": "code",
   "execution_count": 261,
   "metadata": {},
   "outputs": [
    {
     "data": {
      "image/png": "[encoded data removed]",
      "text/plain": [
       "<Figure size 600x400 with 2 Axes>"
      ]
     },
     "metadata": {},
     "output_type": "display_data"
    },
    {
     "data": {
      "image/png": "[encoded data removed]",
      "text/plain": [
       "<Figure size 600x400 with 2 Axes>"
      ]
     },
     "metadata": {},
     "output_type": "display_data"
    },
    {
     "data": {
      "image/png": "[encoded data removed]",
      "text/plain": [
       "<Figure size 600x400 with 2 Axes>"
      ]
     },
     "metadata": {},
     "output_type": "display_data"
    },
    {
     "name": "stderr",
     "output_type": "stream",
     "text": [
      "s:\\Data Science by DigiCrome\\Internship\\Project_7\\env\\Lib\\site-packages\\sklearn\\neural_network\\_multilayer_perceptron.py:691: ConvergenceWarning: Stochastic Optimizer: Maximum iterations (200) reached and the optimization hasn't converged yet.\n",
      "  warnings.warn(\n",
      "s:\\Data Science by DigiCrome\\Internship\\Project_7\\env\\Lib\\site-packages\\sklearn\\neural_network\\_multilayer_perceptron.py:691: ConvergenceWarning: Stochastic Optimizer: Maximum iterations (200) reached and the optimization hasn't converged yet.\n",
      "  warnings.warn(\n",
      "s:\\Data Science by DigiCrome\\Internship\\Project_7\\env\\Lib\\site-packages\\sklearn\\neural_network\\_multilayer_perceptron.py:691: ConvergenceWarning: Stochastic Optimizer: Maximum iterations (200) reached and the optimization hasn't converged yet.\n",
      "  warnings.warn(\n",
      "s:\\Data Science by DigiCrome\\Internship\\Project_7\\env\\Lib\\site-packages\\sklearn\\neural_network\\_multilayer_perceptron.py:691: ConvergenceWarning: Stochastic Optimizer: Maximum iterations (200) reached and the optimization hasn't converged yet.\n",
      "  warnings.warn(\n",
      "s:\\Data Science by DigiCrome\\Internship\\Project_7\\env\\Lib\\site-packages\\sklearn\\neural_network\\_multilayer_perceptron.py:691: ConvergenceWarning: Stochastic Optimizer: Maximum iterations (200) reached and the optimization hasn't converged yet.\n",
      "  warnings.warn(\n",
      "s:\\Data Science by DigiCrome\\Internship\\Project_7\\env\\Lib\\site-packages\\sklearn\\neural_network\\_multilayer_perceptron.py:691: ConvergenceWarning: Stochastic Optimizer: Maximum iterations (200) reached and the optimization hasn't converged yet.\n",
      "  warnings.warn(\n"
     ]
    },
    {
     "data": {
      "image/png": "[encoded data removed]",
      "text/plain": [
       "<Figure size 600x400 with 2 Axes>"
      ]
     },
     "metadata": {},
     "output_type": "display_data"
    },
    {
     "data": {
      "image/png": "[encoded data removed]",
      "text/plain": [
       "<Figure size 600x400 with 2 Axes>"
      ]
     },
     "metadata": {},
     "output_type": "display_data"
    },
    {
     "data": {
      "text/plain": [
       "{'Logistic Regressor': np.float64(0.7825944170771757),\n",
       " 'Random Forest': np.float64(0.7707717569786535),\n",
       " 'SVM': np.float64(0.7868637110016421),\n",
       " 'Neural Network': np.float64(0.7474548440065683),\n",
       " 'Naive Bayes': np.float64(0.7811165845648605)}"
      ]
     },
     "execution_count": 261,
     "metadata": {},
     "output_type": "execute_result"
    }
   ],
   "source": [
    "cv_scores = {}\n",
    "for model_name, model in models.items():\n",
    "    model.fit(x_train_vec, y_train)  # Train the model\n",
    "    cv_score = cross_val_score(model, x_train_vec, y_train, cv=5, scoring='accuracy')  # Cross-validation score\n",
    "    cv_scores[model_name] = cv_score.mean()  # Store mean score for each model\n",
    "    \n",
    "    # Predictions on the test set\n",
    "    y_pred = model.predict(x_test_vec)\n",
    "    \n",
    "    # Calculate evaluation metrics\n",
    "    accuracy = accuracy_score(y_test, y_pred)\n",
    "    r2 = r2_score(y_test, y_pred)\n",
    "    precision = precision_score(y_test, y_pred)\n",
    "    recall = recall_score(y_test, y_pred)\n",
    "    f1 = f1_score(y_test, y_pred)\n",
    "    \n",
    "    # Store the metrics\n",
    "    model_metrics[model_name] = {\n",
    "        'accuracy': accuracy,\n",
    "        'r2_score': r2,\n",
    "        'precision': precision,\n",
    "        'recall': recall,\n",
    "        'f1_score': f1,\n",
    "        'cv_accuracy': cv_score.mean()  # Cross-validation accuracy\n",
    "    }\n",
    "\n",
    "    # Confusion Matrix\n",
    "    cm = confusion_matrix(y_test, y_pred)\n",
    "\n",
    "    # Plot confusion matrix\n",
    "    plt.figure(figsize=(6, 4))\n",
    "    sns.heatmap(cm, annot=True, fmt='d', cmap='Blues', xticklabels=['Non-Disaster', 'Disaster'], yticklabels=['Non-Disaster', 'Disaster'])\n",
    "    plt.title(f'Confusion Matrix - {model_name}')\n",
    "    plt.xlabel('Predicted')\n",
    "    plt.ylabel('True')\n",
    "    plt.show()\n",
    "\n",
    "# Displaying the performance of each model\n",
    "cv_scores"
   ]
  },
  {
   "cell_type": "code",
   "execution_count": 262,
   "metadata": {},
   "outputs": [
    {
     "name": "stdout",
     "output_type": "stream",
     "text": [
      "Model: Logistic Regressor\n",
      "Accuracy: 0.5469468154957321\n",
      "R² Score: -0.8526477982320977\n",
      "Precision: 0.45665961945031713\n",
      "Recall: 0.33281972265023113\n",
      "F1 Score: 0.3850267379679144\n",
      "Cross-validation Accuracy: 0.7825944170771757\n",
      "\n",
      "\n",
      "Model: Random Forest\n",
      "Accuracy: 0.5292186474064347\n",
      "R² Score: -0.9251427120759625\n",
      "Precision: 0.4486404833836858\n",
      "Recall: 0.4576271186440678\n",
      "F1 Score: 0.45308924485125857\n",
      "Cross-validation Accuracy: 0.7707717569786535\n",
      "\n",
      "\n",
      "Model: SVM\n",
      "Accuracy: 0.5384110308601444\n",
      "R² Score: -0.8875527567495141\n",
      "Precision: 0.4338235294117647\n",
      "Recall: 0.2727272727272727\n",
      "F1 Score: 0.33491012298959316\n",
      "Cross-validation Accuracy: 0.7868637110016421\n",
      "\n",
      "\n",
      "Model: Neural Network\n",
      "Accuracy: 0.5279054497701904\n",
      "R² Score: -0.9305127056940266\n",
      "Precision: 0.4458204334365325\n",
      "Recall: 0.4437596302003082\n",
      "F1 Score: 0.44478764478764476\n",
      "Cross-validation Accuracy: 0.7474548440065683\n",
      "\n",
      "\n",
      "Model: Naive Bayes\n",
      "Accuracy: 0.5416940249507551\n",
      "R² Score: -0.8741277727043539\n",
      "Precision: 0.45868465430016864\n",
      "Recall: 0.41910631741140214\n",
      "F1 Score: 0.43800322061191627\n",
      "Cross-validation Accuracy: 0.7811165845648605\n",
      "\n",
      "\n"
     ]
    }
   ],
   "source": [
    "# Displaying the performance of each model\n",
    "for model_name, metrics in model_metrics.items():\n",
    "    print(f\"Model: {model_name}\")\n",
    "    print(f\"Accuracy: {metrics['accuracy']}\")\n",
    "    print(f\"R² Score: {metrics['r2_score']}\")\n",
    "    print(f\"Precision: {metrics['precision']}\")\n",
    "    print(f\"Recall: {metrics['recall']}\")\n",
    "    print(f\"F1 Score: {metrics['f1_score']}\")\n",
    "    print(f\"Cross-validation Accuracy: {metrics['cv_accuracy']}\")\n",
    "    print(\"\\n\")"
   ]
  },
  {
   "cell_type": "markdown",
   "metadata": {},
   "source": [
    "-------------------------------------------------"
   ]
  },
  {
   "cell_type": "code",
   "execution_count": 263,
   "metadata": {},
   "outputs": [
    {
     "name": "stderr",
     "output_type": "stream",
     "text": [
      "s:\\Data Science by DigiCrome\\Internship\\Project_7\\env\\Lib\\site-packages\\sklearn\\neural_network\\_multilayer_perceptron.py:691: ConvergenceWarning: Stochastic Optimizer: Maximum iterations (200) reached and the optimization hasn't converged yet.\n",
      "  warnings.warn(\n",
      "s:\\Data Science by DigiCrome\\Internship\\Project_7\\env\\Lib\\site-packages\\sklearn\\neural_network\\_multilayer_perceptron.py:691: ConvergenceWarning: Stochastic Optimizer: Maximum iterations (200) reached and the optimization hasn't converged yet.\n",
      "  warnings.warn(\n",
      "s:\\Data Science by DigiCrome\\Internship\\Project_7\\env\\Lib\\site-packages\\sklearn\\neural_network\\_multilayer_perceptron.py:691: ConvergenceWarning: Stochastic Optimizer: Maximum iterations (200) reached and the optimization hasn't converged yet.\n",
      "  warnings.warn(\n",
      "s:\\Data Science by DigiCrome\\Internship\\Project_7\\env\\Lib\\site-packages\\sklearn\\neural_network\\_multilayer_perceptron.py:691: ConvergenceWarning: Stochastic Optimizer: Maximum iterations (200) reached and the optimization hasn't converged yet.\n",
      "  warnings.warn(\n",
      "s:\\Data Science by DigiCrome\\Internship\\Project_7\\env\\Lib\\site-packages\\sklearn\\neural_network\\_multilayer_perceptron.py:691: ConvergenceWarning: Stochastic Optimizer: Maximum iterations (200) reached and the optimization hasn't converged yet.\n",
      "  warnings.warn(\n"
     ]
    },
    {
     "name": "stdout",
     "output_type": "stream",
     "text": [
      "Model: Logistic Regressor\n",
      "Cross-validation Accuracy: 0.7825944170771757\n",
      "\n",
      "\n",
      "Model: Random Forest\n",
      "Cross-validation Accuracy: 0.7707717569786535\n",
      "\n",
      "\n",
      "Model: SVM\n",
      "Cross-validation Accuracy: 0.7868637110016421\n",
      "\n",
      "\n",
      "Model: Neural Network\n",
      "Cross-validation Accuracy: 0.7474548440065683\n",
      "\n",
      "\n",
      "Model: Naive Bayes\n",
      "Cross-validation Accuracy: 0.7811165845648605\n",
      "\n",
      "\n"
     ]
    },
    {
     "name": "stderr",
     "output_type": "stream",
     "text": [
      "s:\\Data Science by DigiCrome\\Internship\\Project_7\\env\\Lib\\site-packages\\sklearn\\neural_network\\_multilayer_perceptron.py:691: ConvergenceWarning: Stochastic Optimizer: Maximum iterations (200) reached and the optimization hasn't converged yet.\n",
      "  warnings.warn(\n"
     ]
    }
   ],
   "source": [
    "from sklearn.model_selection import cross_val_score\n",
    "\n",
    "# Store evaluation metrics for each model\n",
    "model_metrics = {}\n",
    "\n",
    "# Train and evaluate each model using cross-validation\n",
    "for model_name, model in models.items():\n",
    "    model.fit(x_train_vec, y_train)  # Train the model\n",
    "\n",
    "    # Cross-validation to get accuracy scores\n",
    "    cv_score = cross_val_score(model, x_train_vec, y_train, cv=5, scoring='accuracy')  # Cross-validation score\n",
    "\n",
    "    # Calculate evaluation metrics\n",
    "    accuracy = cv_score.mean()\n",
    "\n",
    "    model_metrics[model_name] = {\n",
    "        'accuracy': accuracy,\n",
    "    }\n",
    "\n",
    "# Displaying the performance of each model\n",
    "for model_name, metrics in model_metrics.items():\n",
    "    print(f\"Model: {model_name}\")\n",
    "    print(f\"Cross-validation Accuracy: {metrics['accuracy']}\")\n",
    "    print(\"\\n\")\n"
   ]
  },
  {
   "cell_type": "markdown",
   "metadata": {},
   "source": [
    "-------------------------------------------------"
   ]
  },
  {
   "cell_type": "code",
   "execution_count": 264,
   "metadata": {},
   "outputs": [],
   "source": [
    "# Hyperparameter for Logistic Regression\n",
    "param_grid_lr = {\n",
    "    'C': [0.1, 1, 10],\n",
    "    'solver': ['liblinear', 'saga'] }"
   ]
  },
  {
   "cell_type": "code",
   "execution_count": 265,
   "metadata": {},
   "outputs": [],
   "source": [
    "# Hyperparameter for Random Forest\n",
    "param_grid_rf = {\n",
    "    'n_estimators': [50, 100, 200],\n",
    "    'max_depth': [None, 10, 20, 30],\n",
    "    'min_samples_split': [2, 5, 10]\n",
    "}"
   ]
  },
  {
   "cell_type": "code",
   "execution_count": 266,
   "metadata": {},
   "outputs": [
    {
     "data": {
      "text/html": [
       "<style>#sk-container-id-4 {\n",
       "  /* Definition of color scheme common for light and dark mode */\n",
       "  --sklearn-color-text: #000;\n",
       "  --sklearn-color-text-muted: #666;\n",
       "  --sklearn-color-line: gray;\n",
       "  /* Definition of color scheme for unfitted estimators */\n",
       "  --sklearn-color-unfitted-level-0: #fff5e6;\n",
       "  --sklearn-color-unfitted-level-1: #f6e4d2;\n",
       "  --sklearn-color-unfitted-level-2: #ffe0b3;\n",
       "  --sklearn-color-unfitted-level-3: chocolate;\n",
       "  /* Definition of color scheme for fitted estimators */\n",
       "  --sklearn-color-fitted-level-0: #f0f8ff;\n",
       "  --sklearn-color-fitted-level-1: #d4ebff;\n",
       "  --sklearn-color-fitted-level-2: #b3dbfd;\n",
       "  --sklearn-color-fitted-level-3: cornflowerblue;\n",
       "\n",
       "  /* Specific color for light theme */\n",
       "  --sklearn-color-text-on-default-background: var(--sg-text-color, var(--theme-code-foreground, var(--jp-content-font-color1, black)));\n",
       "  --sklearn-color-background: var(--sg-background-color, var(--theme-background, var(--jp-layout-color0, white)));\n",
       "  --sklearn-color-border-box: var(--sg-text-color, var(--theme-code-foreground, var(--jp-content-font-color1, black)));\n",
       "  --sklearn-color-icon: #696969;\n",
       "\n",
       "  @media (prefers-color-scheme: dark) {\n",
       "    /* Redefinition of color scheme for dark theme */\n",
       "    --sklearn-color-text-on-default-background: var(--sg-text-color, var(--theme-code-foreground, var(--jp-content-font-color1, white)));\n",
       "    --sklearn-color-background: var(--sg-background-color, var(--theme-background, var(--jp-layout-color0, #111)));\n",
       "    --sklearn-color-border-box: var(--sg-text-color, var(--theme-code-foreground, var(--jp-content-font-color1, white)));\n",
       "    --sklearn-color-icon: #878787;\n",
       "  }\n",
       "}\n",
       "\n",
       "#sk-container-id-4 {\n",
       "  color: var(--sklearn-color-text);\n",
       "}\n",
       "\n",
       "#sk-container-id-4 pre {\n",
       "  padding: 0;\n",
       "}\n",
       "\n",
       "#sk-container-id-4 input.sk-hidden--visually {\n",
       "  border: 0;\n",
       "  clip: rect(1px 1px 1px 1px);\n",
       "  clip: rect(1px, 1px, 1px, 1px);\n",
       "  height: 1px;\n",
       "  margin: -1px;\n",
       "  overflow: hidden;\n",
       "  padding: 0;\n",
       "  position: absolute;\n",
       "  width: 1px;\n",
       "}\n",
       "\n",
       "#sk-container-id-4 div.sk-dashed-wrapped {\n",
       "  border: 1px dashed var(--sklearn-color-line);\n",
       "  margin: 0 0.4em 0.5em 0.4em;\n",
       "  box-sizing: border-box;\n",
       "  padding-bottom: 0.4em;\n",
       "  background-color: var(--sklearn-color-background);\n",
       "}\n",
       "\n",
       "#sk-container-id-4 div.sk-container {\n",
       "  /* jupyter's `normalize.less` sets `[hidden] { display: none; }`\n",
       "     but bootstrap.min.css set `[hidden] { display: none !important; }`\n",
       "     so we also need the `!important` here to be able to override the\n",
       "     default hidden behavior on the sphinx rendered scikit-learn.org.\n",
       "     See: https://github.com/scikit-learn/scikit-learn/issues/21755 */\n",
       "  display: inline-block !important;\n",
       "  position: relative;\n",
       "}\n",
       "\n",
       "#sk-container-id-4 div.sk-text-repr-fallback {\n",
       "  display: none;\n",
       "}\n",
       "\n",
       "div.sk-parallel-item,\n",
       "div.sk-serial,\n",
       "div.sk-item {\n",
       "  /* draw centered vertical line to link estimators */\n",
       "  background-image: linear-gradient(var(--sklearn-color-text-on-default-background), var(--sklearn-color-text-on-default-background));\n",
       "  background-size: 2px 100%;\n",
       "  background-repeat: no-repeat;\n",
       "  background-position: center center;\n",
       "}\n",
       "\n",
       "/* Parallel-specific style estimator block */\n",
       "\n",
       "#sk-container-id-4 div.sk-parallel-item::after {\n",
       "  content: \"\";\n",
       "  width: 100%;\n",
       "  border-bottom: 2px solid var(--sklearn-color-text-on-default-background);\n",
       "  flex-grow: 1;\n",
       "}\n",
       "\n",
       "#sk-container-id-4 div.sk-parallel {\n",
       "  display: flex;\n",
       "  align-items: stretch;\n",
       "  justify-content: center;\n",
       "  background-color: var(--sklearn-color-background);\n",
       "  position: relative;\n",
       "}\n",
       "\n",
       "#sk-container-id-4 div.sk-parallel-item {\n",
       "  display: flex;\n",
       "  flex-direction: column;\n",
       "}\n",
       "\n",
       "#sk-container-id-4 div.sk-parallel-item:first-child::after {\n",
       "  align-self: flex-end;\n",
       "  width: 50%;\n",
       "}\n",
       "\n",
       "#sk-container-id-4 div.sk-parallel-item:last-child::after {\n",
       "  align-self: flex-start;\n",
       "  width: 50%;\n",
       "}\n",
       "\n",
       "#sk-container-id-4 div.sk-parallel-item:only-child::after {\n",
       "  width: 0;\n",
       "}\n",
       "\n",
       "/* Serial-specific style estimator block */\n",
       "\n",
       "#sk-container-id-4 div.sk-serial {\n",
       "  display: flex;\n",
       "  flex-direction: column;\n",
       "  align-items: center;\n",
       "  background-color: var(--sklearn-color-background);\n",
       "  padding-right: 1em;\n",
       "  padding-left: 1em;\n",
       "}\n",
       "\n",
       "\n",
       "/* Toggleable style: style used for estimator/Pipeline/ColumnTransformer box that is\n",
       "clickable and can be expanded/collapsed.\n",
       "- Pipeline and ColumnTransformer use this feature and define the default style\n",
       "- Estimators will overwrite some part of the style using the `sk-estimator` class\n",
       "*/\n",
       "\n",
       "/* Pipeline and ColumnTransformer style (default) */\n",
       "\n",
       "#sk-container-id-4 div.sk-toggleable {\n",
       "  /* Default theme specific background. It is overwritten whether we have a\n",
       "  specific estimator or a Pipeline/ColumnTransformer */\n",
       "  background-color: var(--sklearn-color-background);\n",
       "}\n",
       "\n",
       "/* Toggleable label */\n",
       "#sk-container-id-4 label.sk-toggleable__label {\n",
       "  cursor: pointer;\n",
       "  display: flex;\n",
       "  width: 100%;\n",
       "  margin-bottom: 0;\n",
       "  padding: 0.5em;\n",
       "  box-sizing: border-box;\n",
       "  text-align: center;\n",
       "  align-items: start;\n",
       "  justify-content: space-between;\n",
       "  gap: 0.5em;\n",
       "}\n",
       "\n",
       "#sk-container-id-4 label.sk-toggleable__label .caption {\n",
       "  font-size: 0.6rem;\n",
       "  font-weight: lighter;\n",
       "  color: var(--sklearn-color-text-muted);\n",
       "}\n",
       "\n",
       "#sk-container-id-4 label.sk-toggleable__label-arrow:before {\n",
       "  /* Arrow on the left of the label */\n",
       "  content: \"▸\";\n",
       "  float: left;\n",
       "  margin-right: 0.25em;\n",
       "  color: var(--sklearn-color-icon);\n",
       "}\n",
       "\n",
       "#sk-container-id-4 label.sk-toggleable__label-arrow:hover:before {\n",
       "  color: var(--sklearn-color-text);\n",
       "}\n",
       "\n",
       "/* Toggleable content - dropdown */\n",
       "\n",
       "#sk-container-id-4 div.sk-toggleable__content {\n",
       "  max-height: 0;\n",
       "  max-width: 0;\n",
       "  overflow: hidden;\n",
       "  text-align: left;\n",
       "  /* unfitted */\n",
       "  background-color: var(--sklearn-color-unfitted-level-0);\n",
       "}\n",
       "\n",
       "#sk-container-id-4 div.sk-toggleable__content.fitted {\n",
       "  /* fitted */\n",
       "  background-color: var(--sklearn-color-fitted-level-0);\n",
       "}\n",
       "\n",
       "#sk-container-id-4 div.sk-toggleable__content pre {\n",
       "  margin: 0.2em;\n",
       "  border-radius: 0.25em;\n",
       "  color: var(--sklearn-color-text);\n",
       "  /* unfitted */\n",
       "  background-color: var(--sklearn-color-unfitted-level-0);\n",
       "}\n",
       "\n",
       "#sk-container-id-4 div.sk-toggleable__content.fitted pre {\n",
       "  /* unfitted */\n",
       "  background-color: var(--sklearn-color-fitted-level-0);\n",
       "}\n",
       "\n",
       "#sk-container-id-4 input.sk-toggleable__control:checked~div.sk-toggleable__content {\n",
       "  /* Expand drop-down */\n",
       "  max-height: 200px;\n",
       "  max-width: 100%;\n",
       "  overflow: auto;\n",
       "}\n",
       "\n",
       "#sk-container-id-4 input.sk-toggleable__control:checked~label.sk-toggleable__label-arrow:before {\n",
       "  content: \"▾\";\n",
       "}\n",
       "\n",
       "/* Pipeline/ColumnTransformer-specific style */\n",
       "\n",
       "#sk-container-id-4 div.sk-label input.sk-toggleable__control:checked~label.sk-toggleable__label {\n",
       "  color: var(--sklearn-color-text);\n",
       "  background-color: var(--sklearn-color-unfitted-level-2);\n",
       "}\n",
       "\n",
       "#sk-container-id-4 div.sk-label.fitted input.sk-toggleable__control:checked~label.sk-toggleable__label {\n",
       "  background-color: var(--sklearn-color-fitted-level-2);\n",
       "}\n",
       "\n",
       "/* Estimator-specific style */\n",
       "\n",
       "/* Colorize estimator box */\n",
       "#sk-container-id-4 div.sk-estimator input.sk-toggleable__control:checked~label.sk-toggleable__label {\n",
       "  /* unfitted */\n",
       "  background-color: var(--sklearn-color-unfitted-level-2);\n",
       "}\n",
       "\n",
       "#sk-container-id-4 div.sk-estimator.fitted input.sk-toggleable__control:checked~label.sk-toggleable__label {\n",
       "  /* fitted */\n",
       "  background-color: var(--sklearn-color-fitted-level-2);\n",
       "}\n",
       "\n",
       "#sk-container-id-4 div.sk-label label.sk-toggleable__label,\n",
       "#sk-container-id-4 div.sk-label label {\n",
       "  /* The background is the default theme color */\n",
       "  color: var(--sklearn-color-text-on-default-background);\n",
       "}\n",
       "\n",
       "/* On hover, darken the color of the background */\n",
       "#sk-container-id-4 div.sk-label:hover label.sk-toggleable__label {\n",
       "  color: var(--sklearn-color-text);\n",
       "  background-color: var(--sklearn-color-unfitted-level-2);\n",
       "}\n",
       "\n",
       "/* Label box, darken color on hover, fitted */\n",
       "#sk-container-id-4 div.sk-label.fitted:hover label.sk-toggleable__label.fitted {\n",
       "  color: var(--sklearn-color-text);\n",
       "  background-color: var(--sklearn-color-fitted-level-2);\n",
       "}\n",
       "\n",
       "/* Estimator label */\n",
       "\n",
       "#sk-container-id-4 div.sk-label label {\n",
       "  font-family: monospace;\n",
       "  font-weight: bold;\n",
       "  display: inline-block;\n",
       "  line-height: 1.2em;\n",
       "}\n",
       "\n",
       "#sk-container-id-4 div.sk-label-container {\n",
       "  text-align: center;\n",
       "}\n",
       "\n",
       "/* Estimator-specific */\n",
       "#sk-container-id-4 div.sk-estimator {\n",
       "  font-family: monospace;\n",
       "  border: 1px dotted var(--sklearn-color-border-box);\n",
       "  border-radius: 0.25em;\n",
       "  box-sizing: border-box;\n",
       "  margin-bottom: 0.5em;\n",
       "  /* unfitted */\n",
       "  background-color: var(--sklearn-color-unfitted-level-0);\n",
       "}\n",
       "\n",
       "#sk-container-id-4 div.sk-estimator.fitted {\n",
       "  /* fitted */\n",
       "  background-color: var(--sklearn-color-fitted-level-0);\n",
       "}\n",
       "\n",
       "/* on hover */\n",
       "#sk-container-id-4 div.sk-estimator:hover {\n",
       "  /* unfitted */\n",
       "  background-color: var(--sklearn-color-unfitted-level-2);\n",
       "}\n",
       "\n",
       "#sk-container-id-4 div.sk-estimator.fitted:hover {\n",
       "  /* fitted */\n",
       "  background-color: var(--sklearn-color-fitted-level-2);\n",
       "}\n",
       "\n",
       "/* Specification for estimator info (e.g. \"i\" and \"?\") */\n",
       "\n",
       "/* Common style for \"i\" and \"?\" */\n",
       "\n",
       ".sk-estimator-doc-link,\n",
       "a:link.sk-estimator-doc-link,\n",
       "a:visited.sk-estimator-doc-link {\n",
       "  float: right;\n",
       "  font-size: smaller;\n",
       "  line-height: 1em;\n",
       "  font-family: monospace;\n",
       "  background-color: var(--sklearn-color-background);\n",
       "  border-radius: 1em;\n",
       "  height: 1em;\n",
       "  width: 1em;\n",
       "  text-decoration: none !important;\n",
       "  margin-left: 0.5em;\n",
       "  text-align: center;\n",
       "  /* unfitted */\n",
       "  border: var(--sklearn-color-unfitted-level-1) 1pt solid;\n",
       "  color: var(--sklearn-color-unfitted-level-1);\n",
       "}\n",
       "\n",
       ".sk-estimator-doc-link.fitted,\n",
       "a:link.sk-estimator-doc-link.fitted,\n",
       "a:visited.sk-estimator-doc-link.fitted {\n",
       "  /* fitted */\n",
       "  border: var(--sklearn-color-fitted-level-1) 1pt solid;\n",
       "  color: var(--sklearn-color-fitted-level-1);\n",
       "}\n",
       "\n",
       "/* On hover */\n",
       "div.sk-estimator:hover .sk-estimator-doc-link:hover,\n",
       ".sk-estimator-doc-link:hover,\n",
       "div.sk-label-container:hover .sk-estimator-doc-link:hover,\n",
       ".sk-estimator-doc-link:hover {\n",
       "  /* unfitted */\n",
       "  background-color: var(--sklearn-color-unfitted-level-3);\n",
       "  color: var(--sklearn-color-background);\n",
       "  text-decoration: none;\n",
       "}\n",
       "\n",
       "div.sk-estimator.fitted:hover .sk-estimator-doc-link.fitted:hover,\n",
       ".sk-estimator-doc-link.fitted:hover,\n",
       "div.sk-label-container:hover .sk-estimator-doc-link.fitted:hover,\n",
       ".sk-estimator-doc-link.fitted:hover {\n",
       "  /* fitted */\n",
       "  background-color: var(--sklearn-color-fitted-level-3);\n",
       "  color: var(--sklearn-color-background);\n",
       "  text-decoration: none;\n",
       "}\n",
       "\n",
       "/* Span, style for the box shown on hovering the info icon */\n",
       ".sk-estimator-doc-link span {\n",
       "  display: none;\n",
       "  z-index: 9999;\n",
       "  position: relative;\n",
       "  font-weight: normal;\n",
       "  right: .2ex;\n",
       "  padding: .5ex;\n",
       "  margin: .5ex;\n",
       "  width: min-content;\n",
       "  min-width: 20ex;\n",
       "  max-width: 50ex;\n",
       "  color: var(--sklearn-color-text);\n",
       "  box-shadow: 2pt 2pt 4pt #999;\n",
       "  /* unfitted */\n",
       "  background: var(--sklearn-color-unfitted-level-0);\n",
       "  border: .5pt solid var(--sklearn-color-unfitted-level-3);\n",
       "}\n",
       "\n",
       ".sk-estimator-doc-link.fitted span {\n",
       "  /* fitted */\n",
       "  background: var(--sklearn-color-fitted-level-0);\n",
       "  border: var(--sklearn-color-fitted-level-3);\n",
       "}\n",
       "\n",
       ".sk-estimator-doc-link:hover span {\n",
       "  display: block;\n",
       "}\n",
       "\n",
       "/* \"?\"-specific style due to the `<a>` HTML tag */\n",
       "\n",
       "#sk-container-id-4 a.estimator_doc_link {\n",
       "  float: right;\n",
       "  font-size: 1rem;\n",
       "  line-height: 1em;\n",
       "  font-family: monospace;\n",
       "  background-color: var(--sklearn-color-background);\n",
       "  border-radius: 1rem;\n",
       "  height: 1rem;\n",
       "  width: 1rem;\n",
       "  text-decoration: none;\n",
       "  /* unfitted */\n",
       "  color: var(--sklearn-color-unfitted-level-1);\n",
       "  border: var(--sklearn-color-unfitted-level-1) 1pt solid;\n",
       "}\n",
       "\n",
       "#sk-container-id-4 a.estimator_doc_link.fitted {\n",
       "  /* fitted */\n",
       "  border: var(--sklearn-color-fitted-level-1) 1pt solid;\n",
       "  color: var(--sklearn-color-fitted-level-1);\n",
       "}\n",
       "\n",
       "/* On hover */\n",
       "#sk-container-id-4 a.estimator_doc_link:hover {\n",
       "  /* unfitted */\n",
       "  background-color: var(--sklearn-color-unfitted-level-3);\n",
       "  color: var(--sklearn-color-background);\n",
       "  text-decoration: none;\n",
       "}\n",
       "\n",
       "#sk-container-id-4 a.estimator_doc_link.fitted:hover {\n",
       "  /* fitted */\n",
       "  background-color: var(--sklearn-color-fitted-level-3);\n",
       "}\n",
       "</style><div id=\"sk-container-id-4\" class=\"sk-top-container\"><div class=\"sk-text-repr-fallback\"><pre>GridSearchCV(cv=5, estimator=LogisticRegression(max_iter=7000),\n",
       "             param_grid={&#x27;C&#x27;: [0.1, 1, 10], &#x27;solver&#x27;: [&#x27;liblinear&#x27;, &#x27;saga&#x27;]},\n",
       "             scoring=&#x27;accuracy&#x27;)</pre><b>In a Jupyter environment, please rerun this cell to show the HTML representation or trust the notebook. <br />On GitHub, the HTML representation is unable to render, please try loading this page with nbviewer.org.</b></div><div class=\"sk-container\" hidden><div class=\"sk-item sk-dashed-wrapped\"><div class=\"sk-label-container\"><div class=\"sk-label fitted sk-toggleable\"><input class=\"sk-toggleable__control sk-hidden--visually\" id=\"sk-estimator-id-6\" type=\"checkbox\" ><label for=\"sk-estimator-id-6\" class=\"sk-toggleable__label fitted sk-toggleable__label-arrow\"><div><div>GridSearchCV</div></div><div><a class=\"sk-estimator-doc-link fitted\" rel=\"noreferrer\" target=\"_blank\" href=\"https://scikit-learn.org/1.6/modules/generated/sklearn.model_selection.GridSearchCV.html\">?<span>Documentation for GridSearchCV</span></a><span class=\"sk-estimator-doc-link fitted\">i<span>Fitted</span></span></div></label><div class=\"sk-toggleable__content fitted\"><pre>GridSearchCV(cv=5, estimator=LogisticRegression(max_iter=7000),\n",
       "             param_grid={&#x27;C&#x27;: [0.1, 1, 10], &#x27;solver&#x27;: [&#x27;liblinear&#x27;, &#x27;saga&#x27;]},\n",
       "             scoring=&#x27;accuracy&#x27;)</pre></div> </div></div><div class=\"sk-parallel\"><div class=\"sk-parallel-item\"><div class=\"sk-item\"><div class=\"sk-label-container\"><div class=\"sk-label fitted sk-toggleable\"><input class=\"sk-toggleable__control sk-hidden--visually\" id=\"sk-estimator-id-7\" type=\"checkbox\" ><label for=\"sk-estimator-id-7\" class=\"sk-toggleable__label fitted sk-toggleable__label-arrow\"><div><div>best_estimator_: LogisticRegression</div></div></label><div class=\"sk-toggleable__content fitted\"><pre>LogisticRegression(C=1, max_iter=7000, solver=&#x27;liblinear&#x27;)</pre></div> </div></div><div class=\"sk-serial\"><div class=\"sk-item\"><div class=\"sk-estimator fitted sk-toggleable\"><input class=\"sk-toggleable__control sk-hidden--visually\" id=\"sk-estimator-id-8\" type=\"checkbox\" ><label for=\"sk-estimator-id-8\" class=\"sk-toggleable__label fitted sk-toggleable__label-arrow\"><div><div>LogisticRegression</div></div><div><a class=\"sk-estimator-doc-link fitted\" rel=\"noreferrer\" target=\"_blank\" href=\"https://scikit-learn.org/1.6/modules/generated/sklearn.linear_model.LogisticRegression.html\">?<span>Documentation for LogisticRegression</span></a></div></label><div class=\"sk-toggleable__content fitted\"><pre>LogisticRegression(C=1, max_iter=7000, solver=&#x27;liblinear&#x27;)</pre></div> </div></div></div></div></div></div></div></div></div>"
      ],
      "text/plain": [
       "GridSearchCV(cv=5, estimator=LogisticRegression(max_iter=7000),\n",
       "             param_grid={'C': [0.1, 1, 10], 'solver': ['liblinear', 'saga']},\n",
       "             scoring='accuracy')"
      ]
     },
     "execution_count": 266,
     "metadata": {},
     "output_type": "execute_result"
    }
   ],
   "source": [
    "# Hyperparameter tuning for Logistic Regression\n",
    "grid_search_lr = GridSearchCV(LogisticRegression(max_iter=7000), param_grid_lr, cv=5, scoring='accuracy')\n",
    "grid_search_lr.fit(x_train_vec, y_train)"
   ]
  },
  {
   "cell_type": "code",
   "execution_count": 267,
   "metadata": {},
   "outputs": [
    {
     "data": {
      "text/html": [
       "<style>#sk-container-id-5 {\n",
       "  /* Definition of color scheme common for light and dark mode */\n",
       "  --sklearn-color-text: #000;\n",
       "  --sklearn-color-text-muted: #666;\n",
       "  --sklearn-color-line: gray;\n",
       "  /* Definition of color scheme for unfitted estimators */\n",
       "  --sklearn-color-unfitted-level-0: #fff5e6;\n",
       "  --sklearn-color-unfitted-level-1: #f6e4d2;\n",
       "  --sklearn-color-unfitted-level-2: #ffe0b3;\n",
       "  --sklearn-color-unfitted-level-3: chocolate;\n",
       "  /* Definition of color scheme for fitted estimators */\n",
       "  --sklearn-color-fitted-level-0: #f0f8ff;\n",
       "  --sklearn-color-fitted-level-1: #d4ebff;\n",
       "  --sklearn-color-fitted-level-2: #b3dbfd;\n",
       "  --sklearn-color-fitted-level-3: cornflowerblue;\n",
       "\n",
       "  /* Specific color for light theme */\n",
       "  --sklearn-color-text-on-default-background: var(--sg-text-color, var(--theme-code-foreground, var(--jp-content-font-color1, black)));\n",
       "  --sklearn-color-background: var(--sg-background-color, var(--theme-background, var(--jp-layout-color0, white)));\n",
       "  --sklearn-color-border-box: var(--sg-text-color, var(--theme-code-foreground, var(--jp-content-font-color1, black)));\n",
       "  --sklearn-color-icon: #696969;\n",
       "\n",
       "  @media (prefers-color-scheme: dark) {\n",
       "    /* Redefinition of color scheme for dark theme */\n",
       "    --sklearn-color-text-on-default-background: var(--sg-text-color, var(--theme-code-foreground, var(--jp-content-font-color1, white)));\n",
       "    --sklearn-color-background: var(--sg-background-color, var(--theme-background, var(--jp-layout-color0, #111)));\n",
       "    --sklearn-color-border-box: var(--sg-text-color, var(--theme-code-foreground, var(--jp-content-font-color1, white)));\n",
       "    --sklearn-color-icon: #878787;\n",
       "  }\n",
       "}\n",
       "\n",
       "#sk-container-id-5 {\n",
       "  color: var(--sklearn-color-text);\n",
       "}\n",
       "\n",
       "#sk-container-id-5 pre {\n",
       "  padding: 0;\n",
       "}\n",
       "\n",
       "#sk-container-id-5 input.sk-hidden--visually {\n",
       "  border: 0;\n",
       "  clip: rect(1px 1px 1px 1px);\n",
       "  clip: rect(1px, 1px, 1px, 1px);\n",
       "  height: 1px;\n",
       "  margin: -1px;\n",
       "  overflow: hidden;\n",
       "  padding: 0;\n",
       "  position: absolute;\n",
       "  width: 1px;\n",
       "}\n",
       "\n",
       "#sk-container-id-5 div.sk-dashed-wrapped {\n",
       "  border: 1px dashed var(--sklearn-color-line);\n",
       "  margin: 0 0.4em 0.5em 0.4em;\n",
       "  box-sizing: border-box;\n",
       "  padding-bottom: 0.4em;\n",
       "  background-color: var(--sklearn-color-background);\n",
       "}\n",
       "\n",
       "#sk-container-id-5 div.sk-container {\n",
       "  /* jupyter's `normalize.less` sets `[hidden] { display: none; }`\n",
       "     but bootstrap.min.css set `[hidden] { display: none !important; }`\n",
       "     so we also need the `!important` here to be able to override the\n",
       "     default hidden behavior on the sphinx rendered scikit-learn.org.\n",
       "     See: https://github.com/scikit-learn/scikit-learn/issues/21755 */\n",
       "  display: inline-block !important;\n",
       "  position: relative;\n",
       "}\n",
       "\n",
       "#sk-container-id-5 div.sk-text-repr-fallback {\n",
       "  display: none;\n",
       "}\n",
       "\n",
       "div.sk-parallel-item,\n",
       "div.sk-serial,\n",
       "div.sk-item {\n",
       "  /* draw centered vertical line to link estimators */\n",
       "  background-image: linear-gradient(var(--sklearn-color-text-on-default-background), var(--sklearn-color-text-on-default-background));\n",
       "  background-size: 2px 100%;\n",
       "  background-repeat: no-repeat;\n",
       "  background-position: center center;\n",
       "}\n",
       "\n",
       "/* Parallel-specific style estimator block */\n",
       "\n",
       "#sk-container-id-5 div.sk-parallel-item::after {\n",
       "  content: \"\";\n",
       "  width: 100%;\n",
       "  border-bottom: 2px solid var(--sklearn-color-text-on-default-background);\n",
       "  flex-grow: 1;\n",
       "}\n",
       "\n",
       "#sk-container-id-5 div.sk-parallel {\n",
       "  display: flex;\n",
       "  align-items: stretch;\n",
       "  justify-content: center;\n",
       "  background-color: var(--sklearn-color-background);\n",
       "  position: relative;\n",
       "}\n",
       "\n",
       "#sk-container-id-5 div.sk-parallel-item {\n",
       "  display: flex;\n",
       "  flex-direction: column;\n",
       "}\n",
       "\n",
       "#sk-container-id-5 div.sk-parallel-item:first-child::after {\n",
       "  align-self: flex-end;\n",
       "  width: 50%;\n",
       "}\n",
       "\n",
       "#sk-container-id-5 div.sk-parallel-item:last-child::after {\n",
       "  align-self: flex-start;\n",
       "  width: 50%;\n",
       "}\n",
       "\n",
       "#sk-container-id-5 div.sk-parallel-item:only-child::after {\n",
       "  width: 0;\n",
       "}\n",
       "\n",
       "/* Serial-specific style estimator block */\n",
       "\n",
       "#sk-container-id-5 div.sk-serial {\n",
       "  display: flex;\n",
       "  flex-direction: column;\n",
       "  align-items: center;\n",
       "  background-color: var(--sklearn-color-background);\n",
       "  padding-right: 1em;\n",
       "  padding-left: 1em;\n",
       "}\n",
       "\n",
       "\n",
       "/* Toggleable style: style used for estimator/Pipeline/ColumnTransformer box that is\n",
       "clickable and can be expanded/collapsed.\n",
       "- Pipeline and ColumnTransformer use this feature and define the default style\n",
       "- Estimators will overwrite some part of the style using the `sk-estimator` class\n",
       "*/\n",
       "\n",
       "/* Pipeline and ColumnTransformer style (default) */\n",
       "\n",
       "#sk-container-id-5 div.sk-toggleable {\n",
       "  /* Default theme specific background. It is overwritten whether we have a\n",
       "  specific estimator or a Pipeline/ColumnTransformer */\n",
       "  background-color: var(--sklearn-color-background);\n",
       "}\n",
       "\n",
       "/* Toggleable label */\n",
       "#sk-container-id-5 label.sk-toggleable__label {\n",
       "  cursor: pointer;\n",
       "  display: flex;\n",
       "  width: 100%;\n",
       "  margin-bottom: 0;\n",
       "  padding: 0.5em;\n",
       "  box-sizing: border-box;\n",
       "  text-align: center;\n",
       "  align-items: start;\n",
       "  justify-content: space-between;\n",
       "  gap: 0.5em;\n",
       "}\n",
       "\n",
       "#sk-container-id-5 label.sk-toggleable__label .caption {\n",
       "  font-size: 0.6rem;\n",
       "  font-weight: lighter;\n",
       "  color: var(--sklearn-color-text-muted);\n",
       "}\n",
       "\n",
       "#sk-container-id-5 label.sk-toggleable__label-arrow:before {\n",
       "  /* Arrow on the left of the label */\n",
       "  content: \"▸\";\n",
       "  float: left;\n",
       "  margin-right: 0.25em;\n",
       "  color: var(--sklearn-color-icon);\n",
       "}\n",
       "\n",
       "#sk-container-id-5 label.sk-toggleable__label-arrow:hover:before {\n",
       "  color: var(--sklearn-color-text);\n",
       "}\n",
       "\n",
       "/* Toggleable content - dropdown */\n",
       "\n",
       "#sk-container-id-5 div.sk-toggleable__content {\n",
       "  max-height: 0;\n",
       "  max-width: 0;\n",
       "  overflow: hidden;\n",
       "  text-align: left;\n",
       "  /* unfitted */\n",
       "  background-color: var(--sklearn-color-unfitted-level-0);\n",
       "}\n",
       "\n",
       "#sk-container-id-5 div.sk-toggleable__content.fitted {\n",
       "  /* fitted */\n",
       "  background-color: var(--sklearn-color-fitted-level-0);\n",
       "}\n",
       "\n",
       "#sk-container-id-5 div.sk-toggleable__content pre {\n",
       "  margin: 0.2em;\n",
       "  border-radius: 0.25em;\n",
       "  color: var(--sklearn-color-text);\n",
       "  /* unfitted */\n",
       "  background-color: var(--sklearn-color-unfitted-level-0);\n",
       "}\n",
       "\n",
       "#sk-container-id-5 div.sk-toggleable__content.fitted pre {\n",
       "  /* unfitted */\n",
       "  background-color: var(--sklearn-color-fitted-level-0);\n",
       "}\n",
       "\n",
       "#sk-container-id-5 input.sk-toggleable__control:checked~div.sk-toggleable__content {\n",
       "  /* Expand drop-down */\n",
       "  max-height: 200px;\n",
       "  max-width: 100%;\n",
       "  overflow: auto;\n",
       "}\n",
       "\n",
       "#sk-container-id-5 input.sk-toggleable__control:checked~label.sk-toggleable__label-arrow:before {\n",
       "  content: \"▾\";\n",
       "}\n",
       "\n",
       "/* Pipeline/ColumnTransformer-specific style */\n",
       "\n",
       "#sk-container-id-5 div.sk-label input.sk-toggleable__control:checked~label.sk-toggleable__label {\n",
       "  color: var(--sklearn-color-text);\n",
       "  background-color: var(--sklearn-color-unfitted-level-2);\n",
       "}\n",
       "\n",
       "#sk-container-id-5 div.sk-label.fitted input.sk-toggleable__control:checked~label.sk-toggleable__label {\n",
       "  background-color: var(--sklearn-color-fitted-level-2);\n",
       "}\n",
       "\n",
       "/* Estimator-specific style */\n",
       "\n",
       "/* Colorize estimator box */\n",
       "#sk-container-id-5 div.sk-estimator input.sk-toggleable__control:checked~label.sk-toggleable__label {\n",
       "  /* unfitted */\n",
       "  background-color: var(--sklearn-color-unfitted-level-2);\n",
       "}\n",
       "\n",
       "#sk-container-id-5 div.sk-estimator.fitted input.sk-toggleable__control:checked~label.sk-toggleable__label {\n",
       "  /* fitted */\n",
       "  background-color: var(--sklearn-color-fitted-level-2);\n",
       "}\n",
       "\n",
       "#sk-container-id-5 div.sk-label label.sk-toggleable__label,\n",
       "#sk-container-id-5 div.sk-label label {\n",
       "  /* The background is the default theme color */\n",
       "  color: var(--sklearn-color-text-on-default-background);\n",
       "}\n",
       "\n",
       "/* On hover, darken the color of the background */\n",
       "#sk-container-id-5 div.sk-label:hover label.sk-toggleable__label {\n",
       "  color: var(--sklearn-color-text);\n",
       "  background-color: var(--sklearn-color-unfitted-level-2);\n",
       "}\n",
       "\n",
       "/* Label box, darken color on hover, fitted */\n",
       "#sk-container-id-5 div.sk-label.fitted:hover label.sk-toggleable__label.fitted {\n",
       "  color: var(--sklearn-color-text);\n",
       "  background-color: var(--sklearn-color-fitted-level-2);\n",
       "}\n",
       "\n",
       "/* Estimator label */\n",
       "\n",
       "#sk-container-id-5 div.sk-label label {\n",
       "  font-family: monospace;\n",
       "  font-weight: bold;\n",
       "  display: inline-block;\n",
       "  line-height: 1.2em;\n",
       "}\n",
       "\n",
       "#sk-container-id-5 div.sk-label-container {\n",
       "  text-align: center;\n",
       "}\n",
       "\n",
       "/* Estimator-specific */\n",
       "#sk-container-id-5 div.sk-estimator {\n",
       "  font-family: monospace;\n",
       "  border: 1px dotted var(--sklearn-color-border-box);\n",
       "  border-radius: 0.25em;\n",
       "  box-sizing: border-box;\n",
       "  margin-bottom: 0.5em;\n",
       "  /* unfitted */\n",
       "  background-color: var(--sklearn-color-unfitted-level-0);\n",
       "}\n",
       "\n",
       "#sk-container-id-5 div.sk-estimator.fitted {\n",
       "  /* fitted */\n",
       "  background-color: var(--sklearn-color-fitted-level-0);\n",
       "}\n",
       "\n",
       "/* on hover */\n",
       "#sk-container-id-5 div.sk-estimator:hover {\n",
       "  /* unfitted */\n",
       "  background-color: var(--sklearn-color-unfitted-level-2);\n",
       "}\n",
       "\n",
       "#sk-container-id-5 div.sk-estimator.fitted:hover {\n",
       "  /* fitted */\n",
       "  background-color: var(--sklearn-color-fitted-level-2);\n",
       "}\n",
       "\n",
       "/* Specification for estimator info (e.g. \"i\" and \"?\") */\n",
       "\n",
       "/* Common style for \"i\" and \"?\" */\n",
       "\n",
       ".sk-estimator-doc-link,\n",
       "a:link.sk-estimator-doc-link,\n",
       "a:visited.sk-estimator-doc-link {\n",
       "  float: right;\n",
       "  font-size: smaller;\n",
       "  line-height: 1em;\n",
       "  font-family: monospace;\n",
       "  background-color: var(--sklearn-color-background);\n",
       "  border-radius: 1em;\n",
       "  height: 1em;\n",
       "  width: 1em;\n",
       "  text-decoration: none !important;\n",
       "  margin-left: 0.5em;\n",
       "  text-align: center;\n",
       "  /* unfitted */\n",
       "  border: var(--sklearn-color-unfitted-level-1) 1pt solid;\n",
       "  color: var(--sklearn-color-unfitted-level-1);\n",
       "}\n",
       "\n",
       ".sk-estimator-doc-link.fitted,\n",
       "a:link.sk-estimator-doc-link.fitted,\n",
       "a:visited.sk-estimator-doc-link.fitted {\n",
       "  /* fitted */\n",
       "  border: var(--sklearn-color-fitted-level-1) 1pt solid;\n",
       "  color: var(--sklearn-color-fitted-level-1);\n",
       "}\n",
       "\n",
       "/* On hover */\n",
       "div.sk-estimator:hover .sk-estimator-doc-link:hover,\n",
       ".sk-estimator-doc-link:hover,\n",
       "div.sk-label-container:hover .sk-estimator-doc-link:hover,\n",
       ".sk-estimator-doc-link:hover {\n",
       "  /* unfitted */\n",
       "  background-color: var(--sklearn-color-unfitted-level-3);\n",
       "  color: var(--sklearn-color-background);\n",
       "  text-decoration: none;\n",
       "}\n",
       "\n",
       "div.sk-estimator.fitted:hover .sk-estimator-doc-link.fitted:hover,\n",
       ".sk-estimator-doc-link.fitted:hover,\n",
       "div.sk-label-container:hover .sk-estimator-doc-link.fitted:hover,\n",
       ".sk-estimator-doc-link.fitted:hover {\n",
       "  /* fitted */\n",
       "  background-color: var(--sklearn-color-fitted-level-3);\n",
       "  color: var(--sklearn-color-background);\n",
       "  text-decoration: none;\n",
       "}\n",
       "\n",
       "/* Span, style for the box shown on hovering the info icon */\n",
       ".sk-estimator-doc-link span {\n",
       "  display: none;\n",
       "  z-index: 9999;\n",
       "  position: relative;\n",
       "  font-weight: normal;\n",
       "  right: .2ex;\n",
       "  padding: .5ex;\n",
       "  margin: .5ex;\n",
       "  width: min-content;\n",
       "  min-width: 20ex;\n",
       "  max-width: 50ex;\n",
       "  color: var(--sklearn-color-text);\n",
       "  box-shadow: 2pt 2pt 4pt #999;\n",
       "  /* unfitted */\n",
       "  background: var(--sklearn-color-unfitted-level-0);\n",
       "  border: .5pt solid var(--sklearn-color-unfitted-level-3);\n",
       "}\n",
       "\n",
       ".sk-estimator-doc-link.fitted span {\n",
       "  /* fitted */\n",
       "  background: var(--sklearn-color-fitted-level-0);\n",
       "  border: var(--sklearn-color-fitted-level-3);\n",
       "}\n",
       "\n",
       ".sk-estimator-doc-link:hover span {\n",
       "  display: block;\n",
       "}\n",
       "\n",
       "/* \"?\"-specific style due to the `<a>` HTML tag */\n",
       "\n",
       "#sk-container-id-5 a.estimator_doc_link {\n",
       "  float: right;\n",
       "  font-size: 1rem;\n",
       "  line-height: 1em;\n",
       "  font-family: monospace;\n",
       "  background-color: var(--sklearn-color-background);\n",
       "  border-radius: 1rem;\n",
       "  height: 1rem;\n",
       "  width: 1rem;\n",
       "  text-decoration: none;\n",
       "  /* unfitted */\n",
       "  color: var(--sklearn-color-unfitted-level-1);\n",
       "  border: var(--sklearn-color-unfitted-level-1) 1pt solid;\n",
       "}\n",
       "\n",
       "#sk-container-id-5 a.estimator_doc_link.fitted {\n",
       "  /* fitted */\n",
       "  border: var(--sklearn-color-fitted-level-1) 1pt solid;\n",
       "  color: var(--sklearn-color-fitted-level-1);\n",
       "}\n",
       "\n",
       "/* On hover */\n",
       "#sk-container-id-5 a.estimator_doc_link:hover {\n",
       "  /* unfitted */\n",
       "  background-color: var(--sklearn-color-unfitted-level-3);\n",
       "  color: var(--sklearn-color-background);\n",
       "  text-decoration: none;\n",
       "}\n",
       "\n",
       "#sk-container-id-5 a.estimator_doc_link.fitted:hover {\n",
       "  /* fitted */\n",
       "  background-color: var(--sklearn-color-fitted-level-3);\n",
       "}\n",
       "</style><div id=\"sk-container-id-5\" class=\"sk-top-container\"><div class=\"sk-text-repr-fallback\"><pre>GridSearchCV(cv=5, estimator=RandomForestClassifier(),\n",
       "             param_grid={&#x27;max_depth&#x27;: [None, 10, 20, 30],\n",
       "                         &#x27;min_samples_split&#x27;: [2, 5, 10],\n",
       "                         &#x27;n_estimators&#x27;: [50, 100, 200]},\n",
       "             scoring=&#x27;accuracy&#x27;)</pre><b>In a Jupyter environment, please rerun this cell to show the HTML representation or trust the notebook. <br />On GitHub, the HTML representation is unable to render, please try loading this page with nbviewer.org.</b></div><div class=\"sk-container\" hidden><div class=\"sk-item sk-dashed-wrapped\"><div class=\"sk-label-container\"><div class=\"sk-label fitted sk-toggleable\"><input class=\"sk-toggleable__control sk-hidden--visually\" id=\"sk-estimator-id-9\" type=\"checkbox\" ><label for=\"sk-estimator-id-9\" class=\"sk-toggleable__label fitted sk-toggleable__label-arrow\"><div><div>GridSearchCV</div></div><div><a class=\"sk-estimator-doc-link fitted\" rel=\"noreferrer\" target=\"_blank\" href=\"https://scikit-learn.org/1.6/modules/generated/sklearn.model_selection.GridSearchCV.html\">?<span>Documentation for GridSearchCV</span></a><span class=\"sk-estimator-doc-link fitted\">i<span>Fitted</span></span></div></label><div class=\"sk-toggleable__content fitted\"><pre>GridSearchCV(cv=5, estimator=RandomForestClassifier(),\n",
       "             param_grid={&#x27;max_depth&#x27;: [None, 10, 20, 30],\n",
       "                         &#x27;min_samples_split&#x27;: [2, 5, 10],\n",
       "                         &#x27;n_estimators&#x27;: [50, 100, 200]},\n",
       "             scoring=&#x27;accuracy&#x27;)</pre></div> </div></div><div class=\"sk-parallel\"><div class=\"sk-parallel-item\"><div class=\"sk-item\"><div class=\"sk-label-container\"><div class=\"sk-label fitted sk-toggleable\"><input class=\"sk-toggleable__control sk-hidden--visually\" id=\"sk-estimator-id-10\" type=\"checkbox\" ><label for=\"sk-estimator-id-10\" class=\"sk-toggleable__label fitted sk-toggleable__label-arrow\"><div><div>best_estimator_: RandomForestClassifier</div></div></label><div class=\"sk-toggleable__content fitted\"><pre>RandomForestClassifier(min_samples_split=5)</pre></div> </div></div><div class=\"sk-serial\"><div class=\"sk-item\"><div class=\"sk-estimator fitted sk-toggleable\"><input class=\"sk-toggleable__control sk-hidden--visually\" id=\"sk-estimator-id-11\" type=\"checkbox\" ><label for=\"sk-estimator-id-11\" class=\"sk-toggleable__label fitted sk-toggleable__label-arrow\"><div><div>RandomForestClassifier</div></div><div><a class=\"sk-estimator-doc-link fitted\" rel=\"noreferrer\" target=\"_blank\" href=\"https://scikit-learn.org/1.6/modules/generated/sklearn.ensemble.RandomForestClassifier.html\">?<span>Documentation for RandomForestClassifier</span></a></div></label><div class=\"sk-toggleable__content fitted\"><pre>RandomForestClassifier(min_samples_split=5)</pre></div> </div></div></div></div></div></div></div></div></div>"
      ],
      "text/plain": [
       "GridSearchCV(cv=5, estimator=RandomForestClassifier(),\n",
       "             param_grid={'max_depth': [None, 10, 20, 30],\n",
       "                         'min_samples_split': [2, 5, 10],\n",
       "                         'n_estimators': [50, 100, 200]},\n",
       "             scoring='accuracy')"
      ]
     },
     "execution_count": 267,
     "metadata": {},
     "output_type": "execute_result"
    }
   ],
   "source": [
    "# Hyperparameter tuning for Random Forest\n",
    "grid_search_rf = GridSearchCV(RandomForestClassifier(), param_grid_rf, cv=5, scoring='accuracy')\n",
    "grid_search_rf.fit(x_train_vec, y_train)"
   ]
  },
  {
   "cell_type": "code",
   "execution_count": 268,
   "metadata": {},
   "outputs": [
    {
     "name": "stdout",
     "output_type": "stream",
     "text": [
      "Best Parameters for Logistic Regression: {'C': 1, 'solver': 'liblinear'}\n",
      "Best Accuracy for Logistic Regression: 0.7832512315270936\n",
      "Best Parameters for Random Forest: {'max_depth': None, 'min_samples_split': 5, 'n_estimators': 100}\n",
      "Best Accuracy for Random Forest: 0.771264367816092\n"
     ]
    }
   ],
   "source": [
    "# Display best parameters for each model\n",
    "print(f\"Best Parameters for Logistic Regression: {grid_search_lr.best_params_}\")\n",
    "print(f\"Best Accuracy for Logistic Regression: {grid_search_lr.best_score_}\")\n",
    "\n",
    "print(f\"Best Parameters for Random Forest: {grid_search_rf.best_params_}\")\n",
    "print(f\"Best Accuracy for Random Forest: {grid_search_rf.best_score_}\")"
   ]
  },
  {
   "cell_type": "code",
   "execution_count": 269,
   "metadata": {},
   "outputs": [
    {
     "name": "stdout",
     "output_type": "stream",
     "text": [
      "Logistic Regression model has been saved successfully!\n"
     ]
    }
   ],
   "source": [
    "import joblib\n",
    "\n",
    "# Save the best Logistic Regression model (after training)\n",
    "joblib.dump(grid_search_lr.best_estimator_, 'logistic_regression_model.pkl')\n",
    "\n",
    "print(\"Logistic Regression model has been saved successfully!\")"
   ]
  },
  {
   "cell_type": "markdown",
   "metadata": {},
   "source": [
    "Load the Saved Model Later:"
   ]
  },
  {
   "cell_type": "code",
   "execution_count": 270,
   "metadata": {},
   "outputs": [],
   "source": [
    "# Load the saved Logistic Regression model\n",
    "loaded_lr_model = joblib.load('logistic_regression_model.pkl')"
   ]
  },
  {
   "cell_type": "code",
   "execution_count": 271,
   "metadata": {},
   "outputs": [
    {
     "ename": "NameError",
     "evalue": "name 'x_test_scaled' is not defined",
     "output_type": "error",
     "traceback": [
      "\u001b[31m---------------------------------------------------------------------------\u001b[39m",
      "\u001b[31mNameError\u001b[39m                                 Traceback (most recent call last)",
      "\u001b[36mCell\u001b[39m\u001b[36m \u001b[39m\u001b[32mIn[271]\u001b[39m\u001b[32m, line 2\u001b[39m\n\u001b[32m      1\u001b[39m \u001b[38;5;66;03m# Example: Make predictions with the loaded model\u001b[39;00m\n\u001b[32m----> \u001b[39m\u001b[32m2\u001b[39m y_pred_loaded = loaded_lr_model.predict(\u001b[43mx_test_scaled\u001b[49m)\n",
      "\u001b[31mNameError\u001b[39m: name 'x_test_scaled' is not defined"
     ]
    }
   ],
   "source": [
    "# Example: Make predictions with the loaded model\n",
    "y_pred_loaded = loaded_lr_model.predict(x_test_scaled)"
   ]
  },
  {
   "cell_type": "code",
   "execution_count": null,
   "metadata": {},
   "outputs": [
    {
     "data": {
      "text/plain": [
       "array([0, 0, 1, ..., 1, 1, 1])"
      ]
     },
     "execution_count": 133,
     "metadata": {},
     "output_type": "execute_result"
    }
   ],
   "source": [
    "y_pred_loaded"
   ]
  },
  {
   "cell_type": "code",
   "execution_count": null,
   "metadata": {},
   "outputs": [],
   "source": [
    "# Evaluate the accuracy of the loaded model\n",
    "loaded_model_accuracy = accuracy_score(y_test, y_pred_loaded)"
   ]
  },
  {
   "cell_type": "code",
   "execution_count": null,
   "metadata": {},
   "outputs": [
    {
     "name": "stdout",
     "output_type": "stream",
     "text": [
      "Accuracy of loaded Logistic Regression model: 0.7649\n"
     ]
    }
   ],
   "source": [
    "print(f\"Accuracy of loaded Logistic Regression model: {loaded_model_accuracy:.4f}\")"
   ]
  },
  {
   "cell_type": "code",
   "execution_count": null,
   "metadata": {},
   "outputs": [
    {
     "data": {
      "image/png": "[encoded data removed]",
      "text/plain": [
       "<Figure size 640x480 with 1 Axes>"
      ]
     },
     "metadata": {},
     "output_type": "display_data"
    }
   ],
   "source": [
    "# Assuming you have accuracy values from the original model and loaded model\n",
    "original_accuracy = accuracy_score(y_test, y_pred)  # accuracy from the original model\n",
    "loaded_model_accuracy = accuracy_score(y_test, y_pred_loaded)  # accuracy from the loaded model\n",
    "\n",
    "# Create a bar chart to compare the accuracy\n",
    "labels = ['Original Model', 'Loaded Model']\n",
    "accuracy_values = [original_accuracy, loaded_model_accuracy]\n",
    "\n",
    "plt.bar(labels, accuracy_values, color=['blue', 'green'])\n",
    "plt.ylabel('Accuracy')\n",
    "plt.title('Accuracy Comparison: Original vs Loaded Model')\n",
    "plt.ylim([0, 1])  # Set y-axis from 0 to 1 for accuracy\n",
    "plt.show()"
   ]
  },
  {
   "cell_type": "code",
   "execution_count": null,
   "metadata": {},
   "outputs": [
    {
     "data": {
      "image/png": "[encoded data removed]",
      "text/plain": [
       "<Figure size 600x400 with 2 Axes>"
      ]
     },
     "metadata": {},
     "output_type": "display_data"
    }
   ],
   "source": [
    "\n",
    "# Get confusion matrix for the loaded model\n",
    "cm_loaded_model = confusion_matrix(y_test, y_pred_loaded)\n",
    "\n",
    "# Plot the confusion matrix\n",
    "plt.figure(figsize=(6, 4))\n",
    "sns.heatmap(cm_loaded_model, annot=True, fmt='d', cmap='Blues', xticklabels=['Non-Disaster', 'Disaster'], yticklabels=['Non-Disaster', 'Disaster'])\n",
    "plt.title('Confusion Matrix - Loaded Model')\n",
    "plt.xlabel('Predicted')\n",
    "plt.ylabel('True')\n",
    "plt.show()"
   ]
  },
  {
   "cell_type": "code",
   "execution_count": null,
   "metadata": {},
   "outputs": [
    {
     "ename": "NameError",
     "evalue": "name 'loaded_model' is not defined",
     "output_type": "error",
     "traceback": [
      "\u001b[31m---------------------------------------------------------------------------\u001b[39m",
      "\u001b[31mNameError\u001b[39m                                 Traceback (most recent call last)",
      "\u001b[36mCell\u001b[39m\u001b[36m \u001b[39m\u001b[32mIn[138]\u001b[39m\u001b[32m, line 4\u001b[39m\n\u001b[32m      1\u001b[39m \u001b[38;5;28;01mfrom\u001b[39;00m\u001b[38;5;250m \u001b[39m\u001b[34;01msklearn\u001b[39;00m\u001b[34;01m.\u001b[39;00m\u001b[34;01mmetrics\u001b[39;00m\u001b[38;5;250m \u001b[39m\u001b[38;5;28;01mimport\u001b[39;00m roc_curve, auc\n\u001b[32m      3\u001b[39m \u001b[38;5;66;03m# Get predicted probabilities for the positive class\u001b[39;00m\n\u001b[32m----> \u001b[39m\u001b[32m4\u001b[39m y_prob_loaded_model = \u001b[43mloaded_model\u001b[49m.predict_proba(x_test)[:, \u001b[32m1\u001b[39m]\n\u001b[32m      6\u001b[39m \u001b[38;5;66;03m# Compute ROC curve and AUC\u001b[39;00m\n\u001b[32m      7\u001b[39m fpr, tpr, thresholds = roc_curve(y_test, y_prob_loaded_model)\n",
      "\u001b[31mNameError\u001b[39m: name 'loaded_model' is not defined"
     ]
    }
   ],
   "source": [
    "from sklearn.metrics import roc_curve, auc\n",
    "\n",
    "# Get predicted probabilities for the positive class\n",
    "y_prob_loaded_model = loaded_model.predict_proba(x_test)[:, 1]\n",
    "\n",
    "# Compute ROC curve and AUC\n",
    "fpr, tpr, thresholds = roc_curve(y_test, y_prob_loaded_model)\n",
    "roc_auc = auc(fpr, tpr)\n",
    "\n",
    "# Plot the ROC curve\n",
    "plt.figure(figsize=(6, 4))\n",
    "plt.plot(fpr, tpr, color='blue', lw=2, label=f'Loaded Model (AUC = {roc_auc:.2f})')\n",
    "plt.plot([0, 1], [0, 1], color='gray', linestyle='--')  # Diagonal line for random guess\n",
    "plt.xlim([0.0, 1.0])\n",
    "plt.ylim([0.0, 1.05])\n",
    "plt.xlabel('False Positive Rate')\n",
    "plt.ylabel('True Positive Rate')\n",
    "plt.title('Receiver Operating Characteristic (ROC) Curve')\n",
    "plt.legend(loc='lower right')\n",
    "plt.show()"
   ]
  },
  {
   "cell_type": "code",
   "execution_count": null,
   "metadata": {},
   "outputs": [],
   "source": [
    "import matplotlib.pyplot as plt\n",
    "from sklearn.metrics import accuracy_score\n",
    "\n",
    "# Assuming you already have these values\n",
    "original_accuracy = accuracy_score(y_test, y_pred)  # accuracy from the original model\n",
    "loaded_model_accuracy = accuracy_score(y_test, y_pred_loaded)  # accuracy from the loaded model\n",
    "\n",
    "# Create a bar chart to compare the accuracy\n",
    "labels = ['Original Model', 'Loaded Model']\n",
    "accuracy_values = [original_accuracy, loaded_model_accuracy]\n",
    "\n",
    "plt.bar(labels, accuracy_values, color=['blue', 'green'])\n",
    "plt.ylabel('Accuracy')\n",
    "plt.title('Accuracy Comparison: Original vs Loaded Model')\n",
    "plt.ylim([0, 1])  # Set y-axis from 0 to 1 for accuracy\n",
    "plt.show()"
   ]
  },
  {
   "cell_type": "markdown",
   "metadata": {},
   "source": [
    "-------------------------------------------"
   ]
  }
 ],
 "metadata": {
  "kernelspec": {
   "display_name": "env",
   "language": "python",
   "name": "python3"
  },
  "language_info": {
   "codemirror_mode": {
    "name": "ipython",
    "version": 3
   },
   "file_extension": ".py",
   "mimetype": "text/x-python",
   "name": "python",
   "nbconvert_exporter": "python",
   "pygments_lexer": "ipython3",
   "version": "3.11.9"
  }
 },
 "nbformat": 4,
 "nbformat_minor": 2
}
